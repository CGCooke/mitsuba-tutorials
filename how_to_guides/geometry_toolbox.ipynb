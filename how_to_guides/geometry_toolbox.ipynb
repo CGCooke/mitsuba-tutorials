{
 "cells": [
  {
   "cell_type": "markdown",
   "metadata": {},
   "source": [
    "# Transformation toolbox"
   ]
  },
  {
   "cell_type": "code",
   "execution_count": 1,
   "metadata": {},
   "outputs": [],
   "source": [
    "# TODO hide this cell ?\n",
    "\n",
    "import mitsuba as mi\n",
    "\n",
    "mi.set_variant(\"cuda_ad_rgb\")"
   ]
  },
  {
   "cell_type": "markdown",
   "metadata": {},
   "source": [
    "## Frame\n",
    "\n",
    "The `mi.Frame3f` class stores a three-dimensional orthonormal coordinate frame. This class is very handy when you wish to convert vectors between different cartesian coordinates systems."
   ]
  },
  {
   "cell_type": "markdown",
   "metadata": {},
   "source": [
    "### Frame initialization"
   ]
  },
  {
   "cell_type": "code",
   "execution_count": 37,
   "metadata": {},
   "outputs": [
    {
     "data": {
      "text/plain": [
       "Frame[\n",
       "  s = [[1, -0, -0]],\n",
       "  t = [[-0, 0.666667, -1]],\n",
       "  n = [[0, 1, 2]]\n",
       "]"
      ]
     },
     "execution_count": 37,
     "metadata": {},
     "output_type": "execute_result"
    }
   ],
   "source": [
    "mi.Frame3f()  # Empty frame\n",
    "\n",
    "mi.Frame3f(\n",
    "    [1, 0, 0],  # s\n",
    "    [0, 1, 0],  # t\n",
    "    [0, 0, 1],  # n\n",
    ")\n",
    "\n",
    "mi.Frame3f([0, 1, 2])\n",
    "# Makes use of `mi.coordinate_system` to compute the other two\n",
    "# basis vectors"
   ]
  },
  {
   "cell_type": "markdown",
   "metadata": {},
   "source": [
    "### Converting to/from local frames\n",
    "\n",
    "- `mi.Frame3f.to_local`\n",
    "- `mi.Frame3f.to_world`\n",
    "\n",
    "Both of these methods are the main operations you will be using to convert between different coordinate frames."
   ]
  },
  {
   "cell_type": "code",
   "execution_count": 38,
   "metadata": {},
   "outputs": [
    {
     "data": {
      "text/plain": [
       "[[0.25, -3.5, 10.0]]"
      ]
     },
     "execution_count": 38,
     "metadata": {},
     "output_type": "execute_result"
    }
   ],
   "source": [
    "frame = mi.Frame3f([1, 2, 3])\n",
    "\n",
    "world_vector = mi.Vector3f([3, 2, 1])  # In world frame\n",
    "local_vector = frame.to_local(world_vector)\n",
    "local_vector"
   ]
  },
  {
   "cell_type": "markdown",
   "metadata": {},
   "source": [
    "### Spherical coordinates\n",
    "\n",
    "Mitsuba 3 provides convenience methods to efficiently compute certain trigonometric evaluations of spherical coordinates with respect to a `mi.Frame3f`. The naming convention used in these function is that theta is the elevation and phi is the azimuth.\n",
    "For example, it provides `mi.Frame3f.sin_theta_2` and `mi.Frame3f.cos_phi`. The full list of these methods is availble in the [reference API() #TODO link."
   ]
  },
  {
   "cell_type": "markdown",
   "metadata": {},
   "source": [
    "## Transform\n",
    "\n",
    "The `mi.Transform4f` and `mi.Transform3f` classes provides several functions to create common transformations, such as `translate`, `scale`, `rotate`, `look_at`. These are convenient to apply large transformations to a set of vertices for example. In fact, you can apply transforms to a `mi.Vector`, `mi.Point`, `mi.Normal` and even an `mi.Ray`. Note that all transforms are in homogenous coordiantes, `mi.Transform4f` can therefore be applied to 3-dimensional vectors and `mi.Transform3f` to 2-dimensional vectors.\n",
    "\n",
    "Any `mi.Transform` object holds both the matrix corresponding the original transform and its inverse transpose. For convenience, there is also a `mi.Transform4f.inverse` method. All put together, this makes transforming back and forth straightforward.\n",
    "\n",
    "#TODO Keep the non-Scalar/Scalar discussion here?\n",
    "- `<type>`: type variant corresponding to the enabled backend (e.g. `Float, Vector3f, Transform4f`, ...)\n",
    "- `Scalar<type>`: scalar variant type, agnostic to the enabled backend (e.g. `ScalarFloat, ScalarVector3f, ScalarTransform4f`, ...)"
   ]
  },
  {
   "cell_type": "markdown",
   "metadata": {},
   "source": [
    "### Transform initialization\n"
   ]
  },
  {
   "cell_type": "code",
   "execution_count": 39,
   "metadata": {},
   "outputs": [],
   "source": [
    "import numpy as np\n",
    "\n",
    "# Default constructor is identity matrix\n",
    "identity = mi.Transform4f()  \n",
    "\n",
    "np_mat = np.array(\n",
    "    [\n",
    "        [1, 2, 3],\n",
    "        [4, 5, 6],\n",
    "        [7, 8, 9],\n",
    "    ]\n",
    ")\n",
    "mi_mat = mi.Matrix3f(\n",
    "    [\n",
    "        [1, 2, 3],\n",
    "        [4, 5, 6],\n",
    "        [7, 8, 9],\n",
    "    ]\n",
    ")\n",
    "list_mat = [\n",
    "    [1, 2, 3],\n",
    "    [4, 5, 6],\n",
    "    [7, 8, 9],\n",
    "]\n",
    "\n",
    "# Build from different types\n",
    "t_from_np = mi.Transform3f(np_mat)\n",
    "t_from_mi = mi.Transform3f(mi_mat)\n",
    "t_from_list = mi.Transform3f(list_mat)\n",
    "\n",
    "# Broadcasting\n",
    "t_from_value = mi.Transform3f(3)  # Scaled identity matrix\n",
    "t_from_row = mi.Transform3f([3, 2, 3])  # Broadcast over matrix columns"
   ]
  },
  {
   "cell_type": "markdown",
   "metadata": {},
   "source": [
    "### Translate"
   ]
  },
  {
   "cell_type": "code",
   "execution_count": 40,
   "metadata": {},
   "outputs": [
    {
     "data": {
      "text/plain": [
       "[[[1, 0, 0, 10],\n",
       "  [0, 1, 0, 20],\n",
       "  [0, 0, 1, 30],\n",
       "  [0, 0, 0, 1]]]"
      ]
     },
     "execution_count": 40,
     "metadata": {},
     "output_type": "execute_result"
    }
   ],
   "source": [
    "mi.Transform4f.translate([10, 20, 30])"
   ]
  },
  {
   "cell_type": "markdown",
   "metadata": {},
   "source": [
    "### Scale"
   ]
  },
  {
   "cell_type": "code",
   "execution_count": 41,
   "metadata": {},
   "outputs": [
    {
     "data": {
      "text/plain": [
       "[[[10, 0, 0, 0],\n",
       "  [0, 20, 0, 0],\n",
       "  [0, 0, 30, 0],\n",
       "  [0, 0, 0, 1]]]"
      ]
     },
     "execution_count": 41,
     "metadata": {},
     "output_type": "execute_result"
    }
   ],
   "source": [
    "mi.Transform4f.scale([10, 20, 30])"
   ]
  },
  {
   "cell_type": "markdown",
   "metadata": {},
   "source": [
    "### Rotate"
   ]
  },
  {
   "cell_type": "code",
   "execution_count": 42,
   "metadata": {},
   "outputs": [
    {
     "data": {
      "text/plain": [
       "[[[0.984808, 0, 0.173648, 0],\n",
       "  [0, 1, 0, 0],\n",
       "  [-0.173648, 0, 0.984808, 0],\n",
       "  [0, 0, 0, 1]]]"
      ]
     },
     "execution_count": 42,
     "metadata": {},
     "output_type": "execute_result"
    }
   ],
   "source": [
    "mi.Transform4f.rotate(axis=[0, 1, 0], angle=10)"
   ]
  },
  {
   "cell_type": "markdown",
   "metadata": {},
   "source": [
    "### Look at"
   ]
  },
  {
   "cell_type": "code",
   "execution_count": 43,
   "metadata": {},
   "outputs": [
    {
     "data": {
      "text/plain": [
       "[[[0, 0, -1, 1],\n",
       "  [-1, 0, 0, 0],\n",
       "  [0, 1, 0, 0],\n",
       "  [0, 0, 0, 1]]]"
      ]
     },
     "execution_count": 43,
     "metadata": {},
     "output_type": "execute_result"
    }
   ],
   "source": [
    "mi.Transform4f.look_at(origin=[1, 0, 0], target=[0, 0, 0], up=[0, 0, 1])"
   ]
  },
  {
   "cell_type": "markdown",
   "metadata": {},
   "source": [
    "### Orthohraphic/perspective"
   ]
  },
  {
   "cell_type": "code",
   "execution_count": 50,
   "metadata": {},
   "outputs": [
    {
     "name": "stdout",
     "output_type": "stream",
     "text": [
      "mi.Transform4f.perspective(fov=45, near=0.1, far=10)=[[[2.41421, 0, 0, 0],\n",
      "  [0, 2.41421, 0, 0],\n",
      "  [0, 0, 1.0101, -0.10101],\n",
      "  [0, 0, 1, 0]]]\n",
      "mi.Transform4f.orthographic(near=0.1, far=10)=[[[1, 0, 0, 0],\n",
      "  [0, 1, 0, 0],\n",
      "  [0, 0, 0.10101, -0.010101],\n",
      "  [0, 0, 0, 1]]]\n"
     ]
    }
   ],
   "source": [
    "print(f\"{mi.Transform4f.perspective(fov=45, near=0.1, far=10)=}\")\n",
    "print(f\"{mi.Transform4f.orthographic(near=0.1, far=10)=}\")"
   ]
  },
  {
   "cell_type": "markdown",
   "metadata": {},
   "source": [
    "### From/to frame\n",
    "\n",
    "⚠️ Only available for Transform4f"
   ]
  },
  {
   "cell_type": "markdown",
   "metadata": {},
   "source": [
    "### Applying transforms\n",
    "\n",
    "The Python `@` (`__matmul__`) operator can be used to apply `mi.Transform` objects to points, vectors, normals and rays or multiply transforms with other transforms. Depending on the operand's type, the operation has a slightly different output.\n",
    "\n",
    "- `mi.Vector3f`: A typical matrix multiplication\n",
    "- `mi.Point`: Adjusted matrix multiplication taking into account homogenous coordinates\n",
    "- `mi.Normal`: Matrix multiplication using the inverse transpose to guarantee that the output is still normalized\n",
    "- `mi.Ray`: Both the ray origin (`mi.Point`) and the ray direction (`mi.Vector`) are transformed with the `@` operator\n",
    "- `mi.Transform`: \n",
    "\n",
    "#TODO Show chaining of operations too"
   ]
  },
  {
   "cell_type": "code",
   "execution_count": 63,
   "metadata": {},
   "outputs": [
    {
     "name": "stdout",
     "output_type": "stream",
     "text": [
      "t @ v=[[3.0, 8.0, 15.0]]\n",
      "t @ p=[[3.0, 9.0, 17.0]]\n",
      "t @ n=[[3.0, 2.0, 1.6666667461395264]]\n"
     ]
    }
   ],
   "source": [
    "t = mi.Transform4f.translate([0, 1, 2])\n",
    "t = t * mi.Transform4f.scale([1, 2, 3])\n",
    "v = mi.Vector3f([3, 4, 5])\n",
    "p = mi.Point3f([3, 4, 5])\n",
    "n = mi.Normal3f([3, 4, 5])\n",
    "\n",
    "\n",
    "print(f\"{t @ v=}\")\n",
    "print(f\"{t @ p=}\")\n",
    "print(f\"{t @ n=}\")"
   ]
  },
  {
   "cell_type": "code",
   "execution_count": null,
   "metadata": {},
   "outputs": [],
   "source": []
  }
 ],
 "metadata": {
  "file_extension": ".py",
  "interpreter": {
   "hash": "31f2aee4e71d21fbe5cf8b01ff0e069b9275f58929596ceb00d14d90e3e16cd6"
  },
  "kernelspec": {
   "display_name": "Python 3 (ipykernel)",
   "language": "python",
   "name": "python3"
  },
  "language_info": {
   "codemirror_mode": {
    "name": "ipython",
    "version": 3
   },
   "file_extension": ".py",
   "mimetype": "text/x-python",
   "name": "python",
   "nbconvert_exporter": "python",
   "pygments_lexer": "ipython3",
   "version": "3.8.10"
  },
  "metadata": {
   "interpreter": {
    "hash": "31f2aee4e71d21fbe5cf8b01ff0e069b9275f58929596ceb00d14d90e3e16cd6"
   }
  },
  "mimetype": "text/x-python",
  "name": "python",
  "npconvert_exporter": "python",
  "pygments_lexer": "ipython3",
  "version": 3
 },
 "nbformat": 4,
 "nbformat_minor": 4
}
