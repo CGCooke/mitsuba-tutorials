{
 "cells": [
  {
   "cell_type": "markdown",
   "metadata": {},
   "source": [
    "# Transformation toolbox"
   ]
  },
  {
   "cell_type": "markdown",
   "metadata": {},
   "source": [
    "This how-to guide explores the different tools available in Mitsuba 3 to manipulate cartesian coordinate systems. When generating a dataset, researching advanced light transport algorithm, or developping new appearance models, you will quickly realize how essential those tools, so we strongly recommend all users to take a time to go through this guide."
   ]
  },
  {
   "cell_type": "code",
   "execution_count": 8,
   "metadata": {
    "nbsphinx": "hidden",
    "tags": []
   },
   "outputs": [],
   "source": [
    "import drjit as dr\n",
    "import mitsuba as mi\n",
    "\n",
    "mi.set_variant(\"scalar_rgb\")"
   ]
  },
  {
   "cell_type": "markdown",
   "metadata": {},
   "source": [
    "## Frame\n",
    "\n",
    "The [<code>Frame3f</code>][1] class stores a three-dimensional orthonormal coordinate frame. This class is very handy when you wish to convert vectors between different cartesian coordinates systems.\n",
    "\n",
    "[1]: https://mitsuba3.readthedocs.io/en/latest/src/api_reference.html#mitsuba.Frame3f"
   ]
  },
  {
   "cell_type": "markdown",
   "metadata": {},
   "source": [
    "### Frame initialization\n",
    "\n",
    "A `Frame3f` can be initialized in different ways as shown below. When given a single vector, it will make use of [<code>coordinate_system()</code>][1] to compute the other two basis vectors.\n",
    "\n",
    "[1]: https://mitsuba3.readthedocs.io/en/latest/src/api_reference.html#mitsuba.coordinate_system"
   ]
  },
  {
   "cell_type": "code",
   "execution_count": 12,
   "metadata": {},
   "outputs": [
    {
     "data": {
      "text/plain": [
       "Frame[\n",
       "  s = [1, -0, -0],\n",
       "  t = [-0, 0, -1],\n",
       "  n = [0, 1, 0]\n",
       "]"
      ]
     },
     "execution_count": 12,
     "metadata": {},
     "output_type": "execute_result"
    }
   ],
   "source": [
    "mi.Frame3f()  # Empty frame\n",
    "\n",
    "mi.Frame3f(\n",
    "    [1, 0, 0],  # s\n",
    "    [0, 1, 0],  # t\n",
    "    [0, 0, 1],  # n\n",
    ")\n",
    "\n",
    "mi.Frame3f([0, 1, 0])"
   ]
  },
  {
   "cell_type": "markdown",
   "metadata": {},
   "source": [
    "### Converting to/from local frames\n",
    "\n",
    "The two methods below are the main operations you will be using to convert between different coordinate frames.\n",
    "\n",
    "- [<code>Frame3f.to_local()</code>][1]\n",
    "- [<code>Frame3f.to_world()</code>][2]\n",
    "\n",
    "[1]: https://mitsuba3.readthedocs.io/en/latest/src/api_reference.html#mitsuba.Frame3f.to_local\n",
    "[2]: https://mitsuba3.readthedocs.io/en/latest/src/api_reference.html#mitsuba.Frame3f.to_world"
   ]
  },
  {
   "cell_type": "code",
   "execution_count": 14,
   "metadata": {},
   "outputs": [
    {
     "data": {
      "text/plain": [
       "[0.25, -3.5, 10.0]"
      ]
     },
     "execution_count": 14,
     "metadata": {},
     "output_type": "execute_result"
    }
   ],
   "source": [
    "frame = mi.Frame3f([1, 2, 3])\n",
    "\n",
    "world_vector = mi.Vector3f([3, 2, 1])  # In world frame\n",
    "local_vector = frame.to_local(world_vector)\n",
    "local_vector"
   ]
  },
  {
   "cell_type": "markdown",
   "metadata": {},
   "source": [
    "### Spherical coordinates\n",
    "\n",
    "Mitsuba 3 provides convenience methods to efficiently compute certain trigonometric evaluations of spherical coordinates with respect to a `Frame3f`. The naming convention used in these function is that theta is the elevation and phi is the azimuth.\n",
    "For example, it provides `Frame3f.sin_theta_2()` and `Frame3f.cos_phi()`. As always, the full list of these methods is availble in the [reference API][1].\n",
    "\n",
    "[1]: https://mitsuba3.readthedocs.io/en/latest/src/api_reference.html#mitsuba.Frame3f"
   ]
  },
  {
   "cell_type": "markdown",
   "metadata": {},
   "source": [
    "## Transform\n",
    "\n",
    "The `Transform4f` and `Transform3f` classes provides several static functions to create common transformations, such as `translate`, `scale`, `rotate`, `look_at`. These are often used for setting `\"to_world\"` object parameters in Python using `load_dict()`. As we will see later, those transformations can also be applied to a `Vector`, `Point`, `Normal` and even an `Ray3f`. \n",
    "\n",
    "Note that all transforms are in homogenous coordiantes, `Transform4f` can therefore be applied to 3-dimensional objects and `Transform3f` to 2-dimensional objects.\n",
    "\n",
    "The `Transform4f` and `Transform3f` object holds both the matrix corresponding the original transform and its inverse transpose. For convenience, there is also a `Transform4f.inverse()` method. All put together, this makes transforming back and forth straightforward.\n",
    "\n",
    "<div class=\"admonition important alert alert-block alert-info\">\n",
    "\n",
    "🗒 **Note**\n",
    "\n",
    "Often when working with a vectorized variant of Mitsuba (e.g. `llvm_ad_rgb`), we still want to work with scalar transformation, for instance in the context of scene loading when setting to_world transformations. Mitsuba data-structure types such a `Transform4f` can be prefixed with `Scalar` to indicates that no matter which variant of Mitsuba is enabled, this type should always refer to the CPU scalar transformation type (which can also be accessed with `mitsuba.scalar_rgb.Transform4f`. The same applies to all basic types (e.g. `Float`, `UInt32`) and other data-structure type (e.g. `Ray3f`, `SurfaceInteraction3f`) which can all be prefixed with `Scalar`.\n",
    "\n",
    "</div>"
   ]
  },
  {
   "cell_type": "markdown",
   "metadata": {},
   "source": [
    "### Transform initialization\n",
    "\n",
    "There are several ways to instanciate a transformation object. For example one can create a `Transform4f` from a `numpy` array directly, or a simple Python `list`.\n"
   ]
  },
  {
   "cell_type": "code",
   "execution_count": 15,
   "metadata": {},
   "outputs": [
    {
     "data": {
      "text/plain": [
       "[[3, 3, 3],\n",
       " [2, 2, 2],\n",
       " [3, 3, 3]]"
      ]
     },
     "execution_count": 15,
     "metadata": {},
     "output_type": "execute_result"
    }
   ],
   "source": [
    "import numpy as np\n",
    "\n",
    "# Default constructor is identity matrix\n",
    "identity = mi.Transform4f()  \n",
    "\n",
    "np_mat = np.array(\n",
    "    [\n",
    "        [1, 2, 3],\n",
    "        [4, 5, 6],\n",
    "        [7, 8, 9],\n",
    "    ]\n",
    ")\n",
    "mi_mat = mi.Matrix3f(\n",
    "    [\n",
    "        [1, 2, 3],\n",
    "        [4, 5, 6],\n",
    "        [7, 8, 9],\n",
    "    ]\n",
    ")\n",
    "list_mat = [\n",
    "    [1, 2, 3],\n",
    "    [4, 5, 6],\n",
    "    [7, 8, 9],\n",
    "]\n",
    "\n",
    "# Build from different types\n",
    "t_from_np = mi.Transform3f(np_mat)\n",
    "t_from_mi = mi.Transform3f(mi_mat)\n",
    "t_from_list = mi.Transform3f(list_mat)\n",
    "\n",
    "# Broadcasting\n",
    "t_from_value = mi.Transform3f(3)  # Scaled identity matrix\n",
    "t_from_row = mi.Transform3f([3, 2, 3])  # Broadcast over matrix columns\n",
    "t_from_row"
   ]
  },
  {
   "cell_type": "markdown",
   "metadata": {},
   "source": [
    "We then have a few static function helpful to construct common transformations:"
   ]
  },
  {
   "cell_type": "markdown",
   "metadata": {},
   "source": [
    "#### Translate"
   ]
  },
  {
   "cell_type": "code",
   "execution_count": 40,
   "metadata": {},
   "outputs": [
    {
     "data": {
      "text/plain": [
       "[[[1, 0, 0, 10],\n",
       "  [0, 1, 0, 20],\n",
       "  [0, 0, 1, 30],\n",
       "  [0, 0, 0, 1]]]"
      ]
     },
     "execution_count": 40,
     "metadata": {},
     "output_type": "execute_result"
    }
   ],
   "source": [
    "mi.Transform4f.translate([10, 20, 30])"
   ]
  },
  {
   "cell_type": "markdown",
   "metadata": {},
   "source": [
    "#### Scale"
   ]
  },
  {
   "cell_type": "code",
   "execution_count": 41,
   "metadata": {},
   "outputs": [
    {
     "data": {
      "text/plain": [
       "[[[10, 0, 0, 0],\n",
       "  [0, 20, 0, 0],\n",
       "  [0, 0, 30, 0],\n",
       "  [0, 0, 0, 1]]]"
      ]
     },
     "execution_count": 41,
     "metadata": {},
     "output_type": "execute_result"
    }
   ],
   "source": [
    "mi.Transform4f.scale([10, 20, 30])"
   ]
  },
  {
   "cell_type": "markdown",
   "metadata": {},
   "source": [
    "#### Rotate"
   ]
  },
  {
   "cell_type": "code",
   "execution_count": 42,
   "metadata": {},
   "outputs": [
    {
     "data": {
      "text/plain": [
       "[[[0.984808, 0, 0.173648, 0],\n",
       "  [0, 1, 0, 0],\n",
       "  [-0.173648, 0, 0.984808, 0],\n",
       "  [0, 0, 0, 1]]]"
      ]
     },
     "execution_count": 42,
     "metadata": {},
     "output_type": "execute_result"
    }
   ],
   "source": [
    "mi.Transform4f.rotate(axis=[0, 1, 0], angle=10)"
   ]
  },
  {
   "cell_type": "markdown",
   "metadata": {},
   "source": [
    "#### Look at"
   ]
  },
  {
   "cell_type": "code",
   "execution_count": 43,
   "metadata": {},
   "outputs": [
    {
     "data": {
      "text/plain": [
       "[[[0, 0, -1, 1],\n",
       "  [-1, 0, 0, 0],\n",
       "  [0, 1, 0, 0],\n",
       "  [0, 0, 0, 1]]]"
      ]
     },
     "execution_count": 43,
     "metadata": {},
     "output_type": "execute_result"
    }
   ],
   "source": [
    "mi.Transform4f.look_at(origin=[1, 0, 0], target=[0, 0, 0], up=[0, 0, 1])"
   ]
  },
  {
   "cell_type": "markdown",
   "metadata": {},
   "source": [
    "#### Orthohraphic/perspective"
   ]
  },
  {
   "cell_type": "code",
   "execution_count": 50,
   "metadata": {},
   "outputs": [
    {
     "name": "stdout",
     "output_type": "stream",
     "text": [
      "mi.Transform4f.perspective(fov=45, near=0.1, far=10)=[[[2.41421, 0, 0, 0],\n",
      "  [0, 2.41421, 0, 0],\n",
      "  [0, 0, 1.0101, -0.10101],\n",
      "  [0, 0, 1, 0]]]\n",
      "mi.Transform4f.orthographic(near=0.1, far=10)=[[[1, 0, 0, 0],\n",
      "  [0, 1, 0, 0],\n",
      "  [0, 0, 0.10101, -0.010101],\n",
      "  [0, 0, 0, 1]]]\n"
     ]
    }
   ],
   "source": [
    "print(f\"{mi.Transform4f.perspective(fov=45, near=0.1, far=10)=}\")\n",
    "print(f\"{mi.Transform4f.orthographic(near=0.1, far=10)=}\")"
   ]
  },
  {
   "cell_type": "markdown",
   "metadata": {},
   "source": [
    "### From/to frame\n",
    "\n",
    "<div class=\"admonition important alert alert-block alert-warning\">\n",
    "\n",
    "⚠️ Only available for Transform4f\n",
    "    \n",
    "</div>"
   ]
  },
  {
   "cell_type": "code",
   "execution_count": 19,
   "metadata": {},
   "outputs": [
    {
     "data": {
      "text/plain": [
       "[[1, -0, 0, 0],\n",
       " [-0, 1, 0, 0],\n",
       " [-0, -0, 1, 0],\n",
       " [0, 0, 0, 1]]"
      ]
     },
     "execution_count": 19,
     "metadata": {},
     "output_type": "execute_result"
    }
   ],
   "source": [
    "frame = mi.Frame3f([0, 0, 1])\n",
    "mi.Transform4f.to_frame(frame)"
   ]
  },
  {
   "cell_type": "markdown",
   "metadata": {},
   "source": [
    "#### Chain initialization\n",
    "\n",
    "For convinience, it is also possible to chain transformation intialization as follow:\n",
    "\n",
    "```python\n",
    "mi.Transform4f.scale(2.0).translate([1, 0, 0])\n",
    "```"
   ]
  },
  {
   "cell_type": "markdown",
   "metadata": {},
   "source": [
    "### Applying transforms\n",
    "\n",
    "The Python `@` (`__matmul__`) operator can be used to apply `Transform` objects to points, vectors, normals and rays or multiply transforms with other transforms. Depending on the operand's type, the operation has a slightly different output.\n",
    "\n",
    "- `Vector3f`: A typical matrix multiplication\n",
    "- `Point3f`: Adjusted matrix multiplication taking into account homogenous coordinates\n",
    "- `Normal3f`: Matrix multiplication using the inverse transpose to guarantee that the output is still normalized\n",
    "- `Ray3f`: Both the ray origin (`mi.Point`) and the ray direction (`mi.Vector`) are transformed with the `@` operator\n",
    "- `Transform4f`: Combine both transformation. "
   ]
  },
  {
   "cell_type": "code",
   "execution_count": 20,
   "metadata": {},
   "outputs": [
    {
     "name": "stdout",
     "output_type": "stream",
     "text": [
      "t @ v=[3.0, 8.0, 15.0]\n",
      "t @ p=[3.0, 9.0, 17.0]\n",
      "t @ n=[3.0, 2.0, 1.6666667461395264]\n"
     ]
    }
   ],
   "source": [
    "t = mi.Transform4f.translate([0, 1, 2])\n",
    "t = t * mi.Transform4f.scale([1, 2, 3])\n",
    "v = mi.Vector3f([3, 4, 5])\n",
    "p = mi.Point3f([3, 4, 5])\n",
    "n = mi.Normal3f([3, 4, 5])\n",
    "\n",
    "print(f\"{t @ v=}\")\n",
    "print(f\"{t @ p=}\")\n",
    "print(f\"{t @ n=}\")"
   ]
  }
 ],
 "metadata": {
  "file_extension": ".py",
  "interpreter": {
   "hash": "31f2aee4e71d21fbe5cf8b01ff0e069b9275f58929596ceb00d14d90e3e16cd6"
  },
  "kernelspec": {
   "display_name": "Python 3 (ipykernel)",
   "language": "python",
   "name": "python3"
  },
  "language_info": {
   "codemirror_mode": {
    "name": "ipython",
    "version": 3
   },
   "file_extension": ".py",
   "mimetype": "text/x-python",
   "name": "python",
   "nbconvert_exporter": "python",
   "pygments_lexer": "ipython3",
   "version": "3.9.12"
  },
  "metadata": {
   "interpreter": {
    "hash": "31f2aee4e71d21fbe5cf8b01ff0e069b9275f58929596ceb00d14d90e3e16cd6"
   }
  },
  "mimetype": "text/x-python",
  "name": "python",
  "npconvert_exporter": "python",
  "pygments_lexer": "ipython3",
  "version": 3
 },
 "nbformat": 4,
 "nbformat_minor": 4
}
