{
 "cells": [
  {
   "cell_type": "markdown",
   "metadata": {},
   "source": [
    "# Mesh manipulation"
   ]
  },
  {
   "cell_type": "code",
   "execution_count": 1,
   "metadata": {},
   "outputs": [],
   "source": [
    "# TODO hide this cell ?\n",
    "\n",
    "import mitsuba as mi\n",
    "\n",
    "mi.set_variant(\"cuda_ad_rgb\")"
   ]
  },
  {
   "cell_type": "markdown",
   "metadata": {},
   "source": [
    "## Read a mesh from disk\n",
    "\n",
    "Mitsuba provides an abstract `mi.Shape` class to handle all geometric shapes. For triangle meshes, it has a concrete class `mi.Mesh` that is further extended by 3 plugins which can load meshes directly from a file:\n",
    "\n",
    "- [Wavefront OBJ](): # TODO (link)\n",
    "\n",
    "- [PLY](): # TODO (link)\n",
    "\n",
    "- [Serialized](): # TODO (link) \n",
    "\n",
    ".#TODO comment about differences of plugins ?\n",
    "\n",
    "As any other Mitsuba object, we can use the `mi.load_dict` function to instantiate one of these three plugins. They each have their own specific input parameters which you'll find in their respective documentaion, but here are the input parameters they all share:\n",
    "\n",
    "- **filename**: Filename of the mesh file that should be loaded\n",
    "\n",
    "- **face_normals**: When set to true, any existing or computed vertex normals are discarded and face normals will instead be used during rendering. This gives the rendered object a faceted appearance.\n",
    "\n",
    "- **to_world**: Specifies an linear object-to-world transformation. "
   ]
  },
  {
   "cell_type": "code",
   "execution_count": 2,
   "metadata": {},
   "outputs": [
    {
     "name": "stdout",
     "output_type": "stream",
     "text": [
      "PLYMesh[\n",
      "  name = \"bunny.ply\",\n",
      "  bbox = BoundingBox3f[\n",
      "    min = [-0.0785918, -0.0623055, -0.0730216],\n",
      "    max = [0.0868213, 0.0980685, 0.0476517]\n",
      "  ],\n",
      "  vertex_count = 208349,\n",
      "  vertices = [4.77 MiB of vertex data],\n",
      "  face_count = 69451,\n",
      "  faces = [814 KiB of face data],\n",
      "  face_normals = 0\n",
      "]\n"
     ]
    }
   ],
   "source": [
    "bunny = mi.load_dict(\n",
    "    {\n",
    "        \"type\": \"ply\",\n",
    "        \"filename\": \"../scenes/meshes/bunny.ply\",\n",
    "        \"face_normals\": False,\n",
    "        \"to_world\": mi.ScalarTransform4f.rotate([0, 0, 1], angle=10),\n",
    "    }\n",
    ")\n",
    "\n",
    "print(bunny) # TODO: Remove print once vcall tracing is fixed"
   ]
  },
  {
   "cell_type": "markdown",
   "metadata": {},
   "source": [
    "The string representation of a `mi.Mesh` object gives an overview of its size. If you wish to access some of these values, they are available through the following methods `mi.Shape.bbox`, `mi.Mesh.vertex_count`, `mi.Mesh.face_count`. Direct access to the vertex and face data of the mesh is possible with the `mi.Mesh.face_buffer`, `mi.Mesh.vertex_normals_buffer`, `mi.Mesh.vertex_positions_buffer` and `mi.Mesh.vertex_texcoords_buffer` methods. Each one of the methods also has its individual version which can return data for a single face/vertex by accessing it through its index. Respectively, these methods are: `mi.Mesh.face_indices`, `mi.Mesh.vertex_normal`, `mi.Mesh.vertex_position`, `mi.Mesh.vertex_normal`."
   ]
  },
  {
   "cell_type": "markdown",
   "metadata": {},
   "source": [
    "## Procedural mesh \n",
    "\n",
    "By directly using the `mi.Mesh` class, it is also possible to procedurally create a mesh. \n",
    "\n",
    "To illustrate this, we will build a spanning triangle disk and give it a wavy fringe. The exact details of how the vertex positions and face indices are generated are not important for the purposes of this guide. However, we do leave them as comments in the code."
   ]
  },
  {
   "cell_type": "code",
   "execution_count": 3,
   "metadata": {},
   "outputs": [],
   "source": [
    "# Wavy disk construction\n",
    "#\n",
    "# Let N define the total number of vertices, the first N-1 vertices will compose\n",
    "# the fringe of the disk, while the last vertex should be placed at the center.\n",
    "# The first N-1 vertices must have their height modified such that they oscillate\n",
    "# with some given frequency and amplitude. To compute the face indices, we define\n",
    "# the first vertex of every face to be the vertex at the center (idx=N-1) and the\n",
    "# other two can be assigned sequentially (modulo N-2).\n",
    "\n",
    "import drjit as dr\n",
    "\n",
    "# Disk with a wavy fringe parameters\n",
    "N = 100\n",
    "frequency = 12.0\n",
    "amplitude = 0.4\n",
    "\n",
    "# Generate the vertex positions\n",
    "theta = dr.linspace(mi.Float, 0.0, dr.TwoPi, N)\n",
    "x, y = dr.sincos(theta)\n",
    "z = amplitude * dr.sin(theta * frequency)\n",
    "vertex_pos = mi.Point3f(x, y, z)\n",
    "\n",
    "# Move the last vertex to the center\n",
    "vertex_pos[dr.eq(dr.arange(mi.UInt32, N), N - 1)] = 0.0\n",
    "\n",
    "# Generate the face indices\n",
    "idx = dr.arange(mi.UInt32, N - 1)\n",
    "face_indices = mi.Vector3u(N - 1, (idx + 1) % (N - 2), idx % (N - 2))"
   ]
  },
  {
   "cell_type": "markdown",
   "metadata": {},
   "source": [
    "The `mi.Mesh` constructor allocates all the necessary buffers to hold its data. Specifically, the constructor takes as arguments the number of vertices and faces which will then be fixed. It is not possible to edit a mesh in a way that would require the buffers to be resized (more/less faces for examples), a new `mi.Mesh` would need to be created for such use cases.\n",
    "The constructor can also takes two boolean arguments `has_vertex_normals` and `has_vertex_texcoords` that must also be know at the construction of the object, in order to allocate the appropriate buffers."
   ]
  },
  {
   "cell_type": "code",
   "execution_count": 4,
   "metadata": {},
   "outputs": [],
   "source": [
    "# Create an empty mesh (allocates buffers of the correct size)\n",
    "mesh = mi.Mesh(\n",
    "    \"wavydisk\",\n",
    "    vertex_count=N,\n",
    "    face_count=N - 1,\n",
    "    has_vertex_normals=False,\n",
    "    has_vertex_texcoords=False,\n",
    ")"
   ]
  },
  {
   "cell_type": "markdown",
   "metadata": {},
   "source": [
    "There are two different ways in which we can assign our existing vertex positions and face indices to the newly created `mi.Mesh` object.\n",
    "\n",
    "The first option makes use of the provided `_buffer` suffixed methods of `mi.Mesh`, such as `mi.Mesh.vertex_positions_buffer` to directly assign new values. Some changes might require the mesh's bounding box to be updated, or the vertex normals to be recomputed. The two methods `mi.Mesh.recompute_bbox` and `mi.Mesh.recompute_vertex_normals` do exactly that, it is up to the caller to decide whether or not it is necessary to use them."
   ]
  },
  {
   "cell_type": "code",
   "execution_count": 5,
   "metadata": {},
   "outputs": [],
   "source": [
    "vertex_pos_buffer = mesh.vertex_positions_buffer()\n",
    "dr.scatter(\n",
    "    vertex_pos_buffer,\n",
    "    dr.ravel(vertex_pos),  # Flat continuous arrays are expected for the buffers\n",
    "    dr.arange(mi.UInt, 3 * N),\n",
    ")\n",
    "\n",
    "face_indices_buffer = mesh.faces_buffer()\n",
    "dr.scatter(\n",
    "    face_indices_buffer,\n",
    "    dr.ravel(face_indices),  # Flat continuous arrays are expected for the buffers\n",
    "    dr.arange(mi.UInt, 3 * (N - 1)),\n",
    ")\n",
    "\n",
    "mesh.recompute_bbox()"
   ]
  },
  {
   "cell_type": "markdown",
   "metadata": {},
   "source": [
    "The second option use the `mi.traverse` mechanism. All of the allocated buffers of a `mi.Mesh` object are exposed, and can therefore be modified with this mechanism. This approach has the advantage of simplifying some of the assignment operations. In addition, if any vertex position is modified, a call to `mi.SceneParameters.update` will trigger both the bounding box and vertex normals recomputations. "
   ]
  },
  {
   "cell_type": "code",
   "execution_count": 6,
   "metadata": {},
   "outputs": [],
   "source": [
    "mesh_params = mi.traverse(mesh)\n",
    "# Flat continuous arrays are expected for the buffers\n",
    "mesh_params[\"vertex_positions\"] = dr.ravel(vertex_pos)\n",
    "mesh_params[\"faces\"] = dr.ravel(face_indices)\n",
    "mesh_params.update()"
   ]
  },
  {
   "cell_type": "markdown",
   "metadata": {},
   "source": [
    "Let's take a look at our new mesh!"
   ]
  },
  {
   "cell_type": "code",
   "execution_count": 7,
   "metadata": {},
   "outputs": [
    {
     "data": {
      "text/plain": [
       "<matplotlib.image.AxesImage at 0x7f4322386be0>"
      ]
     },
     "execution_count": 7,
     "metadata": {},
     "output_type": "execute_result"
    },
    {
     "data": {
      "image/png": "[encoded data removed]",
      "text/plain": [
       "<Figure size 432x288 with 1 Axes>"
      ]
     },
     "metadata": {
      "needs_background": "light"
     },
     "output_type": "display_data"
    }
   ],
   "source": [
    "scene = mi.load_dict(\n",
    "    {\n",
    "        \"type\": \"scene\",\n",
    "        \"integrator\": {\"type\": \"path\"},\n",
    "        \"light\": {\"type\": \"constant\"},\n",
    "        \"sensor\": {\n",
    "            \"type\": \"perspective\",\n",
    "            \"to_world\": mi.ScalarTransform4f.look_at(\n",
    "                origin=[0, -5, 5], target=[0, 0, 0], up=[0, 0, 1]\n",
    "            ),\n",
    "        },\n",
    "        \"wavydisk\": mesh,\n",
    "    }\n",
    ")\n",
    "\n",
    "bitmap = mi.Bitmap(mi.render(scene))\n",
    "bitmap = bitmap.convert(\n",
    "    mi.Bitmap.PixelFormat.RGB, mi.Struct.Type.UInt8, srgb_gamma=True\n",
    ")\n",
    "\n",
    "from matplotlib import pyplot as plt\n",
    "\n",
    "plt.axis(\"off\")\n",
    "plt.imshow(bitmap)"
   ]
  },
  {
   "cell_type": "markdown",
   "metadata": {},
   "source": [
    "## Save a mesh to disk\n",
    "\n",
    "No matter how a `mi.Mesh` object was loaded or built, it can always be exported to a [PLY file format](https://en.wikipedia.org/wiki/PLY_(file_format)) using the `mi.Mesh.write_ply` method. There are currently no other file formats which are supported.\n",
    "\n",
    "Any mesh attribute that is attached to the object at the time when `mi.Mesh.write_ply` is called will be written to output file as a property. Mitsuba therefore allows you to create complex procedural properties for your meshes and export them to be used in some other context entirely."
   ]
  },
  {
   "cell_type": "code",
   "execution_count": 8,
   "metadata": {},
   "outputs": [],
   "source": [
    "mesh.write_ply(\"wavydisk.ply\")"
   ]
  },
  {
   "cell_type": "code",
   "execution_count": 9,
   "metadata": {},
   "outputs": [
    {
     "data": {
      "text/plain": [
       "0"
      ]
     },
     "execution_count": 9,
     "metadata": {},
     "output_type": "execute_result"
    }
   ],
   "source": [
    "# TODO: Delete this cell once raised exceptions in vcall tracing is properly handled\n",
    "import gc\n",
    "\n",
    "del mesh\n",
    "del face_indices_buffer\n",
    "del vertex_pos_buffer\n",
    "del mesh_params\n",
    "del scene\n",
    "del bunny\n",
    "\n",
    "gc.collect()\n",
    "gc.collect()"
   ]
  },
  {
   "cell_type": "markdown",
   "metadata": {},
   "source": [
    "## Add and edit attributes\n",
    "\n",
    ". # TODO (decide whether to use \"property\" or \"attributes\" in title -- property seems to be the convention)\n",
    "\n",
    "Meshes in Mitsuba can have additional properties/attributes per face or per vertex. Each attribute is either one or several floating point numbers, no other types are supported.\n",
    "\n",
    "The `mi.Mesh.add_attribute` methods let's you define new attributes by giving them a name, a number of floats, and their initial values. The attribute name must be prefixed with either `vertex_` or `face_`, as this defines whether the attribute is defined for each face or for each vertex. For this example, we will be adding a RGB color to each vertex. Mitsuba 3 has a [mesh attribute]() # TODO: link texture plugin that conviently allows you to visualize attributes."
   ]
  },
  {
   "cell_type": "code",
   "execution_count": 10,
   "metadata": {},
   "outputs": [],
   "source": [
    "mesh = mi.load_dict(\n",
    "    {\n",
    "        \"type\": \"ply\",\n",
    "        \"filename\": \"wavydisk.ply\",\n",
    "        \"bsdf\": {\n",
    "            \"type\": \"diffuse\",\n",
    "            \"reflectance\": {\n",
    "                \"type\": \"mesh_attribute\",\n",
    "                \"name\": \"vertex_color\",  # This will be used to visualize our attribute\n",
    "            },\n",
    "        },\n",
    "    }\n",
    ")\n",
    "\n",
    "# Needs to start with vertex_ or face_\n",
    "attribute_size = mesh.vertex_count() * 3\n",
    "mesh.add_attribute(\n",
    "    \"vertex_color\", 3, [0] * attribute_size\n",
    ")  # Add 3 floats per vertex (initialized at 0)"
   ]
  },
  {
   "cell_type": "markdown",
   "metadata": {},
   "source": [
    "Once an attribute is created it can still be modified. Similarly to what is done in the section [Procedural mesh](), there are two options to edit an existing attribute.\n",
    "\n",
    "- **`mi.Mesh.attrbute_buffer`**: This method will return the buffer associated to the specified attribute. New values can then be assigned to it with `dr.scatter`.\n",
    "- **`mi.traverse`**: The attribute's buffer will be exposed with a key corresponding to the attribute's name."
   ]
  },
  {
   "cell_type": "code",
   "execution_count": 11,
   "metadata": {},
   "outputs": [
    {
     "data": {
      "text/plain": [
       "SceneParameters[\n",
       "  ----------------------------------------------------------------------------------------\n",
       "  Name                                 Flags    Type            Parent\n",
       "  ----------------------------------------------------------------------------------------\n",
       "  bsdf.reflectance.scale                        float           MeshAttribute\n",
       "  vertex_count                                  int             PLYMesh\n",
       "  face_count                                    int             PLYMesh\n",
       "  faces                                         UInt            PLYMesh\n",
       "  vertex_positions                     ∂, D     Float           PLYMesh\n",
       "  vertex_normals                       ∂, D     Float           PLYMesh\n",
       "  vertex_texcoords                     ∂        Float           PLYMesh\n",
       "  vertex_color                         ∂        Float           PLYMesh\n",
       "]"
      ]
     },
     "execution_count": 11,
     "metadata": {},
     "output_type": "execute_result"
    }
   ],
   "source": [
    "mesh_params = mi.traverse(mesh)\n",
    "mesh_params"
   ]
  },
  {
   "cell_type": "code",
   "execution_count": 12,
   "metadata": {},
   "outputs": [],
   "source": [
    "N = mesh.vertex_count()\n",
    "\n",
    "vertex_colors = dr.zero(mi.Float, 3 * mesh.vertex_count())\n",
    "dr.scatter(vertex_colors, 1, dr.arange(mi.UInt, 0, (N - 1) * 3, 3))  # Fringe is red\n",
    "dr.scatter(vertex_colors, 1, [(N - 1) * 3 + 2])  # Center is blue\n",
    "\n",
    "mesh_params[\"vertex_color\"] = vertex_colors\n",
    "mesh_params.update()"
   ]
  },
  {
   "cell_type": "markdown",
   "metadata": {},
   "source": [
    "We can now visualize this attribute."
   ]
  },
  {
   "cell_type": "code",
   "execution_count": 13,
   "metadata": {},
   "outputs": [
    {
     "data": {
      "text/plain": [
       "<matplotlib.image.AxesImage at 0x7f43031dca90>"
      ]
     },
     "execution_count": 13,
     "metadata": {},
     "output_type": "execute_result"
    },
    {
     "data": {
      "image/png": "[encoded data removed]",
      "text/plain": [
       "<Figure size 432x288 with 1 Axes>"
      ]
     },
     "metadata": {
      "needs_background": "light"
     },
     "output_type": "display_data"
    }
   ],
   "source": [
    "scene = mi.load_dict(\n",
    "    {\n",
    "        \"type\": \"scene\",\n",
    "        \"integrator\": {\"type\": \"path\"},\n",
    "        \"light\": {\"type\": \"constant\"},\n",
    "        \"sensor\": {\n",
    "            \"type\": \"perspective\",\n",
    "            \"to_world\": mi.ScalarTransform4f.look_at(\n",
    "                origin=[0, -5, 5], target=[0, 0, 0], up=[0, 0, 1]\n",
    "            ),\n",
    "        },\n",
    "        \"wavydisk\": mesh,\n",
    "    }\n",
    ")\n",
    "\n",
    "bitmap = mi.Bitmap(mi.render(scene))\n",
    "bitmap = bitmap.convert(\n",
    "    mi.Bitmap.PixelFormat.RGB, mi.Struct.Type.UInt8, srgb_gamma=True\n",
    ")\n",
    "\n",
    "from matplotlib import pyplot as plt\n",
    "\n",
    "plt.axis(\"off\")\n",
    "plt.imshow(bitmap)"
   ]
  }
 ],
 "metadata": {
  "file_extension": ".py",
  "interpreter": {
   "hash": "31f2aee4e71d21fbe5cf8b01ff0e069b9275f58929596ceb00d14d90e3e16cd6"
  },
  "kernelspec": {
   "display_name": "Python 3 (ipykernel)",
   "language": "python",
   "name": "python3"
  },
  "language_info": {
   "codemirror_mode": {
    "name": "ipython",
    "version": 3
   },
   "file_extension": ".py",
   "mimetype": "text/x-python",
   "name": "python",
   "nbconvert_exporter": "python",
   "pygments_lexer": "ipython3",
   "version": "3.8.10"
  },
  "metadata": {
   "interpreter": {
    "hash": "31f2aee4e71d21fbe5cf8b01ff0e069b9275f58929596ceb00d14d90e3e16cd6"
   }
  },
  "mimetype": "text/x-python",
  "name": "python",
  "npconvert_exporter": "python",
  "pygments_lexer": "ipython3",
  "version": 3
 },
 "nbformat": 4,
 "nbformat_minor": 4
}
