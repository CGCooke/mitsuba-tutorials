{
 "cells": [
  {
   "cell_type": "markdown",
   "id": "975fc1bc-a73e-447b-bfe1-c8be6fc58acf",
   "metadata": {},
   "source": [
    "# How-to debug\n",
    "\n",
    "We generally recommend Mitsuba’s `scalar_*` variants for tracking down compilation errors and debugging misbehaving *C++ code*. These variants make minimal use of nested C++ templates, which reduces the length of compiler error messages and facilitates the use of debuggers like LLDB or GDB. Moreover, it is easier to debug rendering algorithm running sequentially as it allows you to inspects how computation is perform, one sample at a time.\n",
    "\n",
    "For the vectorized variants (e.g. `llvm_*`, `cuda_*`), Mitsuba and Dr.Jit provide a variety of tools to help with debugging.\n",
    "\n"
   ]
  },
  {
   "cell_type": "code",
   "execution_count": 1,
   "id": "41f0f3b8-511a-489f-8218-d54b6c5a4adb",
   "metadata": {},
   "outputs": [],
   "source": [
    "import drjit as dr\n",
    "import mitsuba as mi"
   ]
  },
  {
   "cell_type": "code",
   "execution_count": null,
   "id": "a8f40227-30ff-405f-95fc-00b83c6429ba",
   "metadata": {},
   "outputs": [],
   "source": []
  }
 ],
 "metadata": {
  "kernelspec": {
   "display_name": "Python 3 (ipykernel)",
   "language": "python",
   "name": "python3"
  },
  "language_info": {
   "codemirror_mode": {
    "name": "ipython",
    "version": 3
   },
   "file_extension": ".py",
   "mimetype": "text/x-python",
   "name": "python",
   "nbconvert_exporter": "python",
   "pygments_lexer": "ipython3",
   "version": "3.9.10"
  }
 },
 "nbformat": 4,
 "nbformat_minor": 5
}
