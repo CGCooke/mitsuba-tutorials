{
 "cells": [
  {
   "cell_type": "markdown",
   "id": "08669d2a-55a6-46d8-b082-a945c9032e91",
   "metadata": {},
   "source": [
    "# 📖 Use `Optimizer`"
   ]
  },
  {
   "cell_type": "markdown",
   "id": "ab6ac81e-8112-4e1c-bc4e-3a1d96b4abfd",
   "metadata": {},
   "source": [
    "For the sake of this tutorial, let's set an AD-compatible variant and load a scene."
   ]
  },
  {
   "cell_type": "code",
   "execution_count": 7,
   "id": "a4d17e00-6712-4252-950c-23d5baaae109",
   "metadata": {},
   "outputs": [],
   "source": [
    "import mitsuba as mi\n",
    "import drjit as dr \n",
    "\n",
    "mi.set_variant('llvm_ad_rgb')\n",
    "\n",
    "mi.set_log_level(mi.LogLevel.Error)\n",
    "scene = mi.load_file('../scenes/cbox.xml')"
   ]
  },
  {
   "cell_type": "markdown",
   "id": "c92cfbcf-91b1-48f3-ad0c-1ab3d98772ad",
   "metadata": {},
   "source": [
    "### Overview\n",
    "\n",
    "Mitsuba provides different gradient-based optimizer to perform optimization tasks on the scene parameters.\n",
    "\n",
    "...\n",
    "\n",
    "\n",
    "<center><img src=\"../resources/images/how_to_use_optimizers.svg\"/></center>"
   ]
  },
  {
   "cell_type": "markdown",
   "id": "feee8867-1f54-41ec-bdbd-bc956a4a9fea",
   "metadata": {},
   "source": [
    "### 1. Optimize scene parameters\n",
    "\n",
    "(with `__set_item__` and `load`)"
   ]
  },
  {
   "cell_type": "code",
   "execution_count": null,
   "id": "37433945-abaf-4b65-b91c-06c4b861a676",
   "metadata": {},
   "outputs": [],
   "source": [
    "params = mi.traverse(scene)\n"
   ]
  },
  {
   "cell_type": "markdown",
   "id": "e49b7142-7e1b-4401-a9b4-d9ddf533f355",
   "metadata": {},
   "source": [
    "### 2. Optimize other parameters"
   ]
  },
  {
   "cell_type": "markdown",
   "id": "b275753b-9279-45b9-9472-63d002494def",
   "metadata": {},
   "source": [
    "### 3. Partial update"
   ]
  },
  {
   "cell_type": "markdown",
   "id": "88e835a5-5648-4ae9-8dcb-8ee4457c60f9",
   "metadata": {},
   "source": [
    "### 4. Masked update"
   ]
  },
  {
   "cell_type": "markdown",
   "id": "ab611f59-df32-408a-8cce-b56145728053",
   "metadata": {},
   "source": [
    "### 5. Per-parameter learning rate\n",
    "\n",
    "Optimizers also support per-parameter options, such as the learning rate. \n",
    "\n",
    "..."
   ]
  },
  {
   "cell_type": "markdown",
   "id": "30bd913e-083a-48f7-9d6c-eac58ea55a77",
   "metadata": {},
   "source": [
    "### 6. Reset optimizer's internal state"
   ]
  },
  {
   "cell_type": "markdown",
   "id": "883befd6-13bb-4264-84a3-1f33098df999",
   "metadata": {},
   "source": [
    "### 7. FAQ"
   ]
  },
  {
   "cell_type": "code",
   "execution_count": null,
   "id": "6e611e4e-191b-4750-8d40-23d15c8ba9c5",
   "metadata": {},
   "outputs": [],
   "source": []
  }
 ],
 "metadata": {
  "kernelspec": {
   "display_name": "Python 3 (ipykernel)",
   "language": "python",
   "name": "python3"
  },
  "language_info": {
   "codemirror_mode": {
    "name": "ipython",
    "version": 3
   },
   "file_extension": ".py",
   "mimetype": "text/x-python",
   "name": "python",
   "nbconvert_exporter": "python",
   "pygments_lexer": "ipython3",
   "version": "3.9.10"
  }
 },
 "nbformat": 4,
 "nbformat_minor": 5
}
