{
 "cells": [
  {
   "cell_type": "markdown",
   "metadata": {},
   "source": [
    "# 8. Reparameterization optimization"
   ]
  },
  {
   "cell_type": "markdown",
   "metadata": {},
   "source": [
    "## Overview\n",
    "\n",
    "In this tutorial, we will showcase how to optimize the pose of an object correctly counting for the visibility discontinuities. We are going to optimize several latent variables that controls the translation and rotation of the object.\n",
    "\n",
    "In differentiable rendering, we aim to evaluate the derivative of a pixel intensity integral with respect to a scene parameter $\\pi$ as follows:\n",
    "$$\n",
    "\\partial_\\pi I(\\pi) = \\partial_\\pi \\int_P f(\\bold{x}, \\pi) ~ d\\bold{x}\n",
    "$$\n",
    "where $\\bold{x}$ is a light path in the path space $P$. When the function $f(\\cdot)$ is continuous with $\\pi$, we can move the derivative into the integral and then apply Monte Carlo integration. This justifies the correctness of differentiating the entire rendering pipeline with autodiff, as is done in previous tutorials. But when the discontinuities depend on the scene parameter $\\pi$, for example the silhouette of an object could move as we translate it, direct autodiff will yield biased results missing a line integral along the discontinuous boundary. We propose a method based on reparameterization that removes the dependency of discontinuities on scene parameters from the integral.\n",
    "\n",
    "Reparameterizations for differentiable rendering were proposed in:\n",
    "\n",
    "      \"Reparameterizing discontinuous integrands for differentiable rendering\"\n",
    "      (Proceedings of SIGGRAPH Asia'19) by Guillaume Loubet,\n",
    "      Nicolas Holzschuch, and Wenzel Jakob.\n",
    "\n",
    "The specific change of variables used in Mitsuba is described in:\n",
    "\n",
    "      \"Unbiased Warped-Area Sampling for Differentiable Rendering\"\n",
    "      (Procedings of SIGGRAPH'20) by Sai Praveen Bangaru,\n",
    "      Tzu-Mao Li, and Frédo Durand.\n",
    "\n",
    "<div class=\"alert alert-block alert-info\">\n",
    "\n",
    "✔️ **What will you learn?**\n",
    "    \n",
    "<ul>\n",
    "  <li>Perform optimization with discontinuity-aware methods</li>\n",
    "  <li>Optimize latent variables to control the motion of an object</li>\n",
    "</ul>\n",
    "    \n",
    "</div>\n"
   ]
  },
  {
   "cell_type": "markdown",
   "metadata": {},
   "source": [
    "### Step 1 - setup"
   ]
  },
  {
   "cell_type": "code",
   "execution_count": 1,
   "metadata": {},
   "outputs": [],
   "source": [
    "# Add mitsuba and drjit to PATH (this shouldn't be necessary)\n",
    "import sys\n",
    "sys.path.append('../../build/python')"
   ]
  },
  {
   "cell_type": "code",
   "execution_count": 2,
   "metadata": {},
   "outputs": [],
   "source": [
    "from matplotlib import pyplot as plt\n",
    "\n",
    "import drjit as dr\n",
    "import mitsuba as mi\n",
    "mi.set_variant('llvm_ad_rgb')"
   ]
  },
  {
   "cell_type": "code",
   "execution_count": 3,
   "metadata": {},
   "outputs": [],
   "source": [
    "from mitsuba.scalar_rgb import ScalarTransform4f as T\n",
    "\n",
    "def show_image(img, title):\n",
    "    plt.imshow(mi.util.convert_to_bitmap(img)); plt.axis('off'); plt.title(title);"
   ]
  },
  {
   "cell_type": "markdown",
   "metadata": {},
   "source": [
    "### Step 2 - scene construction"
   ]
  },
  {
   "cell_type": "code",
   "execution_count": 4,
   "metadata": {},
   "outputs": [],
   "source": [
    "sensor_to_world = mi.ScalarTransform4f.look_at(\n",
    "    origin=(0, 0, 2),\n",
    "    target=(0, 0, 0),\n",
    "    up=(0, 1, 0)\n",
    ")\n",
    "sensor = {\n",
    "    'type': 'perspective',\n",
    "    'to_world': sensor_to_world,\n",
    "    'fov': 60,\n",
    "    'sampler': {\n",
    "        'type': 'independent',\n",
    "        'sample_count': 64\n",
    "    },\n",
    "    'film': {\n",
    "        'type': 'hdrfilm',\n",
    "        'width': 64,\n",
    "        'height': 64,\n",
    "        'rfilter': {\n",
    "            'type': 'gaussian'\n",
    "        },\n",
    "        'sample_border': True\n",
    "    },\n",
    "}"
   ]
  },
  {
   "cell_type": "code",
   "execution_count": 5,
   "metadata": {},
   "outputs": [],
   "source": [
    "integrator = {\n",
    "    'type': 'prb_reparam', # could be the simpler `direct_reparam` when it is merged\n",
    "    'reparam_max_depth': 2,\n",
    "    'max_depth': 2\n",
    "}"
   ]
  },
  {
   "cell_type": "code",
   "execution_count": 6,
   "metadata": {},
   "outputs": [
    {
     "data": {
      "text/html": [
       "<span style=\"font-family: monospace\">2022-03-02 17:24:51 INFO  main  [Scene] Embree ready. (took 50ms)</span>"
      ]
     },
     "metadata": {},
     "output_type": "display_data"
    }
   ],
   "source": [
    "bunny_center = [0.1, -0.3, 1]\n",
    "scene = mi.load_dict({\n",
    "    'type': 'scene',\n",
    "    'sensor': sensor,\n",
    "    'integrator': integrator,\n",
    "    # BSDF\n",
    "    'gray-bsdf': {\n",
    "        'type': 'diffuse',\n",
    "        'id': 'gray-bsdf',\n",
    "        'reflectance': { 'type': 'rgb', 'value': (0.5, 0.5, 0.5) },\n",
    "    },\n",
    "    'blue-bsdf': {\n",
    "        'type': 'diffuse',\n",
    "        'id': 'blue-bsdf',\n",
    "        'reflectance': { 'type': 'rgb', 'value': (0.3, 0.3, 0.75) },\n",
    "    },\n",
    "    # wall\n",
    "    'plane': {\n",
    "        'type': 'obj',\n",
    "        'filename': '../scenes/meshes/rectangle.obj',\n",
    "        'face_normals': True,\n",
    "        'bsdf': {'type': 'ref', 'id': 'gray-bsdf'}\n",
    "    },\n",
    "    # object\n",
    "    'bunny': {\n",
    "        'type': 'ply',\n",
    "        'filename': '../scenes/meshes/bunny.ply',\n",
    "        'to_world': T.translate(bunny_center) * T.scale(3.5),\n",
    "        'bsdf': {'type': 'ref', 'id': 'blue-bsdf'}\n",
    "    },\n",
    "    # light\n",
    "    'light': {\n",
    "        'type': 'obj',\n",
    "        'filename': '../scenes/meshes/sphere.obj',\n",
    "        'emitter': {\n",
    "            'type': 'area',\n",
    "            'radiance': {'type': 'rgb', 'value': [1e4, 1e4, 1e4]}\n",
    "        },\n",
    "        'to_world': T.translate([2.5, 2.5, 7.0]) * T.scale(0.05)\n",
    "    }\n",
    "})\n",
    "integrator = scene.integrator()"
   ]
  },
  {
   "cell_type": "markdown",
   "metadata": {},
   "source": [
    "### Create a reference scene"
   ]
  },
  {
   "cell_type": "code",
   "execution_count": 7,
   "metadata": {},
   "outputs": [],
   "source": [
    "params = mi.traverse(scene)\n",
    "key = 'bunny.vertex_positions'\n",
    "params.keep([key])\n",
    "v0 = mi.Float(params[key])"
   ]
  },
  {
   "cell_type": "code",
   "execution_count": 8,
   "metadata": {},
   "outputs": [],
   "source": [
    "def apply_trafo(params, key, pi):\n",
    "\n",
    "    pi[0] = dr.clamp(pi[0], -0.5, 0.5)\n",
    "    pi[1] = dr.clamp(pi[1], -0.5, 0.5)\n",
    "    pi[2] = dr.clamp(pi[2], -0.5, 0.5)\n",
    "    dr.enable_grad(pi)  # Normally, we do clamping between `opt.step()` and `opt.update()`. The latter does this `enable_grad()` for us\n",
    "\n",
    "    trafo = mi.Transform4f.translate(bunny_center) * \\\n",
    "            mi.Transform4f.translate([pi[1], pi[2], 0]) * \\\n",
    "            mi.Transform4f.rotate([0, 1, 0], pi[0] * 100.0) * \\\n",
    "            mi.Transform4f.translate(mi.Vector3f(bunny_center) * -1)\n",
    "    params[key] = dr.ravel(trafo @ dr.unravel(mi.Point3f, v0))\n",
    "    params.update()"
   ]
  },
  {
   "cell_type": "code",
   "execution_count": 9,
   "metadata": {},
   "outputs": [
    {
     "data": {
      "image/png": "[encoded data removed]",
      "text/plain": [
       "<Figure size 432x288 with 1 Axes>"
      ]
     },
     "metadata": {
      "needs_background": "light"
     },
     "output_type": "display_data"
    }
   ],
   "source": [
    "pi_ref = [mi.Float(0.25), mi.Float(0.1), mi.Float(-0.05)]\n",
    "apply_trafo(params, key, pi_ref)\n",
    "\n",
    "img_ref = mi.render(scene, seed=0)\n",
    "show_image(img_ref, \"reference image\")"
   ]
  },
  {
   "cell_type": "markdown",
   "metadata": {},
   "source": [
    "### Step 3: optimization"
   ]
  },
  {
   "cell_type": "code",
   "execution_count": 10,
   "metadata": {},
   "outputs": [],
   "source": [
    "# Restore for optimization\n",
    "params[key] = mi.Float(v0)\n",
    "params.update()\n",
    "pi = [mi.Float(0), mi.Float(0), mi.Float(0)]\n",
    "img_ini = mi.render(scene, seed=1)"
   ]
  },
  {
   "cell_type": "code",
   "execution_count": 11,
   "metadata": {},
   "outputs": [],
   "source": [
    "dr.enable_grad(pi)\n",
    "opt_param = {\"deg\": pi[0], \"trans_x\": pi[1], \"trans_y\": pi[2]}\n",
    "opt = mi.ad.Adam(lr=0.01, params=opt_param)\n",
    "opt.load()"
   ]
  },
  {
   "cell_type": "code",
   "execution_count": 12,
   "metadata": {},
   "outputs": [
    {
     "name": "stdout",
     "output_type": "stream",
     "text": [
      "Iteration 00: error=0.003017 pi={'deg': [-0.009997690096497536], 'trans_x': [-0.009997425600886345], 'trans_y': [-0.009999215602874756]}\n",
      "Iteration 01: error=0.002968 pi={'deg': [-0.019992705434560776], 'trans_x': [-0.01991460472345352], 'trans_y': [-0.019706545397639275]}\n",
      "Iteration 02: error=0.003000 pi={'deg': [-0.02905532717704773], 'trans_x': [-0.02040114253759384], 'trans_y': [-0.029274344444274902]}\n",
      "Iteration 03: error=0.002946 pi={'deg': [-0.03676002845168114], 'trans_x': [-0.01697574183344841], 'trans_y': [-0.038799308240413666]}\n",
      "Iteration 04: error=0.002905 pi={'deg': [-0.04312703758478165], 'trans_x': [-0.011188497766852379], 'trans_y': [-0.04723043367266655]}\n",
      "Iteration 05: error=0.002792 pi={'deg': [-0.04623238742351532], 'trans_x': [-0.004005114082247019], 'trans_y': [-0.055835723876953125]}\n",
      "Iteration 06: error=0.002675 pi={'deg': [-0.048042863607406616], 'trans_x': [0.0038922433741390705], 'trans_y': [-0.06376010924577713]}\n",
      "Iteration 07: error=0.002576 pi={'deg': [-0.049751173704862595], 'trans_x': [0.012346358969807625], 'trans_y': [-0.06955524533987045]}\n",
      "Iteration 08: error=0.002471 pi={'deg': [-0.050880078226327896], 'trans_x': [0.021185677498579025], 'trans_y': [-0.07035883516073227]}\n",
      "Iteration 09: error=0.002429 pi={'deg': [-0.05260849744081497], 'trans_x': [0.030064161866903305], 'trans_y': [-0.06899412721395493]}\n",
      "Iteration 10: error=0.002310 pi={'deg': [-0.05394392088055611], 'trans_x': [0.03936292976140976], 'trans_y': [-0.06583160161972046]}\n",
      "Iteration 11: error=0.002168 pi={'deg': [-0.05456094443798065], 'trans_x': [0.048856914043426514], 'trans_y': [-0.06364370882511139]}\n",
      "Iteration 12: error=0.001996 pi={'deg': [-0.05452714487910271], 'trans_x': [0.058675140142440796], 'trans_y': [-0.06213048845529556]}\n",
      "Iteration 13: error=0.001919 pi={'deg': [-0.05280797928571701], 'trans_x': [0.06877626478672028], 'trans_y': [-0.06207144632935524]}\n",
      "Iteration 14: error=0.001823 pi={'deg': [-0.05028168484568596], 'trans_x': [0.07895990461111069], 'trans_y': [-0.061233825981616974]}\n",
      "Iteration 15: error=0.001714 pi={'deg': [-0.048000484704971313], 'trans_x': [0.08883994072675705], 'trans_y': [-0.05941815301775932]}\n",
      "Iteration 16: error=0.001629 pi={'deg': [-0.04705598205327988], 'trans_x': [0.09846392273902893], 'trans_y': [-0.05609586834907532]}\n",
      "Iteration 17: error=0.001536 pi={'deg': [-0.047189950942993164], 'trans_x': [0.10764306783676147], 'trans_y': [-0.052575260400772095]}\n",
      "Iteration 18: error=0.001437 pi={'deg': [-0.04682409018278122], 'trans_x': [0.11713465303182602], 'trans_y': [-0.04818972572684288]}\n",
      "Iteration 19: error=0.001416 pi={'deg': [-0.04488694295287132], 'trans_x': [0.1268826276063919], 'trans_y': [-0.04419758543372154]}\n",
      "Iteration 20: error=0.001330 pi={'deg': [-0.0424574539065361], 'trans_x': [0.13643577694892883], 'trans_y': [-0.04219522327184677]}\n",
      "Iteration 21: error=0.001365 pi={'deg': [-0.03892079368233681], 'trans_x': [0.14569523930549622], 'trans_y': [-0.04248368367552757]}\n",
      "Iteration 22: error=0.001345 pi={'deg': [-0.03457552194595337], 'trans_x': [0.15386030077934265], 'trans_y': [-0.044649578630924225]}\n",
      "Iteration 23: error=0.001377 pi={'deg': [-0.029832346364855766], 'trans_x': [0.16069693863391876], 'trans_y': [-0.048680588603019714]}\n",
      "Iteration 24: error=0.001390 pi={'deg': [-0.02435084991157055], 'trans_x': [0.16574659943580627], 'trans_y': [-0.05357011780142784]}\n",
      "Iteration 25: error=0.001374 pi={'deg': [-0.018959105014801025], 'trans_x': [0.16847556829452515], 'trans_y': [-0.05843696743249893]}\n",
      "Iteration 26: error=0.001425 pi={'deg': [-0.01381484605371952], 'trans_x': [0.16908611357212067], 'trans_y': [-0.062310539186000824]}\n",
      "Iteration 27: error=0.001457 pi={'deg': [-0.008231738582253456], 'trans_x': [0.168186753988266], 'trans_y': [-0.06420307606458664]}\n",
      "Iteration 28: error=0.001481 pi={'deg': [-0.0024440381675958633], 'trans_x': [0.165790393948555], 'trans_y': [-0.06414229422807693]}\n",
      "Iteration 29: error=0.001478 pi={'deg': [0.003316327463835478], 'trans_x': [0.16205546259880066], 'trans_y': [-0.0620776042342186]}\n",
      "Iteration 30: error=0.001328 pi={'deg': [0.009601329453289509], 'trans_x': [0.1576552391052246], 'trans_y': [-0.05880298092961311]}\n",
      "Iteration 31: error=0.001288 pi={'deg': [0.016859188675880432], 'trans_x': [0.15282903611660004], 'trans_y': [-0.05415312573313713]}\n",
      "Iteration 32: error=0.001179 pi={'deg': [0.024312056601047516], 'trans_x': [0.14744378626346588], 'trans_y': [-0.04961008578538895]}\n",
      "Iteration 33: error=0.001147 pi={'deg': [0.032958805561065674], 'trans_x': [0.14227715134620667], 'trans_y': [-0.046937912702560425]}\n",
      "Iteration 34: error=0.001084 pi={'deg': [0.04243681952357292], 'trans_x': [0.1374487429857254], 'trans_y': [-0.04626305028796196]}\n",
      "Iteration 35: error=0.001063 pi={'deg': [0.05281243473291397], 'trans_x': [0.1335902065038681], 'trans_y': [-0.04727902635931969]}\n",
      "Iteration 36: error=0.001022 pi={'deg': [0.06404223293066025], 'trans_x': [0.1308775544166565], 'trans_y': [-0.04969993233680725]}\n",
      "Iteration 37: error=0.000984 pi={'deg': [0.07599390298128128], 'trans_x': [0.12962034344673157], 'trans_y': [-0.052618421614170074]}\n",
      "Iteration 38: error=0.000956 pi={'deg': [0.08855888247489929], 'trans_x': [0.12989896535873413], 'trans_y': [-0.05519716441631317]}\n",
      "Iteration 39: error=0.000933 pi={'deg': [0.10154823213815689], 'trans_x': [0.1310521811246872], 'trans_y': [-0.05664268136024475]}\n",
      "Iteration 40: error=0.000860 pi={'deg': [0.11450010538101196], 'trans_x': [0.13213403522968292], 'trans_y': [-0.056899648159742355]}\n",
      "Iteration 41: error=0.000822 pi={'deg': [0.12719424068927765], 'trans_x': [0.13288597762584686], 'trans_y': [-0.05621748045086861]}\n",
      "Iteration 42: error=0.000810 pi={'deg': [0.13900256156921387], 'trans_x': [0.1326376497745514], 'trans_y': [-0.054213620722293854]}\n",
      "Iteration 43: error=0.000793 pi={'deg': [0.1498972624540329], 'trans_x': [0.1311599463224411], 'trans_y': [-0.0518609881401062]}\n",
      "Iteration 44: error=0.000761 pi={'deg': [0.1587992161512375], 'trans_x': [0.12799103558063507], 'trans_y': [-0.04962428659200668]}\n",
      "Iteration 45: error=0.000695 pi={'deg': [0.16684791445732117], 'trans_x': [0.12391776591539383], 'trans_y': [-0.04860452935099602]}\n",
      "Iteration 46: error=0.000658 pi={'deg': [0.17454726994037628], 'trans_x': [0.11927881091833115], 'trans_y': [-0.048495881259441376]}\n",
      "Iteration 47: error=0.000595 pi={'deg': [0.18262897431850433], 'trans_x': [0.114713154733181], 'trans_y': [-0.049147289246320724]}\n",
      "Iteration 48: error=0.000571 pi={'deg': [0.19153498113155365], 'trans_x': [0.11077123880386353], 'trans_y': [-0.05043977126479149]}\n",
      "Iteration 49: error=0.000549 pi={'deg': [0.20148307085037231], 'trans_x': [0.10812003165483475], 'trans_y': [-0.05177127942442894]}\n",
      "Iteration 50: error=0.000479 pi={'deg': [0.21236836910247803], 'trans_x': [0.1069314032793045], 'trans_y': [-0.05254030600190163]}\n",
      "Iteration 51: error=0.000465 pi={'deg': [0.22389769554138184], 'trans_x': [0.1069362685084343], 'trans_y': [-0.05235572159290314]}\n",
      "Iteration 52: error=0.000425 pi={'deg': [0.23527351021766663], 'trans_x': [0.10711327940225601], 'trans_y': [-0.05141562223434448]}\n",
      "Iteration 53: error=0.000442 pi={'deg': [0.2449028640985489], 'trans_x': [0.10619647055864334], 'trans_y': [-0.04995346814393997]}\n",
      "Iteration 54: error=0.000436 pi={'deg': [0.25178930163383484], 'trans_x': [0.10363404452800751], 'trans_y': [-0.04869137704372406]}\n"
     ]
    }
   ],
   "source": [
    "def compute_image_loss(img, obj_func):\n",
    "    dr.enable_grad(img)\n",
    "    ob_val = obj_func(img)\n",
    "    dr.backward(ob_val)\n",
    "    image_loss = dr.grad(img)\n",
    "    dr.set_grad(img, 0.0)\n",
    "    return image_loss, dr.detach(ob_val)\n",
    "\n",
    "def MSE(img):\n",
    "    return dr.hsum_async(dr.sqr(img - img_ref)) / len(img)\n",
    "\n",
    "loss_hist = []\n",
    "for it in range(55):\n",
    "\n",
    "    apply_trafo(params, key, [opt.variables[\"deg\"], opt.variables[\"trans_x\"], opt.variables[\"trans_y\"]])\n",
    "\n",
    "    with dr.suspend_grad():\n",
    "        img_new = mi.render(scene, seed=it+2)\n",
    "    img_grad, ob_val = compute_image_loss(img_new, MSE)\n",
    "    integrator.render_backward(scene, params, img_grad)\n",
    "    # dr.backward_to(pi)  \n",
    "    # Don't need this: we are calling `backward_from()` in `integrator.sample()` which \n",
    "    # propogates gradients through `params` to `pi`\n",
    "\n",
    "    opt.step()\n",
    "    opt.update()\n",
    "\n",
    "    loss_hist.append(ob_val)\n",
    "    print(f'Iteration {it:02d}: error={ob_val[0]:6f} pi={opt.variables}')"
   ]
  },
  {
   "cell_type": "code",
   "execution_count": 13,
   "metadata": {},
   "outputs": [
    {
     "data": {
      "image/png": "[encoded data removed]",
      "text/plain": [
       "<Figure size 432x288 with 1 Axes>"
      ]
     },
     "metadata": {
      "needs_background": "light"
     },
     "output_type": "display_data"
    }
   ],
   "source": [
    "img_fin = mi.render(scene)\n",
    "show_image(img_fin, \"Optimized Image\")"
   ]
  },
  {
   "cell_type": "code",
   "execution_count": 14,
   "metadata": {},
   "outputs": [
    {
     "data": {
      "image/png": "[encoded data removed]",
      "text/plain": [
       "<Figure size 432x288 with 1 Axes>"
      ]
     },
     "metadata": {
      "needs_background": "light"
     },
     "output_type": "display_data"
    }
   ],
   "source": [
    "show_image(img_ref, \"Reference Image\")"
   ]
  },
  {
   "cell_type": "code",
   "execution_count": 15,
   "metadata": {},
   "outputs": [
    {
     "data": {
      "image/png": "[encoded data removed]",
      "text/plain": [
       "<Figure size 432x288 with 1 Axes>"
      ]
     },
     "metadata": {
      "needs_background": "light"
     },
     "output_type": "display_data"
    }
   ],
   "source": [
    "show_image(img_ini, \"Initial Image\")"
   ]
  },
  {
   "cell_type": "code",
   "execution_count": 16,
   "metadata": {},
   "outputs": [
    {
     "data": {
      "image/png": "[encoded data removed]",
      "text/plain": [
       "<Figure size 432x288 with 1 Axes>"
      ]
     },
     "metadata": {
      "needs_background": "light"
     },
     "output_type": "display_data"
    }
   ],
   "source": [
    "plt.plot(loss_hist)\n",
    "plt.xlabel('iteration'); plt.ylabel('Loss'); plt.title('Parameter error plot');"
   ]
  }
 ],
 "metadata": {
  "interpreter": {
   "hash": "324262bda25e4aeb89fac5521e5e52d6dea4600b0315b63007798d9c65d5c62c"
  },
  "kernelspec": {
   "display_name": "Python 3.8.8 ('base')",
   "language": "python",
   "name": "python3"
  },
  "language_info": {
   "codemirror_mode": {
    "name": "ipython",
    "version": 3
   },
   "file_extension": ".py",
   "mimetype": "text/x-python",
   "name": "python",
   "nbconvert_exporter": "python",
   "pygments_lexer": "ipython3",
   "version": "3.8.8"
  },
  "orig_nbformat": 4
 },
 "nbformat": 4,
 "nbformat_minor": 2
}
