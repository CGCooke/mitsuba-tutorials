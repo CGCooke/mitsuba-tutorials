{
 "cells": [
  {
   "cell_type": "markdown",
   "metadata": {},
   "source": [
    "# 4. Procedural scene"
   ]
  },
  {
   "cell_type": "markdown",
   "metadata": {},
   "source": [
    "## Overview\n",
    "\n",
    "This tutorial give a brief overview on how to procedurally generate a mesh and use it in a scene fully constructed using `load_dict`. As in the previous tutorial, we will then render and display the scene in the notebook.\n",
    "\n",
    "<div class=\"alert alert-block alert-info\">\n",
    "\n",
    "✔️ **What will you learn?**\n",
    "    \n",
    "<ul>\n",
    "  <li>Procedurally generate a mesh</li>\n",
    "  <li>Assemble a scene directly in Python</li>\n",
    "  <li>Transform an existing mesh using the traverse mechanism</li>    \n",
    "</ul>\n",
    "    \n",
    "</div>"
   ]
  },
  {
   "cell_type": "markdown",
   "metadata": {},
   "source": [
    "### Step 1 - setup\n",
    "\n",
    "For the sake of completeness, we are going to enable one of the GPU variant of the renderer in this toturial. Although please note that the following tutorial should work seemlessly with any other JIT variants (e.g. LLVM)."
   ]
  },
  {
   "cell_type": "code",
   "execution_count": 1,
   "metadata": {
    "ndsphinx": "hidden"
   },
   "outputs": [],
   "source": [
    "# Add mitsuba and enoki to PATH (this shouldn't be necessary)\n",
    "import sys\n",
    "sys.path.append('../../../build/python')"
   ]
  },
  {
   "cell_type": "code",
   "execution_count": 2,
   "metadata": {},
   "outputs": [],
   "source": [
    "import enoki as ek \n",
    "import mitsuba\n",
    "mitsuba.set_variant('cuda_ad_rgb')"
   ]
  },
  {
   "cell_type": "markdown",
   "metadata": {},
   "source": [
    "### Step 2 - procedural mesh generation\n",
    "\n",
    "For the procedural mesh, we are going to generate a spanning triangle disk and give it a *wavy* fringe to make it look more interesting. The following code is a great example on how to use enoki JIT arrays and routines to write vectorized code that can run seamlessly and efficiently on the CPU or GPU.\n",
    "\n",
    "#### The Wavy Disk Algorithm\n",
    "\n",
    "The algorithm for generating this wavy disk is simple: let `N` define the total number of vertices, the first `N-1` vertices will compose the fringe of the disk, while the last vertex should be placed at the center. This can easily be achieved by first generatating an array of `theta` values, and use `ek.sincos` to compute the `x` and `y` components of all the vertices. We can then oscillate the vertices height based on the angle `theta` for a given `frequency` and `amplitude`. Using a masked assignment, we can effortlessly move the last vertex to the center of the disk.\n",
    "\n",
    "Computing the correpsonding face indices is also pretty straightforward. The first vertex of every face point be the vertex at the center (`idx=N-1`) and the other two can be assigned sequentially (modulo `N-2`).\n",
    "\n",
    "We use the `mitsuba.render.Mesh` class to allocate the appropriate vertex position and face index buffers. Using the `traverse` mechanism defined in the previous tutorial, we can assign the precomputed vertex positions and face indices to the corresponding parameters of the mesh object.\n",
    "\n",
    "It is important to note the use of `ek.ravel` to flatten the 3D arrays into continuous arrays as this is the memory layout expected by `Mesh` in Mitsuba.\n",
    "\n",
    "Lastly, we call the `update()` method to notify the mesh of the changes made to its internal buffers. For instance, this will trigger the recomputation of its bounding box and vertex normals."
   ]
  },
  {
   "cell_type": "code",
   "execution_count": 3,
   "metadata": {},
   "outputs": [],
   "source": [
    "from mitsuba.core import Float, UInt32, Vector3f, Vector3u\n",
    "from mitsuba.render import Mesh\n",
    "from mitsuba.python.util import traverse\n",
    "\n",
    "# Disk with a wavy fringe parameters\n",
    "N = 100\n",
    "frequency = 12.0\n",
    "amplitude = 0.4\n",
    "\n",
    "# Generate the vertex positions\n",
    "theta = ek.linspace(Float, 0.0, ek.TwoPi, N)\n",
    "x, y = ek.sincos(theta)\n",
    "z = amplitude * ek.sin(theta * frequency)\n",
    "vertex_pos = Vector3f(x, y, z)\n",
    "\n",
    "# Move the last vertex to the center\n",
    "vertex_pos[ek.eq(ek.arange(UInt32, N), N-1)] = 0.0\n",
    "\n",
    "# Generate the face indices\n",
    "idx = ek.arange(UInt32, N - 1)\n",
    "face_indices = Vector3u(N - 1, (idx + 1) % (N - 2), idx % (N - 2))\n",
    "\n",
    "# Create an empty mesh (allocates buffers)\n",
    "mesh = Mesh(\"wavydisk\", N, N - 1)\n",
    "\n",
    "# Populate the mesh with the precomputed arrays using the traverse mechanism\n",
    "mesh_params = traverse(mesh)\n",
    "mesh_params['vertex_positions'] = ek.ravel(vertex_pos)\n",
    "mesh_params['faces'] = ek.ravel(face_indices)\n",
    "mesh_params.update()"
   ]
  },
  {
   "cell_type": "markdown",
   "metadata": {},
   "source": [
    "It is worth mentioning the possiblily to write the mesh to a *ply* file using the `mitsuba.render.Mesh.write_ply` method."
   ]
  },
  {
   "cell_type": "code",
   "execution_count": 4,
   "metadata": {},
   "outputs": [
    {
     "data": {
      "text/html": [
       "<span style=\"font-family: monospace; color: #000\">2021-04-22 16:13:30 INFO  main  [Mesh] Writing mesh to &quot;my_mesh.ply&quot; ..</span>"
      ]
     },
     "metadata": {},
     "output_type": "display_data"
    },
    {
     "data": {
      "text/html": [
       "<span style=\"font-family: monospace; color: #000\">2021-04-22 16:13:30 INFO  main  [Mesh] &quot;my_mesh.ply&quot;: wrote 99 faces, 100 vertices (2.33 KiB in 0ms)</span>"
      ]
     },
     "metadata": {},
     "output_type": "display_data"
    }
   ],
   "source": [
    "mesh.write_ply('my_mesh.ply')"
   ]
  },
  {
   "cell_type": "markdown",
   "metadata": {},
   "source": [
    "### Step 3 - assemble the scene\n",
    "\n",
    "In [Tutorial 2](...) we have seen how to use the `mitsuba.core.xml.load_dict` routine to instantiate a single Mitsuba object. Here we will show that it is possible to create entire scenes using this function. As described in the [documentation](...), nested dictionaries will be instanciated as children objects (e.g. useful to associate a BSDF to a Shape).\n",
    "\n",
    "The following code will instanciate a scene containing the most essential elements:\n",
    "\n",
    "- An integrator: `path`\n",
    "- A light source: `constant`\n",
    "- A sensor: `perspective`\n",
    "- The mesh we generated above\n",
    "\n",
    "Note the use of a `ScalarTransform4f` to specify the sensor transform. While this looks harmless, you are probably wondering about the meaning of the `Scalar` prefix in the type name `ScalarTransform4f`. This is an important concept in Mitsuba 2 so let's take a little detour here:\n",
    "\n",
    "No matter which variant of the system is enabled, some parts of the Mitsuba 2 framework will always operate in a *scalar* fashion, using the un-vectorized CPU backend. For instance, this is the case for the `mitsuba.core.Bitmap` class and the Mitsuba parser. E.g. it wouldn't make much sense to define a whole vectorized array of transforms just to describe the transformation of a single object. For this reason, most of the Mitsuba primitive types are exposed in two flavours:\n",
    "\n",
    "- `<type>`: type variant corresponding to the enabled backend (e.g. `Float, Vector3f, Transform4f`, ...)\n",
    "- `Scalar<type>`: scalar variant type, agnostic to the enabled backend (e.g. `ScalarFloat, ScalarVector3f, ScalarTransform4f`, ...)\n",
    "\n",
    "The main takeaway here is to consistently use `Scalar<type>` type when specifying parameters in `load_dict`."
   ]
  },
  {
   "cell_type": "code",
   "execution_count": 5,
   "metadata": {},
   "outputs": [
    {
     "data": {
      "text/html": [
       "<span style=\"font-family: monospace; color: #000\">2021-04-22 16:13:30 INFO  main  [Scene] Building scene in OptiX ..</span>"
      ]
     },
     "metadata": {},
     "output_type": "display_data"
    },
    {
     "data": {
      "text/html": [
       "<span style=\"font-family: monospace; color: #000\">2021-04-22 16:13:30 INFO  main  [Scene] OptiX ready. (took 37ms)</span>"
      ]
     },
     "metadata": {},
     "output_type": "display_data"
    }
   ],
   "source": [
    "from mitsuba.core.xml import load_dict\n",
    "from mitsuba.core import ScalarTransform4f\n",
    "\n",
    "scene = load_dict({\n",
    "    'type' : 'scene',\n",
    "    'integrator' : { \n",
    "        'type' : 'path' \n",
    "    },\n",
    "    'light' : { \n",
    "        'type' : 'constant' \n",
    "    },\n",
    "    'sensor' : {\n",
    "        'type' : 'perspective',\n",
    "        'to_world' : ScalarTransform4f.look_at(origin=[0, -5, 5], \n",
    "                                               target=[0, 0, 0], \n",
    "                                               up=[0, 0, 1]),\n",
    "    }\n",
    "    'wavydisk' : mesh,\n",
    "})"
   ]
  },
  {
   "cell_type": "markdown",
   "metadata": {},
   "source": [
    "Using the `mitsuba.python.util.render` and `matplotlib`, we can now easily render our scene and admire our beautiful wavy disk."
   ]
  },
  {
   "cell_type": "code",
   "execution_count": 6,
   "metadata": {},
   "outputs": [
    {
     "data": {
      "text/html": [
       "<span style=\"font-family: monospace; color: #000\">2021-04-22 16:13:30 INFO  main  [SamplingIntegrator] Start rendering...</span>"
      ]
     },
     "metadata": {},
     "output_type": "display_data"
    },
    {
     "data": {
      "text/html": [
       "<span style=\"font-family: monospace; color: #000\">2021-04-22 16:13:30 INFO  main  [SamplingIntegrator] Computation graph recorded. (took 3ms)</span>"
      ]
     },
     "metadata": {},
     "output_type": "display_data"
    },
    {
     "data": {
      "text/html": [
       "<span style=\"font-family: monospace; color: #000\">2021-04-22 16:13:30 INFO  main  [SamplingIntegrator] Code generation finished. (took 13ms)</span>"
      ]
     },
     "metadata": {},
     "output_type": "display_data"
    },
    {
     "data": {
      "text/html": [
       "<span style=\"font-family: monospace; color: #000\">2021-04-22 16:13:30 INFO  main  [SamplingIntegrator] Rendering finished. (took 24ms)</span>"
      ]
     },
     "metadata": {},
     "output_type": "display_data"
    },
    {
     "data": {
      "image/png": "[encoded data removed]",
      "text/plain": [
       "<Figure size 432x288 with 1 Axes>"
      ]
     },
     "metadata": {
      "needs_background": "light"
     },
     "output_type": "display_data"
    }
   ],
   "source": [
    "from matplotlib import pyplot as plt\n",
    "from mitsuba.python.util import render\n",
    "\n",
    "plt.imshow(render(scene)); plt.axis('off');"
   ]
  },
  {
   "cell_type": "markdown",
   "metadata": {},
   "source": [
    "### Step 4 - modify the mesh and update the scene\n",
    "\n",
    "Let's assume we are now interested on applying a transformation to the wavy disk and render the scene again. As you have probably guessed it, this can be achieved using the `traverse` mechanism. Unfortunately, the relation between the mesh and the scene was not encoded in the `mesh_params` object, and it is therefore necessary to perfom a new traversal on the whole scene.\n",
    "\n",
    "In `load_dict`, the keys in the passed dictionary define the IDs of the various object. Therefore the key corresponding to our wavy disk mesh will be `wavydisk.<parameter_name>`.\n",
    "\n",
    "The `Transform4f` class provides several functions to create common transformations, such as `translate`, `scale`, `rotate`, `look_at`. In this example, we are going to use `Transform4f.rotate` to rotate our wavy disk around the y-axis by 30 degrees.\n",
    "\n",
    "As stated above, the vertex position buffer of `Mesh` has a flat continuous layout. It is therefore required to convert it to a 3D array before applying the transformation. For this we use the `ek.unravel` function, providing the target array type as first argument, here `Vector3f`.\n",
    "\n",
    "The transformation is applied using `Transform4f.transform_point` and we set the new positions to the vertex position buffer after using `ek.ravel` to flatten the array.\n",
    "\n",
    "Finally, we notify the scene graph to propagate the update to the mesh buffers, which will trigger the recomputation of the scene's BVH."
   ]
  },
  {
   "cell_type": "code",
   "execution_count": 7,
   "metadata": {},
   "outputs": [],
   "source": [
    "from mitsuba.core import Transform4f\n",
    "\n",
    "params = traverse(scene)\n",
    "vertex_pos = ek.unravel(Vector3f, params['wavydisk.vertex_positions'])\n",
    "trans = Transform4f.rotate(axis=[0, 1, 0], angle=30)\n",
    "new_vertex_pos = trans.transform_point(vertex_pos)\n",
    "params['wavydisk.vertex_positions'] = ek.ravel(new_vertex_pos)\n",
    "params.update()"
   ]
  },
  {
   "cell_type": "markdown",
   "metadata": {},
   "source": [
    "Finally let's render and display the updated scene."
   ]
  },
  {
   "cell_type": "code",
   "execution_count": 8,
   "metadata": {},
   "outputs": [
    {
     "data": {
      "text/html": [
       "<span style=\"font-family: monospace; color: #000\">2021-04-22 16:13:30 INFO  main  [SamplingIntegrator] Start rendering...</span>"
      ]
     },
     "metadata": {},
     "output_type": "display_data"
    },
    {
     "data": {
      "text/html": [
       "<span style=\"font-family: monospace; color: #000\">2021-04-22 16:13:30 INFO  main  [SamplingIntegrator] Computation graph recorded. (took 4ms)</span>"
      ]
     },
     "metadata": {},
     "output_type": "display_data"
    },
    {
     "data": {
      "text/html": [
       "<span style=\"font-family: monospace; color: #000\">2021-04-22 16:13:30 INFO  main  [SamplingIntegrator] Code generation finished. (took 5ms)</span>"
      ]
     },
     "metadata": {},
     "output_type": "display_data"
    },
    {
     "data": {
      "text/html": [
       "<span style=\"font-family: monospace; color: #000\">2021-04-22 16:13:30 INFO  main  [SamplingIntegrator] Rendering finished. (took 18ms)</span>"
      ]
     },
     "metadata": {},
     "output_type": "display_data"
    },
    {
     "data": {
      "image/png": "[encoded data removed]",
      "text/plain": [
       "<Figure size 432x288 with 1 Axes>"
      ]
     },
     "metadata": {
      "needs_background": "light"
     },
     "output_type": "display_data"
    }
   ],
   "source": [
    "plt.imshow(render(scene)); plt.axis('off');"
   ]
  },
  {
   "cell_type": "markdown",
   "metadata": {},
   "source": [
    "### *Reference API*\n",
    "\n",
    "- [<code>mitsuba.core.xml.load_file</code>](https://mitsuba2.readthedocs.io/en/latest/generated/core_api.html#mitsuba.core.xml.load_file)\n",
    "- [<code>mitsuba.core.Transform4f</code>](...)\n",
    "- [<code>mitsuba.render.Mesh</code>](...)\n",
    "- [<code>mitsuba.render.Mesh.write_ply</code>](...)\n",
    "- [<code>mitsuba.python.util.traverse</code>](...)\n",
    "- [<code>mitsuba.python.util.render</code>](...)\n",
    "- [<code>mitsuba.python.util.SceneParameters</code>](...)\n",
    "- [<code>mitsuba.python.util.SceneParameters.update</code>](...)"
   ]
  }
 ],
 "metadata": {
  "file_extension": ".py",
  "kernelspec": {
   "display_name": "Python 3.6.9 64-bit",
   "language": "python",
   "name": "python36964bit93e44fdc4f014d30857bf48d4866e852"
  },
  "language_info": {
   "codemirror_mode": {
    "name": "ipython",
    "version": 3
   },
   "file_extension": ".py",
   "mimetype": "text/x-python",
   "name": "python",
   "nbconvert_exporter": "python",
   "pygments_lexer": "ipython3",
   "version": "3.8.5"
  },
  "metadata": {
   "interpreter": {
    "hash": "31f2aee4e71d21fbe5cf8b01ff0e069b9275f58929596ceb00d14d90e3e16cd6"
   }
  },
  "mimetype": "text/x-python",
  "name": "python",
  "npconvert_exporter": "python",
  "pygments_lexer": "ipython3",
  "version": 3
 },
 "nbformat": 4,
 "nbformat_minor": 2
}
