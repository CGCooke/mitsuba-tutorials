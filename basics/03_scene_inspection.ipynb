{
 "cells": [
  {
   "cell_type": "markdown",
   "metadata": {},
   "source": [
    "# 3. Scene inspection"
   ]
  },
  {
   "cell_type": "markdown",
   "metadata": {},
   "source": [
    "## Overview\n",
    "\n",
    "This tutorial explores an important mechanism in Mitsuba 2 that will let you inspect and modify scenes and other Mitsuba objects: `traverse()`\n",
    "\n",
    "This mechanism recursively traverses a Mitsuba object and its children and returns a dictionary-like object that can be used to read and write associated object parameters. This will be your main entry point for things like scene editting and is therefore useful for a variaty of applications. Updates to those parameters will then propagate back through the dependency graph, and perform all necessary updates to the parent objects. For instance, a change to the vertex position buffer of a mesh in the scene will trigger the recomputation of the Embree/Optix BHV.\n",
    "\n",
    "As we will see in later tutorials, `traverse()` is a key mechanism in the realm of inverse rendering applications when using the Mitsuba framework.\n",
    "\n",
    "More specifically, in this tutorial you will learn how to access scene parameters and do minor edits like changing the color of light sources before re-rendering.\n",
    "\n",
    "<div class=\"alert alert-block alert-info\">\n",
    "\n",
    "✔️ **What will you learn?**\n",
    "    \n",
    "<ul>\n",
    "  <li>Use the traverse mechanism to inspect a scene graph</li>\n",
    "  <li>Edit some scene parameters and propagate update</li>\n",
    "  <li>Convert Bitmap images to numpy array</li>\n",
    "</ul>\n",
    "    \n",
    "</div>\n"
   ]
  },
  {
   "cell_type": "markdown",
   "metadata": {},
   "source": [
    "### Step 1 - set things up\n",
    "\n",
    "Following the same steps as in [Tutorial 1](01_first_render), let's import `mitsuba` and load a scene from an XML file on disk."
   ]
  },
  {
   "cell_type": "code",
   "execution_count": 1,
   "metadata": {
    "nbsphinx": "hidden"
   },
   "outputs": [],
   "source": [
    "# Add mitsuba and enoki to PATH (this shouldn't be necessary)\n",
    "import sys\n",
    "sys.path.append('/home/speierers/projects/mitsuba2-symbolic/build/python')"
   ]
  },
  {
   "cell_type": "code",
   "execution_count": 2,
   "metadata": {},
   "outputs": [
    {
     "data": {
      "text/html": [
       "<span style=\"font-family: monospace; color: #000\">2021-04-23 13:38:04 INFO  main  [xml.cpp:1239] Loading XML file &quot;../scenes/simple.xml&quot; ..</span>"
      ]
     },
     "metadata": {},
     "output_type": "display_data"
    },
    {
     "data": {
      "text/html": [
       "<span style=\"font-family: monospace; color: #000\">2021-04-23 13:38:04 INFO  main  [xml.cpp:1240] Using variant &quot;scalar_rgb&quot;</span>"
      ]
     },
     "metadata": {},
     "output_type": "display_data"
    },
    {
     "data": {
      "text/html": [
       "<span style=\"font-family: monospace; color: #000\">2021-04-23 13:38:04 INFO  main  [Scene] Embree ready. (took 20ms)</span>"
      ]
     },
     "metadata": {},
     "output_type": "display_data"
    }
   ],
   "source": [
    "import enoki as ek \n",
    "import mitsuba\n",
    "mitsuba.set_variant('scalar_rgb')\n",
    "\n",
    "from mitsuba.core.xml import load_file\n",
    "scene = load_file('../scenes/simple.xml')"
   ]
  },
  {
   "cell_type": "markdown",
   "metadata": {},
   "source": [
    "### Step 2 - access the scene \n",
    "\n",
    "The `traverse` function takes any Mitsuba object as input and returns a `SceneParameters` object, with a similar API to `dict`. `SceneParameters` object can be printed in order to look at the keys of the various parameters available in our scene graph."
   ]
  },
  {
   "cell_type": "code",
   "execution_count": 3,
   "metadata": {},
   "outputs": [
    {
     "name": "stdout",
     "output_type": "stream",
     "text": [
      "params: SceneParameters[\n",
      "    sensor.near_clip,\n",
      "    sensor.far_clip,\n",
      "    sensor.focus_distance,\n",
      "    sensor.shutter_open,\n",
      "    sensor.shutter_open_time,\n",
      "    sensor.x_fov,\n",
      "    teapot.to_world,\n",
      "    teapot.bsdf.reflectance.value,\n",
      "    teapot.vertex_count,\n",
      "    teapot.face_count,\n",
      "    teapot.faces,\n",
      "    teapot.vertex_positions,\n",
      "    teapot.vertex_normals,\n",
      "    teapot.vertex_texcoords,\n",
      "    light1.intensity.value,\n",
      "    light2.intensity.value,\n",
      "]\n"
     ]
    }
   ],
   "source": [
    "from mitsuba.python.util import traverse\n",
    "params = traverse(scene)\n",
    "print(f'params: {params}')"
   ]
  },
  {
   "cell_type": "markdown",
   "metadata": {},
   "source": [
    "As you can see, the first level of our scene graph is composed of 4 objects: `sensor`, `teapot`, `light1`, `light2`. Moreover, some of those objects points to nested child objects, like `teapot.bsdf`. The names of the objects in the scene graph are defined by the `id` of those objects. Please refer to the [XML scene format](...) documentation to see how to define those in the XML scene file.\n",
    "\n",
    "Individual scene parameters can be accessed with the `__getitem__` operator, providing the `key` corresponding to the parameter. Let's read the values of a few of the scene parameters."
   ]
  },
  {
   "cell_type": "code",
   "execution_count": 4,
   "metadata": {},
   "outputs": [
    {
     "name": "stdout",
     "output_type": "stream",
     "text": [
      "sensor.near_clip:              0.009999999776482582\n",
      "teapot.bsdf.reflectance.value: [0.8999999761581421, 0.8999999761581421, 0.0]\n",
      "light1.intensity.value:        [100.0, 100.0, 100.0]\n"
     ]
    }
   ],
   "source": [
    "print('sensor.near_clip:             ',  params['sensor.near_clip'])\n",
    "print('teapot.bsdf.reflectance.value:',  params['teapot.bsdf.reflectance.value'])\n",
    "print('light1.intensity.value:       ',  params['light1.intensity.value'])"
   ]
  },
  {
   "cell_type": "markdown",
   "metadata": {},
   "source": [
    "Before making any modifications to the scene, let's render the scene as it is."
   ]
  },
  {
   "cell_type": "code",
   "execution_count": 5,
   "metadata": {},
   "outputs": [
    {
     "data": {
      "text/html": [
       "<span style=\"font-family: monospace; color: #000\">2021-04-23 13:38:04 INFO  main  [SamplingIntegrator] Starting render job (256x256, 256 samples, 32 threads)</span>"
      ]
     },
     "metadata": {},
     "output_type": "display_data"
    },
    {
     "data": {
      "application/vnd.jupyter.widget-view+json": {
       "model_id": "01312ff4398b4d86b0fa99dcdac67f1c",
       "version_major": 2,
       "version_minor": 0
      },
      "text/plain": [
       "VBox(children=(HTML(value=''), FloatProgress(value=0.0, bar_style='info', layout=Layout(width='100%'), max=1.0…"
      ]
     },
     "metadata": {},
     "output_type": "display_data"
    },
    {
     "data": {
      "text/html": [
       "<span style=\"font-family: monospace; color: #000\">2021-04-23 13:38:05 INFO  main  [SamplingIntegrator] Rendering finished. (took 250ms)</span>"
      ]
     },
     "metadata": {},
     "output_type": "display_data"
    }
   ],
   "source": [
    "from mitsuba.python.util import render\n",
    "image1 = render(scene)"
   ]
  },
  {
   "cell_type": "markdown",
   "metadata": {},
   "source": [
    "### Step 3 - edit the scene\n",
    "\n",
    "We are now going to make edits to the some of the scene parameters and re-render the scene. \n",
    "\n",
    "For the sake of this tutorial, let's simply tint the color of both light sources (`PointLight` and `PointLight_1`). Similar to a python `dict`, parameters can be modified in-place using the `__setitem__` operator. Internally, the `SceneParameters` object will record every updates in order to properly propagate those to parent objects. Once all updates were performed, is is necessary to call `SceneParameters.update` method to propagate the set of changes through the scene graph."
   ]
  },
  {
   "cell_type": "code",
   "execution_count": 6,
   "metadata": {},
   "outputs": [
    {
     "data": {
      "text/html": [
       "<span style=\"font-family: monospace; color: #000\">2021-04-23 13:38:05 INFO  main  [SamplingIntegrator] Starting render job (256x256, 256 samples, 32 threads)</span>"
      ]
     },
     "metadata": {},
     "output_type": "display_data"
    },
    {
     "data": {
      "application/vnd.jupyter.widget-view+json": {
       "model_id": "86f05fba02824570b7abbef5bf3cbb8b",
       "version_major": 2,
       "version_minor": 0
      },
      "text/plain": [
       "VBox(children=(HTML(value=''), FloatProgress(value=0.0, bar_style='info', layout=Layout(width='100%'), max=1.0…"
      ]
     },
     "metadata": {},
     "output_type": "display_data"
    },
    {
     "data": {
      "text/html": [
       "<span style=\"font-family: monospace; color: #000\">2021-04-23 13:38:05 INFO  main  [SamplingIntegrator] Rendering finished. (took 253ms)</span>"
      ]
     },
     "metadata": {},
     "output_type": "display_data"
    }
   ],
   "source": [
    "# Give a red tint to light1 and a green tint to light2\n",
    "params['light1.intensity.value'] *= [1.5, 0.2, 0.2]\n",
    "params['light2.intensity.value'] *= [0.2, 1.5, 0.2]\n",
    "\n",
    "# Notify the scene of the changes\n",
    "params.update()\n",
    "\n",
    "# Render the modified scene\n",
    "image2 = render(scene)"
   ]
  },
  {
   "cell_type": "markdown",
   "metadata": {},
   "source": [
    "### Step 4 - display the images\n",
    "\n",
    "The `Bitmap` class implements the Python buffer protocol and it is therefore possible to seemlessly convert it to numpy arrays. This can be useful for instance if ones want to use it along other Python frameworks like `matplotlib`. \n",
    "\n",
    "Let's create numpy arrays from our two images, specifying `copy=False` to make sure the data isn't copied."
   ]
  },
  {
   "cell_type": "code",
   "execution_count": 7,
   "metadata": {},
   "outputs": [],
   "source": [
    "import numpy as np\n",
    "image1_np = np.array(image1, copy=False)\n",
    "image2_np = np.array(image2, copy=False)"
   ]
  },
  {
   "cell_type": "markdown",
   "metadata": {},
   "source": [
    "We can now easily display the render images using matplotlib without having to write the images to disk."
   ]
  },
  {
   "cell_type": "code",
   "execution_count": 8,
   "metadata": {},
   "outputs": [
    {
     "data": {
      "image/png": "[encoded data removed]",
      "text/plain": [
       "<Figure size 720x720 with 2 Axes>"
      ]
     },
     "metadata": {
      "needs_background": "light"
     },
     "output_type": "display_data"
    }
   ],
   "source": [
    "from matplotlib import pyplot as plt\n",
    "fig = plt.figure(figsize=(10, 10))\n",
    "fig.add_subplot(1,2,1).imshow(image1_np); plt.axis('off'); plt.title('original')\n",
    "fig.add_subplot(1,2,2).imshow(image2_np); plt.axis('off'); plt.title('modified');"
   ]
  },
  {
   "cell_type": "markdown",
   "metadata": {},
   "source": [
    "### *Reference API*\n",
    "\n",
    "- [<code>mitsuba.python.util.traverse</code>](...)\n",
    "- [<code>mitsuba.python.util.render</code>](...)\n",
    "- [<code>mitsuba.python.util.SceneParameters.update</code>](...)"
   ]
  }
 ],
 "metadata": {
  "file_extension": ".py",
  "kernelspec": {
   "display_name": "Python 3.6.9 64-bit",
   "language": "python",
   "name": "python36964bit93e44fdc4f014d30857bf48d4866e852"
  },
  "language_info": {
   "codemirror_mode": {
    "name": "ipython",
    "version": 3
   },
   "file_extension": ".py",
   "mimetype": "text/x-python",
   "name": "python",
   "nbconvert_exporter": "python",
   "pygments_lexer": "ipython3",
   "version": "3.8.5"
  },
  "metadata": {
   "interpreter": {
    "hash": "31f2aee4e71d21fbe5cf8b01ff0e069b9275f58929596ceb00d14d90e3e16cd6"
   }
  },
  "mimetype": "text/x-python",
  "name": "python",
  "npconvert_exporter": "python",
  "pygments_lexer": "ipython3",
  "version": 3
 },
 "nbformat": 4,
 "nbformat_minor": 2
}
