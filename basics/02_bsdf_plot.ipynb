{
 "cells": [
  {
   "cell_type": "markdown",
   "metadata": {},
   "source": [
    "# 2. Deep dive into a BSDF"
   ]
  },
  {
   "cell_type": "markdown",
   "metadata": {},
   "source": [
    "## Overview\n",
    "\n",
    "As you will soon discover, Mitsuba 2 can do much more than rendering. In this tutorial we will show how to instanciate a BSDF plugin using Python dictionaries and plot inspect its distribution function using `matplotlib` and `numpy`.\n",
    "\n",
    "<div class=\"alert alert-block alert-info\">\n",
    "\n",
    "✔️ **What will you learn?**\n",
    "\n",
    "<ul>\n",
    "  <li>Instanciate Mitsuba objects using Python dict and mitsuba.core.load_dict</li>\n",
    "  <li>Perform vectorized computations using a JIT variant of Mitsuba</li>\n",
    "  <li>Convert an enoki array into a numpy array</li>\n",
    "</ul>\n",
    "    \n",
    "</div>\n"
   ]
  },
  {
   "cell_type": "markdown",
   "metadata": {},
   "source": [
    "### Step 1 - setup\n",
    "\n",
    "Of course, let's start with the usual Python imports! As emphasized in the previous tutorial, Mitsuba requires a specific variant to be set before performing any other imports or computations. For this tutorial, we are going to use one of the JIT vectorized variant of the system. This will allow us to write code as if it was operating on normal scalar values, and have it run on arbitrary-sized arrays of values on the CPU or GPU."
   ]
  },
  {
   "cell_type": "code",
   "execution_count": 1,
   "metadata": {
    "nbsphinx": "hidden"
   },
   "outputs": [],
   "source": [
    "# Add mitsuba and enoki to PATH (this shouldn't be necessary)\n",
    "import sys\n",
    "sys.path.append('../../../build/python')"
   ]
  },
  {
   "cell_type": "code",
   "execution_count": 2,
   "metadata": {},
   "outputs": [],
   "source": [
    "import enoki as ek\n",
    "import mitsuba\n",
    "\n",
    "# Set the desired mitsuba JIT variant\n",
    "mitsuba.set_variant('llvm_ad_rgb')\n",
    "\n",
    "from mitsuba.core import load_dict, Float, Vector3f\n",
    "from mitsuba.render import SurfaceInteraction3f, BSDFContext"
   ]
  },
  {
   "cell_type": "markdown",
   "metadata": {},
   "source": [
    "### Step 2 - instanciate a BSDF\n",
    "\n",
    "One easy way to instanciate Mitsuba objects (e.g. [Shape](../generated/plugins_shapes.html#sec-shapes), [BSDF](../generated/plugins_bsdfs.html#sec-bsdfs), ...) is using the [<code>mitsuba.core.load_dict</code>][1] function. This function takes as input a Python `dict` following a similar structure to the XML scene description and instantiates the corresponding plugin. In our scenario, we want to construct a [roughconductor BSDF](../generated/plugins_bsdfs.html#bsdf-roughconductor) with a high roughness value and a GGX microfacet distribution.\n",
    "\n",
    "Refer to the [documentation](../src/python_interface/parsing_xml.html#creating-objects-using-python-dictionaries) for more information regarding the Python `dict` convention for [<code>mitsuba.core.load_dict</code>][1]\n",
    "\n",
    "\n",
    "\n",
    "[1]: https://mitsuba2.readthedocs.io/en/latest/generated/core_api.html?highlight=load_dict#mitsuba.core.load_dict"
   ]
  },
  {
   "cell_type": "code",
   "execution_count": 3,
   "metadata": {},
   "outputs": [],
   "source": [
    "bsdf = load_dict({\n",
    "    'type': 'roughconductor',\n",
    "    'alpha': 0.2,\n",
    "    'distribution': 'ggx'\n",
    "})"
   ]
  },
  {
   "cell_type": "markdown",
   "metadata": {},
   "source": [
    "### Step 3 - vectorized evaluation the BSDF\n",
    "\n",
    "We will now evaluate this BSDF for a whole array of directions at once, leveraging the enabled vectorize backend."
   ]
  },
  {
   "cell_type": "code",
   "execution_count": 4,
   "metadata": {},
   "outputs": [],
   "source": [
    "def sph_dir(theta, phi):\n",
    "    \"\"\" Map spherical to Euclidean coordinates \"\"\"\n",
    "    st, ct = ek.sincos(theta)\n",
    "    sp, cp = ek.sincos(phi)\n",
    "    return Vector3f(cp * st, sp * st, ct)\n",
    "\n",
    "# Create a (dummy) surface interaction to use for the evaluation\n",
    "si = ek.zero(SurfaceInteraction3f)\n",
    "\n",
    "# Specify an incident direction with 45 degrees elevation\n",
    "si.wi = sph_dir(ek.Pi * 45 / 180, 0.0)\n",
    "\n",
    "# Create grid in spherical coordinates and map it onto the sphere\n",
    "res = 300\n",
    "theta_o, phi_o = ek.meshgrid(\n",
    "    ek.linspace(Float, 0,     ek.Pi,     res),\n",
    "    ek.linspace(Float, 0, 2 * ek.Pi, 2 * res)\n",
    ")\n",
    "wo = sph_dir(theta_o, phi_o)\n",
    "\n",
    "# Evaluate the whole array (18000 directions) at once\n",
    "values = bsdf.eval(BSDFContext(), si, wo)"
   ]
  },
  {
   "cell_type": "markdown",
   "metadata": {},
   "source": [
    "### Step 4 - convert and plot the results\n",
    "\n",
    "Enoki arrays of any flavour can easily be converted to array type of other mainstream libraries, such as `numpy`, `PyTorch`, `JAX` and `TensorFlow`. For more detailed information on this, take a look at the extensive [enoki documentation](https://enoki.readthedocs.io/en/master/).\n",
    "In our case we are going to convert our enoki array into a numpy array."
   ]
  },
  {
   "cell_type": "code",
   "execution_count": 5,
   "metadata": {},
   "outputs": [],
   "source": [
    "import numpy as np\n",
    "values_np = np.array(values)"
   ]
  },
  {
   "cell_type": "markdown",
   "metadata": {},
   "source": [
    "We can now use our favourite plotting library to visualize the BSDF distribution (here we use `matplotlib`)."
   ]
  },
  {
   "cell_type": "code",
   "execution_count": 6,
   "metadata": {
    "scrolled": false
   },
   "outputs": [
    {
     "data": {
      "image/png": "[encoded data removed]",
      "text/plain": [
       "<Figure size 576x288 with 2 Axes>"
      ]
     },
     "metadata": {
      "needs_background": "light"
     },
     "output_type": "display_data"
    }
   ],
   "source": [
    "import matplotlib.pyplot as plt\n",
    "from mpl_toolkits.axes_grid1 import make_axes_locatable\n",
    "\n",
    "# Extract red channel of BRDF values and reshape into 2D grid\n",
    "values_r = values_np[:, 0]\n",
    "values_r = values_r.reshape(2 * res, res).T\n",
    "\n",
    "# Plot values for spherical coordinates\n",
    "fig, ax = plt.subplots(figsize=(8, 4))\n",
    "im = ax.imshow(values_r, extent=[0, 2 * np.pi, np.pi, 0], cmap='jet')\n",
    "ax.set_xlabel(r'$\\phi_o$', size=10)\n",
    "ax.set_xticks([0, np.pi, 2 * np.pi])\n",
    "ax.set_xticklabels(['0', '$\\\\pi$', '$2\\\\pi$'])\n",
    "ax.set_ylabel(r'$\\theta_o$', size=10)\n",
    "ax.set_yticks([0, np.pi / 2, np.pi])\n",
    "ax.set_yticklabels(['0', '$\\\\pi/2$', '$\\\\pi$'])\n",
    "cax = make_axes_locatable(ax).append_axes(\"right\", size=\"3%\", pad=0.05)\n",
    "plt.colorbar(im, cax=cax);"
   ]
  },
  {
   "cell_type": "markdown",
   "metadata": {},
   "source": [
    "### *Reference API*\n",
    "\n",
    "- [<code>enoki.zero</code>](...)\n",
    "- [<code>enoki.linspace</code>](...)\n",
    "- [<code>enoki.meshgrid</code>](...)\n",
    "- [<code>enoki.sincos</code>](...)\n",
    "- [<code>mitsuba.core.load_dict</code>](...)\n",
    "- [<code>mitsuba.render.SurfaceInteraction3f</code>](...)\n",
    "- [<code>mitsuba.render.BSDFContext</code>](...)\n",
    "- [<code>mitsuba.render.BSDF.eval</code>](...)"
   ]
  },
  {
   "cell_type": "markdown",
   "metadata": {},
   "source": [
    "---\n",
    "<div class=\"alert alert-block alert-info\" \n",
    "     style=\"cursor: pointer;\" \n",
    "     onclick=\"window.location='https://github.com/mitsuba-renderer/mitsuba2/';\">\n",
    "📑 Checkout full Jupyter notebook 📑\n",
    "</div>"
   ]
  }
 ],
 "metadata": {
  "file_extension": ".py",
  "kernelspec": {
   "display_name": "Python 3",
   "language": "python",
   "name": "python3"
  },
  "language_info": {
   "codemirror_mode": {
    "name": "ipython",
    "version": 3
   },
   "file_extension": ".py",
   "mimetype": "text/x-python",
   "name": "python",
   "nbconvert_exporter": "python",
   "pygments_lexer": "ipython3",
   "version": "3.8.10"
  },
  "metadata": {
   "interpreter": {
    "hash": "31f2aee4e71d21fbe5cf8b01ff0e069b9275f58929596ceb00d14d90e3e16cd6"
   }
  },
  "mimetype": "text/x-python",
  "name": "python",
  "npconvert_exporter": "python",
  "pygments_lexer": "ipython3",
  "version": 3
 },
 "nbformat": 4,
 "nbformat_minor": 2
}
