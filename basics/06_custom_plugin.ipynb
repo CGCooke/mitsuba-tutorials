{
 "cells": [
  {
   "cell_type": "markdown",
   "metadata": {},
   "source": [
    "# 6. Custom Plugin"
   ]
  },
  {
   "cell_type": "markdown",
   "metadata": {},
   "source": [
    "## Overview\n",
    "\n",
    "In this tutorial, we will learn how to create our own Mitsuba plugin directly in Python.\n",
    "\n",
    "<div class=\"alert alert-block alert-info\">\n",
    "\n",
    "✔️ **What will you learn?**\n",
    "    \n",
    "<ul>\n",
    "  <li>Create a BSDF plugin in Python</li>\n",
    "  <li>Register custom plugin to the system</li>\n",
    "  <li>Render our custom BSDF</li>\n",
    "</ul>\n",
    "    \n",
    "</div>\n"
   ]
  },
  {
   "cell_type": "markdown",
   "metadata": {},
   "source": [
    "### Step 1 - setup"
   ]
  },
  {
   "cell_type": "code",
   "execution_count": 1,
   "metadata": {
    "nbsphinx": "hidden"
   },
   "outputs": [],
   "source": [
    "# Add mitsuba and enoki to PATH (this shouldn't be necessary)\n",
    "import sys\n",
    "sys.path.append('/home/speierers/projects/mitsuba2-symbolic/build/python')"
   ]
  },
  {
   "cell_type": "code",
   "execution_count": 2,
   "metadata": {},
   "outputs": [],
   "source": [
    "import enoki as ek \n",
    "import mitsuba\n",
    "mitsuba.set_variant('llvm_ad_rgb')"
   ]
  },
  {
   "cell_type": "markdown",
   "metadata": {},
   "source": [
    "### Step 2 - implement the custom plugin"
   ]
  },
  {
   "cell_type": "code",
   "execution_count": 3,
   "metadata": {},
   "outputs": [],
   "source": [
    "from mitsuba.core.xml import load_dict\n",
    "from mitsuba.core import Float, UInt32, Frame3f, Color3f\n",
    "from mitsuba.render import BSDF, BSDFSample3f, BSDFFlags, fresnel, reflect, refract\n",
    "\n",
    "class MyBSDF(BSDF):\n",
    "    def __init__(self, props):\n",
    "        BSDF.__init__(self, props)\n",
    "        \n",
    "        # Read 'eta' and 'tint' properties from `props`\n",
    "        self.eta = 1.33\n",
    "        if props.has_property('eta'):\n",
    "            self.eta = props['eta']\n",
    "            \n",
    "        self.tint = props['tint']\n",
    "        \n",
    "        # Set the BSDF flags\n",
    "        reflection_flags   = BSDFFlags.DeltaReflection   | BSDFFlags.FrontSide | BSDFFlags.BackSide\n",
    "        transmission_flags = BSDFFlags.DeltaTransmission | BSDFFlags.FrontSide | BSDFFlags.BackSide        \n",
    "        self.m_components  = [reflection_flags, transmission_flags]\n",
    "        self.m_flags = reflection_flags | transmission_flags\n",
    "        \n",
    "    def sample(self, ctx, si, sample1, sample2, active):\n",
    "        # Compute Fresnel terms\n",
    "        cos_theta_i = Frame3f.cos_theta(si.wi)        \n",
    "        r_i, cos_theta_t, eta_it, eta_ti = fresnel(cos_theta_i, self.eta)\n",
    "        t_i = 1.0 - r_i\n",
    "         \n",
    "        # Pick between reflection and transmission\n",
    "        selected_r = (sample1 <= r_i) & active\n",
    "        selected_t = ~selected_r & active\n",
    "        \n",
    "        # Fill up the BSDFSample struct\n",
    "        bs = BSDFSample3f()\n",
    "        bs.pdf = ek.select(selected_r, r_i, t_i)\n",
    "        bs.sampled_component = ek.select(selected_r, UInt32(0), UInt32(1))\n",
    "        bs.sampled_type      = ek.select(selected_r, UInt32(+BSDFFlags.DeltaReflection),\n",
    "                                                     UInt32(+BSDFFlags.DeltaTransmission))\n",
    "        bs.wo = ek.select(selected_r,\n",
    "                          reflect(si.wi),\n",
    "                          refract(si.wi, cos_theta_t, eta_ti))\n",
    "        bs.eta = ek.select(selected_r, 1.0, eta_it)\n",
    "        \n",
    "        # Compute BSDF value (tinted reflections)\n",
    "        value = Color3f(1.0)\n",
    "        \n",
    "        # For reflection, tint based on the incident angle (more tint at grazing angle)\n",
    "        value[selected_r] = ek.lerp(Color3f(self.tint), Color3f(1.0), cos_theta_i)    \n",
    "        \n",
    "        # For transmission, radiance must be scaled to account for the solid angle compression\n",
    "        value[selected_t] = value * ek.sqr(eta_ti)\n",
    "\n",
    "        return ( bs, value )\n",
    "\n",
    "    def eval(self, ctx, si, wo, active):\n",
    "        return 0.0\n",
    "\n",
    "    def pdf(self, ctx, si, wo, active):\n",
    "        return 0.0\n",
    "\n",
    "    def to_string(self):\n",
    "        s = f'MyBSDF[\\n'                   \\\n",
    "          + f'    eta={self.eta},\\n'       \\\n",
    "          + f'    tint={self.tint},\\n'     \\\n",
    "          + f']'\n",
    "        return s"
   ]
  },
  {
   "cell_type": "markdown",
   "metadata": {},
   "source": [
    "### Step 3 - register and instanciate the BSDF"
   ]
  },
  {
   "cell_type": "code",
   "execution_count": 4,
   "metadata": {},
   "outputs": [],
   "source": [
    "from mitsuba.render import register_bsdf\n",
    "register_bsdf(\"mybsdf\", lambda props: MyBSDF(props))"
   ]
  },
  {
   "cell_type": "code",
   "execution_count": 5,
   "metadata": {},
   "outputs": [
    {
     "name": "stdout",
     "output_type": "stream",
     "text": [
      "MyBSDF[\n",
      "    eta=1.3300000429153442,\n",
      "    tint=[0.20000000298023224, 0.8999999761581421, 0.20000000298023224],\n",
      "]\n"
     ]
    }
   ],
   "source": [
    "from mitsuba.core.xml import load_dict\n",
    "my_bsdf = load_dict({\n",
    "    'type' : 'mybsdf',\n",
    "    'tint' : [0.2, 0.9, 0.2],\n",
    "    'eta' : 1.33\n",
    "})\n",
    "\n",
    "print(my_bsdf)"
   ]
  },
  {
   "cell_type": "markdown",
   "metadata": {},
   "source": [
    "### Step 4 - render"
   ]
  },
  {
   "cell_type": "code",
   "execution_count": 6,
   "metadata": {},
   "outputs": [
    {
     "data": {
      "text/html": [
       "<span style=\"font-family: monospace; color: #000\">2021-04-22 15:13:19 INFO  main  [Scene] Embree ready. (took 20ms)</span>"
      ]
     },
     "metadata": {},
     "output_type": "display_data"
    },
    {
     "data": {
      "text/html": [
       "<span style=\"font-family: monospace; color: #000\">2021-04-22 15:13:19 INFO  main  [SamplingIntegrator] Start rendering...</span>"
      ]
     },
     "metadata": {},
     "output_type": "display_data"
    },
    {
     "data": {
      "text/html": [
       "<span style=\"font-family: monospace; color: #000\">2021-04-22 15:13:19 INFO  main  [SamplingIntegrator] Computation graph recorded. (took 10ms)</span>"
      ]
     },
     "metadata": {},
     "output_type": "display_data"
    },
    {
     "data": {
      "text/html": [
       "<span style=\"font-family: monospace; color: #000\">2021-04-22 15:13:19 INFO  main  [SamplingIntegrator] Code generation finished. (took 2ms)</span>"
      ]
     },
     "metadata": {},
     "output_type": "display_data"
    },
    {
     "data": {
      "text/html": [
       "<span style=\"font-family: monospace; color: #000\">2021-04-22 15:13:19 INFO  main  [SamplingIntegrator] Rendering finished. (took 111ms)</span>"
      ]
     },
     "metadata": {},
     "output_type": "display_data"
    },
    {
     "data": {
      "image/png": "[encoded data removed]",
      "text/plain": [
       "<Figure size 432x288 with 1 Axes>"
      ]
     },
     "metadata": {
      "needs_background": "light"
     },
     "output_type": "display_data"
    }
   ],
   "source": [
    "from matplotlib import pyplot as plt\n",
    "from mitsuba.core import ScalarTransform4f\n",
    "from mitsuba.python.util import render\n",
    "\n",
    "scene = load_dict({\n",
    "    'type' : 'scene',\n",
    "    'integrator' : { \n",
    "        'type' : 'path' \n",
    "    },\n",
    "    'light' : { \n",
    "        'type' : 'constant' \n",
    "    },\n",
    "    'sphere' : {\n",
    "        'type' : 'sphere',\n",
    "        'bsdf' : my_bsdf\n",
    "    },\n",
    "    'sensor' : {\n",
    "        'type' : 'perspective',\n",
    "        'to_world' : ScalarTransform4f.look_at(origin=[0, -5, 5], \n",
    "                                               target=[0, 0, 0], \n",
    "                                               up=[0, 0, 1]),\n",
    "    }\n",
    "})\n",
    "\n",
    "plt.imshow(render(scene)); plt.axis('off');"
   ]
  },
  {
   "cell_type": "markdown",
   "metadata": {},
   "source": [
    "### *Reference API*\n",
    "\n",
    "- [<code>mitsuba.core.xml.load_file</code>](https://mitsuba2.readthedocs.io/en/latest/generated/core_api.html#mitsuba.core.xml.load_file)"
   ]
  }
 ],
 "metadata": {
  "file_extension": ".py",
  "kernelspec": {
   "display_name": "Python 3.6.9 64-bit",
   "language": "python",
   "name": "python36964bit93e44fdc4f014d30857bf48d4866e852"
  },
  "language_info": {
   "codemirror_mode": {
    "name": "ipython",
    "version": 3
   },
   "file_extension": ".py",
   "mimetype": "text/x-python",
   "name": "python",
   "nbconvert_exporter": "python",
   "pygments_lexer": "ipython3",
   "version": "3.8.5"
  },
  "metadata": {
   "interpreter": {
    "hash": "31f2aee4e71d21fbe5cf8b01ff0e069b9275f58929596ceb00d14d90e3e16cd6"
   }
  },
  "mimetype": "text/x-python",
  "name": "python",
  "npconvert_exporter": "python",
  "pygments_lexer": "ipython3",
  "version": 3
 },
 "nbformat": 4,
 "nbformat_minor": 2
}
