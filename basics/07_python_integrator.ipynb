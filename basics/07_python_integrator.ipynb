{
 "cells": [
  {
   "cell_type": "markdown",
   "metadata": {},
   "source": [
    "# 5. Python depth integrator"
   ]
  },
  {
   "cell_type": "markdown",
   "metadata": {},
   "source": [
    "## Overview\n",
    "\n",
    "This tutorial shows how to script a simple rendering pipeline to render depth images.\n",
    "\n",
    "<div class=\"alert alert-block alert-info\">\n",
    "\n",
    "✔️ **What will you learn?**\n",
    "    \n",
    "<ul>\n",
    "  <li>Write a custom rendering pipeline</li>\n",
    "  <li>Generate rays using the scene's sensor</li>\n",
    "  <li>Splat values to the film</li>\n",
    "  <li>Convert XYZ bitmap to RGB (with gamma correction)</li>\n",
    "</ul>\n",
    "    \n",
    "</div>\n"
   ]
  },
  {
   "cell_type": "markdown",
   "metadata": {},
   "source": [
    "### Step 1 - setup\n"
   ]
  },
  {
   "cell_type": "code",
   "execution_count": 1,
   "metadata": {
    "nbsphinx": "hidden"
   },
   "outputs": [],
   "source": [
    "# Add mitsuba and enoki to PATH (this shouldn't be necessary)\n",
    "import sys\n",
    "sys.path.append('/home/speierers/projects/mitsuba2-symbolic/build/python')"
   ]
  },
  {
   "cell_type": "code",
   "execution_count": 2,
   "metadata": {},
   "outputs": [],
   "source": [
    "import enoki as ek \n",
    "import mitsuba\n",
    "mitsuba.set_variant('llvm_ad_rgb')"
   ]
  },
  {
   "cell_type": "code",
   "execution_count": 3,
   "metadata": {},
   "outputs": [
    {
     "data": {
      "text/html": [
       "<span style=\"font-family: monospace; color: #000\">2021-04-22 16:14:01 INFO  main  [xml.cpp:1239] Loading XML file &quot;../../../resources/data/scenes/cbox/cbox.xml&quot; ..</span>"
      ]
     },
     "metadata": {},
     "output_type": "display_data"
    },
    {
     "data": {
      "text/html": [
       "<span style=\"font-family: monospace; color: #000\">2021-04-22 16:14:01 INFO  main  [xml.cpp:1240] Using variant &quot;llvm_ad_rgb&quot;</span>"
      ]
     },
     "metadata": {},
     "output_type": "display_data"
    },
    {
     "data": {
      "text/html": [
       "<span style=\"font-family: monospace; color: #000\">2021-04-22 16:14:01 INFO  main  [Scene] Embree ready. (took 20ms)</span>"
      ]
     },
     "metadata": {},
     "output_type": "display_data"
    }
   ],
   "source": [
    "from mitsuba.core.xml import load_file\n",
    "scene = load_file('../../../resources/data/scenes/cbox/cbox.xml')"
   ]
  },
  {
   "cell_type": "markdown",
   "metadata": {},
   "source": [
    "### Step 2 - prepare the pipeline\n",
    "\n",
    "In order to build our custom rendering pipeline, we will need to access the different elements provided in the scene (e.g. sensor, sampler, film). Note that we can of course decide to swap one of those with our own instances, e.g. using the `mitsuba.core.xml.load_dict` as done in previous tutorials."
   ]
  },
  {
   "cell_type": "code",
   "execution_count": 4,
   "metadata": {},
   "outputs": [],
   "source": [
    "sensor = scene.sensors()[0]\n",
    "\n",
    "film = sensor.film()\n",
    "film_size = film.crop_size()\n",
    "\n",
    "film.prepare([c for c in 'XYZAW'])"
   ]
  },
  {
   "cell_type": "markdown",
   "metadata": {},
   "source": [
    "As explained in [Tutorial 04](...), we need to seed the sampler before using it."
   ]
  },
  {
   "cell_type": "code",
   "execution_count": 5,
   "metadata": {},
   "outputs": [],
   "source": [
    "spp = 32 # Samples per pixel\n",
    "total_sample_count = ek.hprod(film_size) * spp\n",
    "\n",
    "sampler = sensor.sampler()\n",
    "if sampler.wavefront_size() != total_sample_count:\n",
    "    sampler.seed(0, total_sample_count)"
   ]
  },
  {
   "cell_type": "markdown",
   "metadata": {},
   "source": [
    "### Step 3 - generate camera rays\n",
    "\n",
    "Enumerate discrete sample & pixel indices, and uniformly sample positions within each pixel."
   ]
  },
  {
   "cell_type": "code",
   "execution_count": 6,
   "metadata": {},
   "outputs": [],
   "source": [
    "from mitsuba.core import Float, UInt32, Vector2f\n",
    "\n",
    "# Sample pixel locations\n",
    "pos = ek.arange(UInt32, total_sample_count)\n",
    "pos //= spp\n",
    "pos = Vector2f(Float(pos  % int(film_size[0])),\n",
    "               Float(pos // int(film_size[0])))\n",
    "pos += sampler.next_2d()\n",
    "\n",
    "# Sample rays starting from the camera sensor\n",
    "rays, weights = sensor.sample_ray_differential(\n",
    "    time=0,\n",
    "    sample1=sampler.next_1d(),\n",
    "    sample2=pos / Vector2f(film_size),\n",
    "    sample3=0\n",
    ")"
   ]
  },
  {
   "cell_type": "markdown",
   "metadata": {},
   "source": [
    "### Step 4 - direct illumination integrator\n",
    "\n",
    "Instead of calling the scene's integrator, we build our own small integrator."
   ]
  },
  {
   "cell_type": "code",
   "execution_count": 7,
   "metadata": {},
   "outputs": [],
   "source": [
    "from mitsuba.core import Spectrum\n",
    "from mitsuba.render import BSDFContext\n",
    "\n",
    "result = Spectrum(0)\n",
    "\n",
    "# Intersect rays with the scene geometry\n",
    "si = scene.ray_intersect(rays)\n",
    "active = si.is_valid()\n",
    "\n",
    "# Visible emitters\n",
    "result[active] = result + si.emitter(scene, active).eval(si, active)\n",
    "\n",
    "# Sample a direction from the intersection point towards an emitter\n",
    "ds, emitter_val = scene.sample_emitter_direction(si, sampler.next_2d(active), True, active)\n",
    "active &= ek.neq(ds.pdf, 0.0)\n",
    "\n",
    "# Evaluate the BSDF for the sampled emitter direction\n",
    "bsdf = si.bsdf(rays)\n",
    "wo = si.to_local(ds.d)\n",
    "bsdf_val = bsdf.eval(BSDFContext(), si, wo, active)\n",
    "\n",
    "# Read the depth value `t` of the sampled surface interaction\n",
    "result[active] = result + bsdf_val * emitter_val"
   ]
  },
  {
   "cell_type": "markdown",
   "metadata": {},
   "source": [
    "### Step 5 - splatting onto the film"
   ]
  },
  {
   "cell_type": "code",
   "execution_count": 8,
   "metadata": {},
   "outputs": [],
   "source": [
    "from mitsuba.render import ImageBlock\n",
    "\n",
    "block = ImageBlock(\n",
    "    film.crop_size(),\n",
    "    channel_count=5,\n",
    "    filter=film.reconstruction_filter(),\n",
    "    border=False\n",
    ")\n",
    "\n",
    "# Ensure the values in the allocated buffer are initialized to zero\n",
    "block.clear()\n",
    "\n",
    "# Splat the values to the ImageBlock at the corresponding pixel locations\n",
    "block.put(pos, rays.wavelengths, result, 1)\n",
    "\n",
    "# Add this image block to the film for later convertion to Bitmap (e.g. HDR)\n",
    "film.put(block)"
   ]
  },
  {
   "cell_type": "markdown",
   "metadata": {},
   "source": [
    "### Step 6 - convertion from XYZ to RGB"
   ]
  },
  {
   "cell_type": "code",
   "execution_count": 9,
   "metadata": {},
   "outputs": [],
   "source": [
    "from mitsuba.core import Bitmap, Struct\n",
    "xyz_image = film.bitmap(raw=True)\n",
    "rgb_image = xyz_image.convert(Bitmap.PixelFormat.RGB, Struct.Type.UInt8, srgb_gamma=True)"
   ]
  },
  {
   "cell_type": "markdown",
   "metadata": {},
   "source": [
    "Let's now have a look at the image we have produced in this tutorial! "
   ]
  },
  {
   "cell_type": "code",
   "execution_count": 10,
   "metadata": {},
   "outputs": [
    {
     "data": {
      "image/png": "[encoded data removed]",
      "text/plain": [
       "<Figure size 432x288 with 1 Axes>"
      ]
     },
     "metadata": {
      "needs_background": "light"
     },
     "output_type": "display_data"
    }
   ],
   "source": [
    "from matplotlib import pyplot as plt\n",
    "plt.imshow(rgb_image); plt.axis('off');"
   ]
  },
  {
   "cell_type": "markdown",
   "metadata": {},
   "source": [
    "### *Reference API*\n",
    "\n",
    "- [<code>mitsuba.core.Bitmap</code>](...)\n",
    "- [<code>mitsuba.core.Bitmap.convert</code>](...)\n",
    "- [<code>mitsuba.render.ImageBlock</code>](...)\n",
    "- [<code>mitsuba.render.ImageBlock.clear</code>](...)\n",
    "- [<code>mitsuba.render.ImageBlock.put</code>](...)\n",
    "- [<code>mitsuba.render.Film.put</code>](...)\n",
    "- [<code>mitsuba.render.Film.bitmap</code>](...)\n",
    "- [<code>mitsuba.render.Scene.ray_intersect</code>](...)\n",
    "- [<code>mitsuba.render.Scene.sample_emitter_direction</code>](...)"
   ]
  }
 ],
 "metadata": {
  "file_extension": ".py",
  "kernelspec": {
   "display_name": "Python 3.6.9 64-bit",
   "language": "python",
   "name": "python36964bit93e44fdc4f014d30857bf48d4866e852"
  },
  "language_info": {
   "codemirror_mode": {
    "name": "ipython",
    "version": 3
   },
   "file_extension": ".py",
   "mimetype": "text/x-python",
   "name": "python",
   "nbconvert_exporter": "python",
   "pygments_lexer": "ipython3",
   "version": "3.8.5"
  },
  "metadata": {
   "interpreter": {
    "hash": "31f2aee4e71d21fbe5cf8b01ff0e069b9275f58929596ceb00d14d90e3e16cd6"
   }
  },
  "mimetype": "text/x-python",
  "name": "python",
  "npconvert_exporter": "python",
  "pygments_lexer": "ipython3",
  "version": 3
 },
 "nbformat": 4,
 "nbformat_minor": 2
}
