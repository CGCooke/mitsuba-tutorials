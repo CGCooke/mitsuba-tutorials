{
 "cells": [
  {
   "cell_type": "markdown",
   "metadata": {},
   "source": [
    "# 2. Scene inspection"
   ]
  },
  {
   "cell_type": "markdown",
   "metadata": {},
   "source": [
    "## Overview\n",
    "\n",
    "This tutorial explores an important mechanism in Mitsuba 2: `traverse()`.\n",
    "\n",
    "<div class=\"alert alert-block alert-info\">\n",
    "\n",
    "✔️ **What will you learn?**\n",
    "    \n",
    "<ul>\n",
    "  <li>Use the traverse mechanism to inspect and edit a scene</li>\n",
    "  <li>Convert Bitmap images to numpy array</li>\n",
    "</ul>\n",
    "    \n",
    "</div>\n"
   ]
  },
  {
   "cell_type": "markdown",
   "metadata": {},
   "source": [
    "### Step 1 - set things up\n",
    "\n",
    "Following the same steps as in [Tutorial 1](../01_first_render), we are going to import mitsuba and load a scene from an XML file on disk."
   ]
  },
  {
   "cell_type": "code",
   "execution_count": 1,
   "metadata": {
    "nbsphinx": "hidden"
   },
   "outputs": [],
   "source": [
    "# Add mitsuba and enoki to PATH (this shouldn't be necessary)\n",
    "import sys\n",
    "sys.path.append('/home/speierers/projects/mitsuba2-symbolic/build/python')"
   ]
  },
  {
   "cell_type": "code",
   "execution_count": 2,
   "metadata": {},
   "outputs": [
    {
     "data": {
      "text/html": [
       "<span style=\"font-family: monospace; color: #000\">2021-04-20 16:16:43 INFO  main  [xml.cpp:1239] Loading XML file &quot;../../resources/data/scenes/hello.xml&quot; ..</span>"
      ]
     },
     "metadata": {},
     "output_type": "display_data"
    },
    {
     "data": {
      "text/html": [
       "<span style=\"font-family: monospace; color: #000\">2021-04-20 16:16:43 INFO  main  [xml.cpp:1240] Using variant &quot;llvm_ad_rgb&quot;</span>"
      ]
     },
     "metadata": {},
     "output_type": "display_data"
    },
    {
     "data": {
      "text/html": [
       "<span style=\"font-family: monospace; color: #000\">2021-04-20 16:16:43 INFO  main  [Scene] Embree ready. (took 33ms)</span>"
      ]
     },
     "metadata": {},
     "output_type": "display_data"
    }
   ],
   "source": [
    "import enoki as ek \n",
    "import mitsuba\n",
    "mitsuba.set_variant('llvm_ad_rgb')\n",
    "\n",
    "from mitsuba.core.xml import load_file\n",
    "scene = load_file('../../resources/data/scenes/hello.xml')"
   ]
  },
  {
   "cell_type": "markdown",
   "metadata": {},
   "source": [
    "### Step 2 - access the scene parameters"
   ]
  },
  {
   "cell_type": "code",
   "execution_count": 3,
   "metadata": {},
   "outputs": [],
   "source": [
    "from mitsuba.python.util import traverse\n",
    "params = traverse(scene)"
   ]
  },
  {
   "cell_type": "code",
   "execution_count": 4,
   "metadata": {},
   "outputs": [
    {
     "name": "stdout",
     "output_type": "stream",
     "text": [
      "SceneParameters[\n",
      "    PerspectiveCamera.near_clip,\n",
      "    PerspectiveCamera.far_clip,\n",
      "    PerspectiveCamera.focus_distance,\n",
      "    PerspectiveCamera.shutter_open,\n",
      "    PerspectiveCamera.shutter_open_time,\n",
      "    PerspectiveCamera.x_fov,\n",
      "    PLYMesh.to_world,\n",
      "  * PLYMesh.bsdf.reflectance.value,\n",
      "    PLYMesh.vertex_count,\n",
      "    PLYMesh.face_count,\n",
      "    PLYMesh.faces,\n",
      "  * PLYMesh.vertex_positions,\n",
      "  * PLYMesh.vertex_normals,\n",
      "  * PLYMesh.vertex_texcoords,\n",
      "  * PointLight.intensity.value,\n",
      "  * PointLight_1.intensity.value,\n",
      "]\n"
     ]
    }
   ],
   "source": [
    "print(params)"
   ]
  },
  {
   "cell_type": "markdown",
   "metadata": {},
   "source": [
    "Before making any modifications to the scene, let's render the scene as it is."
   ]
  },
  {
   "cell_type": "code",
   "execution_count": 5,
   "metadata": {},
   "outputs": [
    {
     "data": {
      "text/html": [
       "<span style=\"font-family: monospace; color: #000\">2021-04-20 16:16:44 INFO  main  [SamplingIntegrator] Start rendering...</span>"
      ]
     },
     "metadata": {},
     "output_type": "display_data"
    },
    {
     "data": {
      "text/html": [
       "<span style=\"font-family: monospace; color: #000\">2021-04-20 16:16:44 INFO  main  [SamplingIntegrator] Computation graph recorded. (took 13ms)</span>"
      ]
     },
     "metadata": {},
     "output_type": "display_data"
    },
    {
     "data": {
      "text/html": [
       "<span style=\"font-family: monospace; color: #000\">2021-04-20 16:16:44 INFO  main  [SamplingIntegrator] Code generation finished. (took 3ms)</span>"
      ]
     },
     "metadata": {},
     "output_type": "display_data"
    },
    {
     "data": {
      "text/html": [
       "<span style=\"font-family: monospace; color: #000\">2021-04-20 16:16:44 INFO  main  [SamplingIntegrator] Rendering finished. (took 72ms)</span>"
      ]
     },
     "metadata": {},
     "output_type": "display_data"
    }
   ],
   "source": [
    "from mitsuba.python.util import render\n",
    "image1 = render(scene)"
   ]
  },
  {
   "cell_type": "markdown",
   "metadata": {},
   "source": [
    "### Step 3 - edit the scene"
   ]
  },
  {
   "cell_type": "code",
   "execution_count": 15,
   "metadata": {},
   "outputs": [
    {
     "data": {
      "text/html": [
       "<span style=\"font-family: monospace; color: #000\">2021-04-20 16:22:15 INFO  main  [SamplingIntegrator] Start rendering...</span>"
      ]
     },
     "metadata": {},
     "output_type": "display_data"
    },
    {
     "data": {
      "text/html": [
       "<span style=\"font-family: monospace; color: #000\">2021-04-20 16:22:15 INFO  main  [SamplingIntegrator] Computation graph recorded. (took 3ms)</span>"
      ]
     },
     "metadata": {},
     "output_type": "display_data"
    },
    {
     "data": {
      "text/html": [
       "<span style=\"font-family: monospace; color: #000\">2021-04-20 16:22:15 INFO  main  [SamplingIntegrator] Code generation finished. (took 62ms)</span>"
      ]
     },
     "metadata": {},
     "output_type": "display_data"
    },
    {
     "data": {
      "text/html": [
       "<span style=\"font-family: monospace; color: #000\">2021-04-20 16:22:15 INFO  main  [SamplingIntegrator] Rendering finished. (took 117ms)</span>"
      ]
     },
     "metadata": {},
     "output_type": "display_data"
    }
   ],
   "source": [
    "# Give a red-ish tint to the first point light source\n",
    "params['PointLight.intensity.value'] *= [1.5, 0.2, 0.2]\n",
    "\n",
    "# Give a green-ish tint to the second point light source\n",
    "params['PointLight_1.intensity.value'] *= [0.2, 1.5, 0.2]\n",
    "\n",
    "# Notify the scene of the changes\n",
    "params.update()\n",
    "\n",
    "# Render the modified scene\n",
    "image2 = render(scene)"
   ]
  },
  {
   "cell_type": "markdown",
   "metadata": {},
   "source": [
    "### Step 4 - display the images"
   ]
  },
  {
   "cell_type": "code",
   "execution_count": 14,
   "metadata": {},
   "outputs": [],
   "source": [
    "import numpy as np\n",
    "image1_np = np.array(image1)\n",
    "image2_np = np.array(image2)"
   ]
  },
  {
   "cell_type": "markdown",
   "metadata": {},
   "source": [
    "We can now easily display the render images using matplotlib without having to write the images to disk."
   ]
  },
  {
   "cell_type": "code",
   "execution_count": 13,
   "metadata": {},
   "outputs": [
    {
     "data": {
      "image/png": "[encoded data removed]",
      "text/plain": [
       "<Figure size 720x720 with 2 Axes>"
      ]
     },
     "metadata": {
      "needs_background": "light"
     },
     "output_type": "display_data"
    }
   ],
   "source": [
    "from matplotlib import pyplot as plt\n",
    "fig = plt.figure(figsize=(10, 10))\n",
    "fig.add_subplot(1,2,1).imshow(image1_np); plt.axis('off'); plt.title('original')\n",
    "fig.add_subplot(1,2,2).imshow(image2_np); plt.axis('off'); plt.title('modified');"
   ]
  },
  {
   "cell_type": "markdown",
   "metadata": {},
   "source": [
    "### *Reference API*\n",
    "\n",
    "- [<code>mitsuba.python.util.traverse</code>](...)\n",
    "- [<code>mitsuba.python.util.render</code>](...)\n",
    "- [<code>mitsuba.python.util.SceneParameters.update</code>](...)"
   ]
  }
 ],
 "metadata": {
  "file_extension": ".py",
  "kernelspec": {
   "display_name": "Python 3.6.9 64-bit",
   "language": "python",
   "name": "python36964bit93e44fdc4f014d30857bf48d4866e852"
  },
  "language_info": {
   "codemirror_mode": {
    "name": "ipython",
    "version": 3
   },
   "file_extension": ".py",
   "mimetype": "text/x-python",
   "name": "python",
   "nbconvert_exporter": "python",
   "pygments_lexer": "ipython3",
   "version": "3.8.5"
  },
  "metadata": {
   "interpreter": {
    "hash": "31f2aee4e71d21fbe5cf8b01ff0e069b9275f58929596ceb00d14d90e3e16cd6"
   }
  },
  "mimetype": "text/x-python",
  "name": "python",
  "npconvert_exporter": "python",
  "pygments_lexer": "ipython3",
  "version": 3
 },
 "nbformat": 4,
 "nbformat_minor": 2
}
