{
 "cells": [
  {
   "cell_type": "markdown",
   "metadata": {},
   "source": [
    "# 1. First render"
   ]
  },
  {
   "cell_type": "markdown",
   "metadata": {},
   "source": [
    "## Overview\n",
    "\n",
    "This very first tutorial will guide you through an easy installation of the Mitsuba 2 framework and show you how to render you very first image!\n",
    "\n",
    "<div class=\"alert alert-block alert-info\">\n",
    "    \n",
    "✔️ **What will you learn?**\n",
    "    \n",
    "<ul>\n",
    "  <li>(UPCOMING) Install mitsuba using pip install</li>\n",
    "  <li>Load a scene from disk</li>\n",
    "  <li>Render a scene</li>\n",
    "  <li>Write a rendered image to disk</li>\n",
    "</ul>\n",
    "    \n",
    "</div>"
   ]
  },
  {
   "cell_type": "markdown",
   "metadata": {},
   "source": [
    "### Step 1 - install mitsuba and enoki\n",
    "\n",
    "Before getting our hands dirty, we need to install the mitsuba and enoki libraries in our python environnement if it is not already done. While it is possible to build the framework from the source code (see [documentation](../src/getting_started/compilation.rst)), we recommand to use `pip` for an easier installation:\n",
    "\n",
    "```\n",
    "pip3 install mitsuba2\n",
    "```\n",
    "\n",
    "<div class=\"alert alert-block alert-danger\">\n",
    "⚠️ Unfortunately, it is not yet possible to install the mitsuba2 library using pip install. \n",
    "You will need to build the framework manually in the meantime. (see doc)\n",
    "</div>\n",
    "\n",
    "### Step 2 - choose your variant\n",
    "\n",
    "Now that the framework was successfully installed, let's dive in and render our first image. As with all Python packages, the first thing to do is to import the libraries."
   ]
  },
  {
   "cell_type": "code",
   "execution_count": 1,
   "metadata": {
    "nbsphinx": "hidden"
   },
   "outputs": [],
   "source": [
    "# Add mitsuba and enoki to PATH \n",
    "# (this shouldn't be necessary if you properly ran `source build/setpath.sh` before launching this notebook)\n",
    "import sys\n",
    "sys.path.append('../../../build/python')"
   ]
  },
  {
   "cell_type": "code",
   "execution_count": 1,
   "metadata": {},
   "outputs": [],
   "source": [
    "import enoki as ek \n",
    "import mitsuba"
   ]
  },
  {
   "cell_type": "markdown",
   "metadata": {},
   "source": [
    "We use the short alias `ek` for `enoki` as it will be used frequently in our scripts. Conviniently, the enoki API is very similar to the numpy API, and translating snippets of code from one framework to the other is often as easy as replacing the library suffix `np <--> ek`.\n",
    "\n",
    "The organization of the Mitsuba framework is more involved, due to its correspondance to the underlying C++ library. Classes and functions are presented in three main submodules:\n",
    "\n",
    "- `mitsuba.core`\n",
    "- `mitsuba.render`\n",
    "- `mitsuba.python`\n",
    "\n",
    "Moreover, mitsuba is a *retargetable* system, meaning that it is possible to choose between different flavour of computational backends (e.g. CPU vs GPU), and change other aspects of the renderer (e.g. RGB vs spectral rendering, single vs double precision, etc...). Without going further into the details here, what's important to take away from this is that it is necessary to tell the system which *variant* of the renderer should be enabled before doing anything else.\n",
    "\n",
    "This can be achieved using the `mitsuba.set_variant('variant_name')` routine. For more information on this subject, please refer to the [dedicated section](../src/getting_started/variants.rst) in the doc.\n",
    "\n",
    "For this tutorial, we are going to stick with the simplest of the variant: `scalar_rgb`. As the name implies, computations will be performed in a scalar-fashion (e.g. non-vectorized code running on the CPU) and the light transport simulation will operate on RGB color values. As we will see in further tutorials, switching to a different variant of the system (e.g. GPU) should be possible by simply setting a different variant name here."
   ]
  },
  {
   "cell_type": "code",
   "execution_count": 2,
   "metadata": {},
   "outputs": [],
   "source": [
    "mitsuba.set_variant('scalar_rgb')"
   ]
  },
  {
   "cell_type": "markdown",
   "metadata": {},
   "source": [
    "### Step 3 - loading a scene from disk\n",
    "\n",
    "Now that the framework is properly setup, we can get started! 🚀\n",
    "\n",
    "In this tutorial, we are going to load a Mitsuba scene from a file on disk. Mitsuba scenes are described using a simple and general XML-based format as explained in the [documentation](../src/getting_started/file_format.rst).\n",
    "\n",
    "Luckily for us, a few scenes were already provided during the installation. In order to load a scene, we are going to use the [<code>mitsuba.core.load_file</code>][1] function to which we are going to pass the file name of our XML scene.\n",
    "\n",
    "\n",
    "[1]: https://mitsuba2.readthedocs.io/en/latest/generated/core_api.html?highlight=load_file#mitsuba.core.load_file"
   ]
  },
  {
   "cell_type": "code",
   "execution_count": 3,
   "metadata": {},
   "outputs": [
    {
     "data": {
      "text/html": [
       "<span style=\"font-family: monospace; color: #000\">2021-11-18 09:34:20 INFO  main  [xml.cpp:1250] Loading XML file &quot;..\\scenes\\cbox.xml&quot; ..</span>"
      ]
     },
     "metadata": {},
     "output_type": "display_data"
    },
    {
     "data": {
      "text/html": [
       "<span style=\"font-family: monospace; color: #000\">2021-11-18 09:34:20 INFO  main  [xml.cpp:1251] Using variant &quot;scalar_rgb&quot;</span>"
      ]
     },
     "metadata": {},
     "output_type": "display_data"
    },
    {
     "data": {
      "text/html": [
       "<span style=\"font-family: monospace; color: #bbb\">2021-11-18 09:34:20 DEBUG main  [PluginManager] Loading plugin &quot;plugins\\srgb.dll&quot; ..</span>"
      ]
     },
     "metadata": {},
     "output_type": "display_data"
    },
    {
     "data": {
      "text/html": [
       "<span style=\"font-family: monospace; color: #bbb\">2021-11-18 09:34:20 DEBUG main  [PluginManager] Loading plugin &quot;plugins\\srgb_d65.dll&quot; ..</span>"
      ]
     },
     "metadata": {},
     "output_type": "display_data"
    },
    {
     "data": {
      "text/html": [
       "<span style=\"font-family: monospace; color: #bbb\">2021-11-18 09:34:20 DEBUG wrk0  [PluginManager] Loading plugin &quot;plugins\\path.dll&quot; ..</span>"
      ]
     },
     "metadata": {},
     "output_type": "display_data"
    },
    {
     "data": {
      "text/html": [
       "<span style=\"font-family: monospace; color: #bbb\">2021-11-18 09:34:20 DEBUG main  [PluginManager] Loading plugin &quot;plugins\\independent.dll&quot; ..</span>"
      ]
     },
     "metadata": {},
     "output_type": "display_data"
    },
    {
     "data": {
      "text/html": [
       "<span style=\"font-family: monospace; color: #bbb\">2021-11-18 09:34:20 DEBUG wrk1  [PluginManager] Loading plugin &quot;plugins\\box.dll&quot; ..</span>"
      ]
     },
     "metadata": {},
     "output_type": "display_data"
    },
    {
     "data": {
      "text/html": [
       "<span style=\"font-family: monospace; color: #bbb\">2021-11-18 09:34:20 DEBUG wrk2  [PluginManager] Loading plugin &quot;plugins\\diffuse.dll&quot; ..</span>"
      ]
     },
     "metadata": {},
     "output_type": "display_data"
    },
    {
     "data": {
      "text/html": [
       "<span style=\"font-family: monospace; color: #bbb\">2021-11-18 09:34:20 DEBUG wrk4  [PluginManager] Loading plugin &quot;plugins\\area.dll&quot; ..</span>"
      ]
     },
     "metadata": {},
     "output_type": "display_data"
    },
    {
     "data": {
      "text/html": [
       "<span style=\"font-family: monospace; color: #bbb\">2021-11-18 09:34:20 DEBUG main  [PluginManager] Loading plugin &quot;plugins\\hdrfilm.dll&quot; ..</span>"
      ]
     },
     "metadata": {},
     "output_type": "display_data"
    },
    {
     "data": {
      "text/html": [
       "<span style=\"font-family: monospace; color: #bbb\">2021-11-18 09:34:20 DEBUG wrk2  [PluginManager] Loading plugin &quot;plugins\\obj.dll&quot; ..</span>"
      ]
     },
     "metadata": {},
     "output_type": "display_data"
    },
    {
     "data": {
      "text/html": [
       "<span style=\"font-family: monospace; color: #bbb\">2021-11-18 09:34:20 DEBUG wrk2  [OBJMesh] Loading mesh from &quot;cbox_largebox.obj&quot; ..</span>"
      ]
     },
     "metadata": {},
     "output_type": "display_data"
    },
    {
     "data": {
      "text/html": [
       "<span style=\"font-family: monospace; color: #bbb\">2021-11-18 09:34:20 DEBUG wrk3  [OBJMesh] Loading mesh from &quot;cbox_ceiling.obj&quot; ..</span>"
      ]
     },
     "metadata": {},
     "output_type": "display_data"
    },
    {
     "data": {
      "text/html": [
       "<span style=\"font-family: monospace; color: #bbb\">2021-11-18 09:34:20 DEBUG wrk7  [OBJMesh] Loading mesh from &quot;cbox_floor.obj&quot; ..</span>"
      ]
     },
     "metadata": {},
     "output_type": "display_data"
    },
    {
     "data": {
      "text/html": [
       "<span style=\"font-family: monospace; color: #bbb\">2021-11-18 09:34:20 DEBUG wrk1  [OBJMesh] Loading mesh from &quot;cbox_smallbox.obj&quot; ..</span>"
      ]
     },
     "metadata": {},
     "output_type": "display_data"
    },
    {
     "data": {
      "text/html": [
       "<span style=\"font-family: monospace; color: #bbb\">2021-11-18 09:34:20 DEBUG wrk4  [PluginManager] Loading plugin &quot;plugins\\uniform.dll&quot; ..</span>"
      ]
     },
     "metadata": {},
     "output_type": "display_data"
    },
    {
     "data": {
      "text/html": [
       "<span style=\"font-family: monospace; color: #bbb\">2021-11-18 09:34:20 DEBUG wrk6  [OBJMesh] Loading mesh from &quot;cbox_redwall.obj&quot; ..</span>"
      ]
     },
     "metadata": {},
     "output_type": "display_data"
    },
    {
     "data": {
      "text/html": [
       "<span style=\"font-family: monospace; color: #bbb\">2021-11-18 09:34:20 DEBUG wrk0  [OBJMesh] Loading mesh from &quot;cbox_back.obj&quot; ..</span>"
      ]
     },
     "metadata": {},
     "output_type": "display_data"
    },
    {
     "data": {
      "text/html": [
       "<span style=\"font-family: monospace; color: #bbb\">2021-11-18 09:34:20 DEBUG wrk5  [OBJMesh] Loading mesh from &quot;cbox_greenwall.obj&quot; ..</span>"
      ]
     },
     "metadata": {},
     "output_type": "display_data"
    },
    {
     "data": {
      "text/html": [
       "<span style=\"font-family: monospace; color: #bbb\">2021-11-18 09:34:20 DEBUG wrk2  [OBJMesh] &quot;cbox_largebox.obj&quot;: read 12 faces, 24 vertices (720 B in 0ms)</span>"
      ]
     },
     "metadata": {},
     "output_type": "display_data"
    },
    {
     "data": {
      "text/html": [
       "<span style=\"font-family: monospace; color: #bbb\">2021-11-18 09:34:20 DEBUG wrk3  [OBJMesh] &quot;cbox_ceiling.obj&quot;: read 4 faces, 8 vertices (240 B in 0ms)</span>"
      ]
     },
     "metadata": {},
     "output_type": "display_data"
    },
    {
     "data": {
      "text/html": [
       "<span style=\"font-family: monospace; color: #bbb\">2021-11-18 09:34:20 DEBUG wrk7  [OBJMesh] &quot;cbox_floor.obj&quot;: read 2 faces, 4 vertices (120 B in 0ms)</span>"
      ]
     },
     "metadata": {},
     "output_type": "display_data"
    },
    {
     "data": {
      "text/html": [
       "<span style=\"font-family: monospace; color: #bbb\">2021-11-18 09:34:20 DEBUG wrk1  [OBJMesh] &quot;cbox_smallbox.obj&quot;: read 12 faces, 24 vertices (720 B in 0ms)</span>"
      ]
     },
     "metadata": {},
     "output_type": "display_data"
    },
    {
     "data": {
      "text/html": [
       "<span style=\"font-family: monospace; color: #bbb\">2021-11-18 09:34:20 DEBUG wrk6  [OBJMesh] &quot;cbox_redwall.obj&quot;: read 2 faces, 4 vertices (120 B in 0ms)</span>"
      ]
     },
     "metadata": {},
     "output_type": "display_data"
    },
    {
     "data": {
      "text/html": [
       "<span style=\"font-family: monospace; color: #bbb\">2021-11-18 09:34:20 DEBUG wrk0  [OBJMesh] &quot;cbox_back.obj&quot;: read 2 faces, 4 vertices (120 B in 0ms)</span>"
      ]
     },
     "metadata": {},
     "output_type": "display_data"
    },
    {
     "data": {
      "text/html": [
       "<span style=\"font-family: monospace; color: #bbb\">2021-11-18 09:34:20 DEBUG wrk5  [OBJMesh] &quot;cbox_greenwall.obj&quot;: read 2 faces, 4 vertices (120 B in 0ms)</span>"
      ]
     },
     "metadata": {},
     "output_type": "display_data"
    },
    {
     "data": {
      "text/html": [
       "<span style=\"font-family: monospace; color: #bbb\">2021-11-18 09:34:20 DEBUG wrk3  [OBJMesh] &quot;cbox_ceiling.obj&quot;: computed vertex normals (took 0ms)</span>"
      ]
     },
     "metadata": {},
     "output_type": "display_data"
    },
    {
     "data": {
      "text/html": [
       "<span style=\"font-family: monospace; color: #bbb\">2021-11-18 09:34:20 DEBUG wrk7  [OBJMesh] &quot;cbox_floor.obj&quot;: computed vertex normals (took 0ms)</span>"
      ]
     },
     "metadata": {},
     "output_type": "display_data"
    },
    {
     "data": {
      "text/html": [
       "<span style=\"font-family: monospace; color: #bbb\">2021-11-18 09:34:20 DEBUG wrk6  [OBJMesh] &quot;cbox_redwall.obj&quot;: computed vertex normals (took 0ms)</span>"
      ]
     },
     "metadata": {},
     "output_type": "display_data"
    },
    {
     "data": {
      "text/html": [
       "<span style=\"font-family: monospace; color: #bbb\">2021-11-18 09:34:20 DEBUG wrk0  [OBJMesh] &quot;cbox_back.obj&quot;: computed vertex normals (took 0ms)</span>"
      ]
     },
     "metadata": {},
     "output_type": "display_data"
    },
    {
     "data": {
      "text/html": [
       "<span style=\"font-family: monospace; color: #bbb\">2021-11-18 09:34:20 DEBUG main  [PluginManager] Loading plugin &quot;plugins\\perspective.dll&quot; ..</span>"
      ]
     },
     "metadata": {},
     "output_type": "display_data"
    },
    {
     "data": {
      "text/html": [
       "<span style=\"font-family: monospace; color: #bbb\">2021-11-18 09:34:20 DEBUG wrk5  [OBJMesh] &quot;cbox_greenwall.obj&quot;: computed vertex normals (took 0ms)</span>"
      ]
     },
     "metadata": {},
     "output_type": "display_data"
    },
    {
     "data": {
      "text/html": [
       "<span style=\"font-family: monospace; color: #bbb\">2021-11-18 09:34:20 DEBUG wrk2  [OBJMesh] Loading mesh from &quot;cbox_luminaire.obj&quot; ..</span>"
      ]
     },
     "metadata": {},
     "output_type": "display_data"
    },
    {
     "data": {
      "text/html": [
       "<span style=\"font-family: monospace; color: #bbb\">2021-11-18 09:34:20 DEBUG wrk2  [OBJMesh] &quot;cbox_luminaire.obj&quot;: read 2 faces, 4 vertices (120 B in 0ms)</span>"
      ]
     },
     "metadata": {},
     "output_type": "display_data"
    },
    {
     "data": {
      "text/html": [
       "<span style=\"font-family: monospace; color: #bbb\">2021-11-18 09:34:20 DEBUG wrk2  [OBJMesh] &quot;cbox_luminaire.obj&quot;: computed vertex normals (took 0ms)</span>"
      ]
     },
     "metadata": {},
     "output_type": "display_data"
    },
    {
     "data": {
      "text/html": [
       "<span style=\"font-family: monospace; color: #000\">2021-11-18 09:34:20 INFO  main  [Scene] Embree ready. (took 18ms)</span>"
      ]
     },
     "metadata": {},
     "output_type": "display_data"
    }
   ],
   "source": [
    "from mitsuba.core import xml\n",
    "scene = xml.load_file('../scenes/cbox.xml')"
   ]
  },
  {
   "cell_type": "markdown",
   "metadata": {},
   "source": [
    "### Step 4 - render the scene\n",
    "\n",
    "With the scene loaded, we are now ready to perform our first rendering!"
   ]
  },
  {
   "cell_type": "code",
   "execution_count": null,
   "metadata": {},
   "outputs": [
    {
     "data": {
      "text/html": [
       "<span style=\"font-family: monospace; color: #000\">2021-11-18 09:34:20 INFO  main  [SamplingIntegrator] Starting render job (256x256, 128 samples, 8 threads)</span>"
      ]
     },
     "metadata": {},
     "output_type": "display_data"
    },
    {
     "data": {
      "application/vnd.jupyter.widget-view+json": {
       "model_id": "5717a8d3d1c94b7eb7c551cf41b280b4",
       "version_major": 2,
       "version_minor": 0
      },
      "text/plain": [
       "VBox(children=(HTML(value=''), FloatProgress(value=0.0, bar_style='info', layout=Layout(width='100%'), max=1.0…"
      ]
     },
     "metadata": {},
     "output_type": "display_data"
    }
   ],
   "source": [
    "image = scene.render(spp=128)"
   ]
  },
  {
   "cell_type": "markdown",
   "metadata": {},
   "source": [
    "### Step 5 - write image to file\n",
    "\n",
    "This rendering routine returns a [<code>mitsuba.core.Bitmap</code>][mitsuba.core.Bitmap] object. It is then straightforward to write this image down to disk using the `write()` method.\n",
    "\n",
    "\n",
    "[mitsuba.core.Bitmap]: https://mitsuba2.readthedocs.io/en/latest/generated/core_api.html?highlight=Bitmap#mitsuba.core.Bitmap"
   ]
  },
  {
   "cell_type": "code",
   "execution_count": null,
   "metadata": {},
   "outputs": [
    {
     "data": {
      "text/html": [
       "<span style=\"font-family: monospace; color: #bbb\">2021-09-28 10:29:33 DEBUG main  [Bitmap] Writing OpenEXR file &quot;my_first_rendering.exr&quot; (256x256, rgb, float16) ..</span>"
      ]
     },
     "metadata": {},
     "output_type": "display_data"
    }
   ],
   "source": [
    "image.write('my_first_rendering.exr')"
   ]
  },
  {
   "cell_type": "markdown",
   "metadata": {},
   "source": [
    "It is also possible to write a PNG image file, but for this we first need to convert our bitmap to make sure it has the right pixel and component format."
   ]
  },
  {
   "cell_type": "code",
   "execution_count": null,
   "metadata": {},
   "outputs": [
    {
     "data": {
      "text/html": [
       "<span style=\"font-family: monospace; color: #bbb\">2021-09-28 10:29:34 DEBUG main  [Bitmap] Writing PNG file &quot;my_first_rendering.png&quot; (256x256, rgb, uint8) ..</span>"
      ]
     },
     "metadata": {},
     "output_type": "display_data"
    }
   ],
   "source": [
    "from mitsuba.core import Bitmap, Struct\n",
    "image = image.convert(Bitmap.PixelFormat.RGB, Struct.Type.UInt8, srgb_gamma=True)\n",
    "image.write('my_first_rendering.png')"
   ]
  },
  {
   "cell_type": "markdown",
   "metadata": {},
   "source": [
    "We can then easily display the rendered image in this notebook"
   ]
  },
  {
   "cell_type": "code",
   "execution_count": null,
   "metadata": {
    "scrolled": false
   },
   "outputs": [],
   "source": [
    "from IPython.display import Image\n",
    "Image('my_first_rendering.png')"
   ]
  },
  {
   "cell_type": "markdown",
   "metadata": {},
   "source": [
    "🎉 !! And BRAVO !! 🎉\n",
    "\n",
    "You have now successfully installed Mitsuba on your system and performed your first render!"
   ]
  },
  {
   "cell_type": "markdown",
   "metadata": {},
   "source": [
    "### *Reference API*\n",
    "\n",
    "- [<code>mitsuba.set_variant</code>](https://mitsuba2.readthedocs.io/en/latest/generated/core_api.html#mitsuba.set_variant)\n",
    "- [<code>mitsuba.core.load_file</code>](https://mitsuba2.readthedocs.io/en/latest/generated/core_api.html#mitsuba.core.load_file)\n",
    "- [<code>mitsuba.python.util.render</code>](https://mitsuba2.readthedocs.io/en/latest/generated/python_api.html#mitsuba.python.util.render)\n",
    "- [<code>mitsuba.core.Bitmap.write</code>](https://mitsuba2.readthedocs.io/en/latest/generated/core_api.html#mitsuba.core.Bitmap.write)"
   ]
  }
 ],
 "metadata": {
  "file_extension": ".py",
  "kernelspec": {
   "display_name": "Python 3 (ipykernel)",
   "language": "python",
   "name": "python3"
  },
  "language_info": {
   "codemirror_mode": {
    "name": "ipython",
    "version": 3
   },
   "file_extension": ".py",
   "mimetype": "text/x-python",
   "name": "python",
   "nbconvert_exporter": "python",
   "pygments_lexer": "ipython3",
   "version": "3.7.8"
  },
  "metadata": {
   "interpreter": {
    "hash": "31f2aee4e71d21fbe5cf8b01ff0e069b9275f58929596ceb00d14d90e3e16cd6"
   }
  },
  "mimetype": "text/x-python",
  "name": "python",
  "npconvert_exporter": "python",
  "pygments_lexer": "ipython3",
  "version": 3
 },
 "nbformat": 4,
 "nbformat_minor": 2
}
