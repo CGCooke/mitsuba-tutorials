{
 "cells": [
  {
   "cell_type": "markdown",
   "metadata": {},
   "source": [
    "# 7. Custom Plugin"
   ]
  },
  {
   "cell_type": "markdown",
   "metadata": {},
   "source": [
    "## Overview\n",
    "\n",
    "Mitsuba is a plugin-oriented framework where custom code for BSDF, integrator, emitter, sensor, ... can easily be added to the system. In this tutorial we will see that custom plugins can also be implemented directly in Python and then registered into the system for futher use.\n",
    "\n",
    "To illustrate this, we are going to implement a new *tinted dielectric* BSDF, that behaves much like a regular [dielectric](...) BSDF but adds a colorful tint to the reflections at grazing angle. We will then register this new BSDF and use it to render a simple scene.\n",
    "\n",
    "<div class=\"alert alert-block alert-info\">\n",
    "\n",
    "✔️ **What will you learn?**\n",
    "    \n",
    "<ul>\n",
    "  <li>Create a custom BSDF plugin in Python</li>\n",
    "  <li>Register a custom plugin to the system</li>\n",
    "  <li>Use a registered custom plugin</li>\n",
    "</ul>\n",
    "    \n",
    "</div>\n"
   ]
  },
  {
   "cell_type": "markdown",
   "metadata": {},
   "source": [
    "### Step 1 - setup\n",
    "\n",
    "Custom Mitsuba plugins in Python work best with JIT variants as it would be pretty inefficient to execute Python BSDF code for millions of lights path. On the other hand, JIT variants perform only a few calls to those methods and it is the job of the JIT compiler to run those instructions on arrays containing millions of entries at once."
   ]
  },
  {
   "cell_type": "code",
   "execution_count": 1,
   "metadata": {
    "nbsphinx": "hidden"
   },
   "outputs": [],
   "source": [
    "# Add mitsuba and drjit to PATH (this shouldn't be necessary)\n",
    "import sys\n",
    "sys.path.append('../../build/python')"
   ]
  },
  {
   "cell_type": "code",
   "execution_count": 2,
   "metadata": {},
   "outputs": [],
   "source": [
    "import drjit as dr\n",
    "import mitsuba as mi\n",
    "mi.set_variant('llvm_ad_rgb')"
   ]
  },
  {
   "cell_type": "markdown",
   "metadata": {},
   "source": [
    "### Step 2 - implement the custom plugin\n",
    "\n",
    "As mentioned in the tutorial overview, we are going to implement a tinted dielectric BSDF in this tutorial. You will find that the code is very similar to the actual [C++ implementation](...) of the [dielectric](...) so we are not going to look at it much in details.\n",
    "\n",
    "First, our BSDF Python class `MyBSDF` needs to inherit from `mitsuba.BSDF`. Then we can override both the constructor method as well as the `sample`, `eval` and `pdf` routines.\n",
    "\n",
    "The constructor method take a `mitsuba.Properties` object as argument, which can be used to read parameters defined in the XML scene description or passed in the `load_dict` dictionary. Here we read the index of refraction ratio `eta` as well as the tint color `tint` from `props`.\n",
    "\n",
    "Similar to the regular dielectric BSDF, the `eval` and `pdf` method of our custom BSDF should always return `0.0` and never be called as it is a degenerate BSDF described by a Dirac delta distribution.\n",
    "\n",
    "Regarding the `sample` method, appart from the computation of the tinted reflection value `value_r`, the rest of code should be identical to the C++ implementation of [dielectric](...).\n",
    "\n",
    "Note that it is also possible to override the `to_string` method which will be call in any printing/logging routine."
   ]
  },
  {
   "cell_type": "code",
   "execution_count": 3,
   "metadata": {},
   "outputs": [],
   "source": [
    "class MyBSDF(mi.BSDF):\n",
    "    def __init__(self, props):\n",
    "        mi.BSDF.__init__(self, props)\n",
    "\n",
    "        # Read 'eta' and 'tint' properties from `props`\n",
    "        self.eta = 1.33\n",
    "        if props.has_property('eta'):\n",
    "            self.eta = props['eta']\n",
    "\n",
    "        self.tint = props['tint']\n",
    "\n",
    "        # Set the BSDF flags\n",
    "        reflection_flags   = mi.BSDFFlags.DeltaReflection   | mi.BSDFFlags.FrontSide | mi.BSDFFlags.BackSide\n",
    "        transmission_flags = mi.BSDFFlags.DeltaTransmission | mi.BSDFFlags.FrontSide | mi.BSDFFlags.BackSide\n",
    "        self.m_components  = [reflection_flags, transmission_flags]\n",
    "        self.m_flags = reflection_flags | transmission_flags\n",
    "\n",
    "    def sample(self, ctx, si, sample1, sample2, active):\n",
    "        # Compute Fresnel terms\n",
    "        cos_theta_i = mi.Frame3f.cos_theta(si.wi)\n",
    "        r_i, cos_theta_t, eta_it, eta_ti = mi.fresnel(cos_theta_i, self.eta)\n",
    "        t_i = 1.0 - r_i\n",
    "\n",
    "        # Pick between reflection and transmission\n",
    "        selected_r = (sample1 <= r_i) & active\n",
    "\n",
    "        # Fill up the BSDFSample struct\n",
    "        bs = mi.BSDFSample3f()\n",
    "        bs.pdf = dr.select(selected_r, r_i, t_i)\n",
    "        bs.sampled_component = dr.select(selected_r, mi.UInt32(0), mi.UInt32(1))\n",
    "        bs.sampled_type      = dr.select(selected_r, mi.UInt32(+mi.BSDFFlags.DeltaReflection),\n",
    "                                                     mi.UInt32(+mi.BSDFFlags.DeltaTransmission))\n",
    "        bs.wo = dr.select(selected_r,\n",
    "                          mi.reflect(si.wi),\n",
    "                          mi.refract(si.wi, cos_theta_t, eta_ti))\n",
    "        bs.eta = dr.select(selected_r, 1.0, eta_it)\n",
    "\n",
    "        # For reflection, tint based on the incident angle (more tint at grazing angle)\n",
    "        value_r = dr.lerp(mi.Color3f(self.tint), mi.Color3f(1.0), cos_theta_i)\n",
    "\n",
    "        # For transmission, radiance must be scaled to account for the solid angle compression\n",
    "        value_t = mi.Color3f(1.0) * dr.sqr(eta_ti)\n",
    "\n",
    "        value = dr.select(selected_r, value_r, value_t)\n",
    "\n",
    "        return (bs, value)\n",
    "\n",
    "    def eval(self, ctx, si, wo, active):\n",
    "        return 0.0\n",
    "\n",
    "    def pdf(self, ctx, si, wo, active):\n",
    "        return 0.0\n",
    "\n",
    "    def eval_pdf(self, ctx, si, wo, active):\n",
    "        return 0.0, 0.0\n",
    "\n",
    "    def traverse(self, callback):\n",
    "        callback.put_parameter('tint', self.tint, mi.ParamFlags.NonDifferentiable)\n",
    "\n",
    "    def parameters_changed(self, keys):\n",
    "        print(\"🏝️ there is nothing else to do 🏝️\")\n",
    "\n",
    "    def to_string(self):\n",
    "        return ('MyBSDF[\\n'\n",
    "                '    eta=%s,\\n'\n",
    "                '    tint=%s,\\n'\n",
    "                ']' % (self.eta, self.tint))"
   ]
  },
  {
   "cell_type": "markdown",
   "metadata": {},
   "source": [
    "### Step 3 - register and instanciate the BSDF\n",
    "\n",
    "Now that our custom BSDF plugin is implemented, we need to register it into the system for futher use. This can be done by calling the `mitsuba.render.register_bsdf` function, specifying the name to be used to instanciated this plugin. This function take a *constructor lambda* function as second parameter.\n",
    "\n",
    "Similar functions exist for other types of plugins, e.g. `register_integrator`, `register_sensor`, `register_medium`, `register_phasefunction`, `register_emitter`. "
   ]
  },
  {
   "cell_type": "code",
   "execution_count": 4,
   "metadata": {},
   "outputs": [],
   "source": [
    "mi.register_bsdf(\"mybsdf\", lambda props: MyBSDF(props))"
   ]
  },
  {
   "cell_type": "markdown",
   "metadata": {},
   "source": [
    "It is possible now to use this plugin as you would do with any other BSDF plugin. We can also set the appropriate properties of the BSDF expected in `MyBSDF.__init__`.\n",
    "\n",
    "For the sake of this tutorial, we also print the BSDF instance which will use the overriden `to_string` method to display the internal parameters."
   ]
  },
  {
   "cell_type": "code",
   "execution_count": 5,
   "metadata": {},
   "outputs": [
    {
     "name": "stdout",
     "output_type": "stream",
     "text": [
      "MyBSDF[\n",
      "    eta=1.33,\n",
      "    tint=[0.2, 0.9, 0.2],\n",
      "]\n"
     ]
    }
   ],
   "source": [
    "my_bsdf = mi.load_dict({\n",
    "    'type' : 'mybsdf',\n",
    "    'tint' : [0.2, 0.9, 0.2],\n",
    "    'eta' : 1.33\n",
    "})\n",
    "\n",
    "print(my_bsdf)"
   ]
  },
  {
   "cell_type": "markdown",
   "metadata": {},
   "source": [
    "### Step 4 - render\n",
    "\n",
    "Finally, let's use our custom BSDF in an actual scene and render it to see how our tinted BSDF looks like."
   ]
  },
  {
   "cell_type": "code",
   "execution_count": 6,
   "metadata": {},
   "outputs": [
    {
     "data": {
      "text/html": [
       "<span style=\"font-family: monospace; color: #bbb\">2022-02-22 17:32:27 DEBUG main  [PluginManager] Loading plugin &quot;plugins/path.so&quot; ..</span>"
      ]
     },
     "metadata": {},
     "output_type": "display_data"
    },
    {
     "data": {
      "text/html": [
       "<span style=\"font-family: monospace; color: #bbb\">2022-02-22 17:32:27 DEBUG main  [PluginManager] Loading plugin &quot;plugins/constant.so&quot; ..</span>"
      ]
     },
     "metadata": {},
     "output_type": "display_data"
    },
    {
     "data": {
      "text/html": [
       "<span style=\"font-family: monospace; color: #bbb\">2022-02-22 17:32:27 DEBUG main  [PluginManager] Loading plugin &quot;plugins/uniform.so&quot; ..</span>"
      ]
     },
     "metadata": {},
     "output_type": "display_data"
    },
    {
     "data": {
      "text/html": [
       "<span style=\"font-family: monospace; color: #bbb\">2022-02-22 17:32:27 DEBUG main  [PluginManager] Loading plugin &quot;plugins/sphere.so&quot; ..</span>"
      ]
     },
     "metadata": {},
     "output_type": "display_data"
    },
    {
     "data": {
      "text/html": [
       "<span style=\"font-family: monospace; color: #bbb\">2022-02-22 17:32:27 DEBUG main  [PluginManager] Loading plugin &quot;plugins/perspective.so&quot; ..</span>"
      ]
     },
     "metadata": {},
     "output_type": "display_data"
    },
    {
     "data": {
      "text/html": [
       "<span style=\"font-family: monospace; color: #bbb\">2022-02-22 17:32:27 DEBUG main  [PluginManager] Loading plugin &quot;plugins/hdrfilm.so&quot; ..</span>"
      ]
     },
     "metadata": {},
     "output_type": "display_data"
    },
    {
     "data": {
      "text/html": [
       "<span style=\"font-family: monospace; color: #bbb\">2022-02-22 17:32:27 DEBUG main  [PluginManager] Loading plugin &quot;plugins/gaussian.so&quot; ..</span>"
      ]
     },
     "metadata": {},
     "output_type": "display_data"
    },
    {
     "data": {
      "text/html": [
       "<span style=\"font-family: monospace; color: #bbb\">2022-02-22 17:32:27 DEBUG main  [PluginManager] Loading plugin &quot;plugins/independent.so&quot; ..</span>"
      ]
     },
     "metadata": {},
     "output_type": "display_data"
    },
    {
     "data": {
      "text/html": [
       "<span style=\"font-family: monospace\">2022-02-22 17:32:27 INFO  main  [Scene] Embree ready. (took 17ms)</span>"
      ]
     },
     "metadata": {},
     "output_type": "display_data"
    },
    {
     "data": {
      "text/html": [
       "<span style=\"font-family: monospace\">2022-02-22 17:32:28 INFO  main  [SamplingIntegrator] Starting render job (768x576, 4 samples)</span>"
      ]
     },
     "metadata": {},
     "output_type": "display_data"
    },
    {
     "data": {
      "text/html": [
       "<span style=\"font-family: monospace\">2022-02-22 17:32:28 INFO  main  [SamplingIntegrator] Computation graph recorded. (took 12ms)</span>"
      ]
     },
     "metadata": {},
     "output_type": "display_data"
    },
    {
     "data": {
      "image/png": "[encoded data removed]",
      "text/plain": [
       "<Figure size 432x288 with 1 Axes>"
      ]
     },
     "metadata": {
      "needs_background": "light"
     },
     "output_type": "display_data"
    }
   ],
   "source": [
    "scene = mi.load_dict({\n",
    "    'type' : 'scene',\n",
    "    'integrator' : { \n",
    "        'type' : 'path' \n",
    "    },\n",
    "    'light' : { \n",
    "        'type' : 'constant' \n",
    "    },\n",
    "    'sphere' : {\n",
    "        'type' : 'sphere',\n",
    "        'bsdf' : my_bsdf\n",
    "    },\n",
    "    'sensor' : {\n",
    "        'type' : 'perspective',\n",
    "        'to_world' : mi.ScalarTransform4f.look_at(origin=[0, -5, 5], \n",
    "                                                  target=[0, 0, 0], \n",
    "                                                  up=[0, 0, 1]),\n",
    "    }\n",
    "})\n",
    "\n",
    "def render_and_show(scene):\n",
    "    from matplotlib import pyplot as plt\n",
    "    image = mi.render(scene)\n",
    "    bitmap = mi.Bitmap(image).convert(mi.Bitmap.PixelFormat.RGB, mi.Struct.Type.UInt8, srgb_gamma=True)\n",
    "    plt.imshow(bitmap); plt.axis('off');\n",
    "    \n",
    "render_and_show(scene)"
   ]
  },
  {
   "cell_type": "code",
   "execution_count": 7,
   "metadata": {},
   "outputs": [
    {
     "name": "stdout",
     "output_type": "stream",
     "text": [
      "SceneParameters[\n",
      "  ----------------------------------------------------------------------------------------\n",
      "  Name                                 Flags    Type            Parent\n",
      "  ----------------------------------------------------------------------------------------\n",
      "  light.radiance.value                 ∂        Float           UniformSpectrum\n",
      "  sensor.near_clip                              float           PerspectiveCamera\n",
      "  sensor.far_clip                               float           PerspectiveCamera\n",
      "  sensor.shutter_open                           float           PerspectiveCamera\n",
      "  sensor.shutter_open_time                      float           PerspectiveCamera\n",
      "  sensor.x_fov                                  float           PerspectiveCamera\n",
      "  sensor.to_world                               Transform4f     PerspectiveCamera\n",
      "  sphere.to_world                               Transform4f     Sphere\n",
      "  sphere.bsdf.tint                              Array3f64       BSDF\n",
      "]\n"
     ]
    }
   ],
   "source": [
    "params = mi.traverse(scene)\n",
    "print(params)"
   ]
  },
  {
   "cell_type": "code",
   "execution_count": 8,
   "metadata": {},
   "outputs": [
    {
     "name": "stdout",
     "output_type": "stream",
     "text": [
      "🏝️ there is nothing else to do 🏝️\n"
     ]
    }
   ],
   "source": [
    "key = 'sphere.bsdf.tint'\n",
    "params[key] = mi.ScalarColor3f(0.9, 0.2, 0.2)\n",
    "params.update()"
   ]
  },
  {
   "cell_type": "code",
   "execution_count": 9,
   "metadata": {},
   "outputs": [
    {
     "data": {
      "text/html": [
       "<span style=\"font-family: monospace\">2022-02-22 17:32:31 INFO  main  [SamplingIntegrator] Starting render job (768x576, 4 samples)</span>"
      ]
     },
     "metadata": {},
     "output_type": "display_data"
    },
    {
     "data": {
      "text/html": [
       "<span style=\"font-family: monospace\">2022-02-22 17:32:31 INFO  main  [SamplingIntegrator] Computation graph recorded. (took 28ms)</span>"
      ]
     },
     "metadata": {},
     "output_type": "display_data"
    },
    {
     "data": {
      "image/png": "[encoded data removed]",
      "text/plain": [
       "<Figure size 432x288 with 1 Axes>"
      ]
     },
     "metadata": {
      "needs_background": "light"
     },
     "output_type": "display_data"
    }
   ],
   "source": [
    "render_and_show(scene)"
   ]
  },
  {
   "cell_type": "markdown",
   "metadata": {},
   "source": [
    "### *Reference API*\n",
    "\n",
    "- [<code>mitsuba.register_bsdf</code>](...)"
   ]
  }
 ],
 "metadata": {
  "file_extension": ".py",
  "kernelspec": {
   "display_name": "Python 3 (ipykernel)",
   "language": "python",
   "name": "python3"
  },
  "language_info": {
   "codemirror_mode": {
    "name": "ipython",
    "version": 3
   },
   "file_extension": ".py",
   "mimetype": "text/x-python",
   "name": "python",
   "nbconvert_exporter": "python",
   "pygments_lexer": "ipython3",
   "version": "3.8.10"
  },
  "metadata": {
   "interpreter": {
    "hash": "31f2aee4e71d21fbe5cf8b01ff0e069b9275f58929596ceb00d14d90e3e16cd6"
   }
  },
  "mimetype": "text/x-python",
  "name": "python",
  "npconvert_exporter": "python",
  "pygments_lexer": "ipython3",
  "version": 3
 },
 "nbformat": 4,
 "nbformat_minor": 4
}
