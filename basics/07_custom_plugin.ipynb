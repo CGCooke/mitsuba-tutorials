{
 "cells": [
  {
   "cell_type": "markdown",
   "source": [
    "# 7. Custom Plugin"
   ],
   "metadata": {}
  },
  {
   "cell_type": "markdown",
   "source": [
    "## Overview\n",
    "\n",
    "Mitsuba is a plugin-oriented framework where custom code for BSDF, integrator, emitter, sensor, ... can easily be added to the system. In this tutorial we will see that custom plugins can also be implemented directly in Python and then registered into the system for futher use.\n",
    "\n",
    "To illustrate this, we are going to implement a new *tinted dielectric* BSDF, that behaves much like a regular [dielectric](...) BSDF but adds a colorful tint to the reflections at grazing angle. We will then register this new BSDF and use it to render a simple scene.\n",
    "\n",
    "<div class=\"alert alert-block alert-info\">\n",
    "\n",
    "✔️ **What will you learn?**\n",
    "    \n",
    "<ul>\n",
    "  <li>Create a custom BSDF plugin in Python</li>\n",
    "  <li>Register a custom plugin to the system</li>\n",
    "  <li>Use a registered custom plugin</li>\n",
    "</ul>\n",
    "    \n",
    "</div>\n"
   ],
   "metadata": {}
  },
  {
   "cell_type": "markdown",
   "source": [
    "### Step 1 - setup\n",
    "\n",
    "Custom Mitsuba plugins in Python work best with JIT variants as it would be pretty inefficient to execute Python BSDF code for millions of lights path. On the other hand, JIT variants perform only a few calls to those methods and it is the job of the JIT compiler to run those instructions on arrays containing millions of entries at once."
   ],
   "metadata": {}
  },
  {
   "cell_type": "code",
   "execution_count": 1,
   "source": [
    "# Add mitsuba and enoki to PATH (this shouldn't be necessary)\n",
    "import sys\n",
    "sys.path.append('../../../build/python')"
   ],
   "outputs": [],
   "metadata": {
    "nbsphinx": "hidden"
   }
  },
  {
   "cell_type": "code",
   "execution_count": 2,
   "source": [
    "import enoki as ek \n",
    "import mitsuba\n",
    "mitsuba.set_variant('llvm_ad_rgb')"
   ],
   "outputs": [],
   "metadata": {}
  },
  {
   "cell_type": "markdown",
   "source": [
    "### Step 2 - implement the custom plugin\n",
    "\n",
    "As mentioned in the tutorial overview, we are going to implement a tinted dielectric BSDF in this tutorial. You will find that the code is very similar to the actual [C++ implementation](...) of the [dielectric](...) so we are not going to look at it much in details.\n",
    "\n",
    "First, our BSDF Python class `MyBSDF` needs to inherit from `mitsuba.render.BSDF`. Then we can override both the constructor method as well as the `sample`, `eval` and `pdf` routines. \n",
    "\n",
    "The constructor method take a `mitsuba.core.Properties` object as argument, which can be used to read parameters defined in the XML scene description or passed in the `load_dict` dictionary. Here we read the index of refraction ratio `eta` as well as the tint color `tint` from `props`.\n",
    "\n",
    "Similar to the regular dielectric BSDF, the `eval` and `pdf` method of our custom BSDF should always return `0.0` and never be called as it is a degenerate BSDF described by a Dirac delta distribution. \n",
    "\n",
    "Regarding the `sample` method, appart from the computation of the tinted reflection value `value_r`, the rest of code should be identical to the C++ implementation of [dielectric](...).\n",
    "\n",
    "Note that it is also possible to override the `to_string` method which will be call in any printing/logging routine."
   ],
   "metadata": {}
  },
  {
   "cell_type": "code",
   "execution_count": 3,
   "source": [
    "from mitsuba.core import load_dict, Float, UInt32, Frame3f, Color3f, ScalarColor3f\n",
    "from mitsuba.render import BSDF, BSDFSample3f, BSDFFlags, fresnel, reflect, refract\n",
    "\n",
    "class MyBSDF(BSDF):\n",
    "    def __init__(self, props):\n",
    "        BSDF.__init__(self, props)\n",
    "        \n",
    "        # Read 'eta' and 'tint' properties from `props`\n",
    "        self.eta = 1.33\n",
    "        if props.has_property('eta'):\n",
    "            self.eta = props['eta']\n",
    "            \n",
    "        self.tint = props['tint']\n",
    "        \n",
    "        # Set the BSDF flags\n",
    "        reflection_flags   = BSDFFlags.DeltaReflection   | BSDFFlags.FrontSide | BSDFFlags.BackSide\n",
    "        transmission_flags = BSDFFlags.DeltaTransmission | BSDFFlags.FrontSide | BSDFFlags.BackSide        \n",
    "        self.m_components  = [reflection_flags, transmission_flags]\n",
    "        self.m_flags = reflection_flags | transmission_flags\n",
    "        \n",
    "    def sample(self, ctx, si, sample1, sample2, active):\n",
    "        # Compute Fresnel terms\n",
    "        cos_theta_i = Frame3f.cos_theta(si.wi)        \n",
    "        r_i, cos_theta_t, eta_it, eta_ti = fresnel(cos_theta_i, self.eta)\n",
    "        t_i = 1.0 - r_i\n",
    "         \n",
    "        # Pick between reflection and transmission\n",
    "        selected_r = (sample1 <= r_i) & active\n",
    "        \n",
    "        # Fill up the BSDFSample struct\n",
    "        bs = BSDFSample3f()\n",
    "        bs.pdf = ek.select(selected_r, r_i, t_i)\n",
    "        bs.sampled_component = ek.select(selected_r, UInt32(0), UInt32(1))\n",
    "        bs.sampled_type      = ek.select(selected_r, UInt32(+BSDFFlags.DeltaReflection),\n",
    "                                                     UInt32(+BSDFFlags.DeltaTransmission))\n",
    "        bs.wo = ek.select(selected_r,\n",
    "                          reflect(si.wi),\n",
    "                          refract(si.wi, cos_theta_t, eta_ti))\n",
    "        bs.eta = ek.select(selected_r, 1.0, eta_it)\n",
    "                \n",
    "        # For reflection, tint based on the incident angle (more tint at grazing angle)\n",
    "        value_r = ek.lerp(Color3f(self.tint), Color3f(1.0), cos_theta_i)    \n",
    "        \n",
    "        # For transmission, radiance must be scaled to account for the solid angle compression\n",
    "        value_t = Color3f(1.0) * ek.sqr(eta_ti)\n",
    "        \n",
    "        value = ek.select(selected_r, value_r, value_t)\n",
    "\n",
    "        return (bs, value)\n",
    "        \n",
    "    def eval(self, ctx, si, wo, active):\n",
    "        return 0.0\n",
    "\n",
    "    def pdf(self, ctx, si, wo, active):\n",
    "        return 0.0\n",
    "    \n",
    "    def eval_pdf(self, ctx, si, wo, active):\n",
    "        return 0.0, 0.0\n",
    "    \n",
    "    def traverse(self, callback):\n",
    "        callback.put_parameter('tint', self.tint)\n",
    "    \n",
    "    def parameters_changed(self, keys):\n",
    "        print(\"🏝️ there is nothing else to do 🏝️\")\n",
    "    \n",
    "    def to_string(self):\n",
    "        return ('MyBSDF[\\n'\n",
    "                '    eta=%s,\\n'\n",
    "                '    tint=%s,\\n'\n",
    "                ']' % (self.eta, self.tint))"
   ],
   "outputs": [],
   "metadata": {}
  },
  {
   "cell_type": "markdown",
   "source": [
    "### Step 3 - register and instanciate the BSDF\n",
    "\n",
    "Now that our custom BSDF plugin is implemented, we need to register it into the system for futher use. This can be done by calling the `mitsuba.render.register_bsdf` function, specifying the name to be used to instanciated this plugin. This function take a *constructor lambda* function as second parameter.\n",
    "\n",
    "Similar functions exist for other types of plugins, e.g. `register_integrator`, `register_sensor`, `register_medium`, `register_phasefunction`, `register_emitter`. "
   ],
   "metadata": {}
  },
  {
   "cell_type": "code",
   "execution_count": 4,
   "source": [
    "from mitsuba.render import register_bsdf\n",
    "register_bsdf(\"mybsdf\", lambda props: MyBSDF(props))"
   ],
   "outputs": [],
   "metadata": {}
  },
  {
   "cell_type": "markdown",
   "source": [
    "It is possible now to use this plugin as you would do with any other BSDF plugin. We can also set the appropriate properties of the BSDF expected in `MyBSDF.__init__`.\n",
    "\n",
    "For the sake of this tutorial, we also print the BSDF instance which will use the overriden `to_string` method to display the internal parameters."
   ],
   "metadata": {}
  },
  {
   "cell_type": "code",
   "execution_count": 5,
   "source": [
    "my_bsdf = load_dict({\n",
    "    'type' : 'mybsdf',\n",
    "    'tint' : [0.2, 0.9, 0.2],\n",
    "    'eta' : 1.33\n",
    "})\n",
    "\n",
    "print(my_bsdf)"
   ],
   "outputs": [
    {
     "output_type": "stream",
     "name": "stdout",
     "text": [
      "MyBSDF[\n",
      "    eta=1.3300000429153442,\n",
      "    tint=[0.20000000298023224, 0.8999999761581421, 0.20000000298023224],\n",
      "]\n"
     ]
    }
   ],
   "metadata": {}
  },
  {
   "cell_type": "markdown",
   "source": [
    "### Step 4 - render\n",
    "\n",
    "Finally, let's use our custom BSDF in an actual scene and render it to see how our tinted BSDF looks like."
   ],
   "metadata": {}
  },
  {
   "cell_type": "code",
   "execution_count": 6,
   "source": [
    "from matplotlib import pyplot as plt\n",
    "from mitsuba.core import ScalarTransform4f\n",
    "scene = load_dict({\n",
    "    'type' : 'scene',\n",
    "    'integrator' : { \n",
    "        'type' : 'path' \n",
    "    },\n",
    "    'light' : { \n",
    "        'type' : 'constant' \n",
    "    },\n",
    "    'sphere' : {\n",
    "        'type' : 'sphere',\n",
    "        'bsdf' : my_bsdf\n",
    "    },\n",
    "    'sensor' : {\n",
    "        'type' : 'perspective',\n",
    "        'to_world' : ScalarTransform4f.look_at(origin=[0, -5, 5], \n",
    "                                               target=[0, 0, 0], \n",
    "                                               up=[0, 0, 1]),\n",
    "    }\n",
    "})\n",
    "\n",
    "def render_and_show(scene):\n",
    "    from mitsuba.core import Bitmap, Struct\n",
    "    from matplotlib import pyplot as plt\n",
    "    bitmap = scene.render()\n",
    "    bitmap = bitmap.convert(Bitmap.PixelFormat.RGB, Struct.Type.UInt8, srgb_gamma=True)\n",
    "    plt.imshow(bitmap); plt.axis('off');\n",
    "    \n",
    "render_and_show(scene)"
   ],
   "outputs": [
    {
     "output_type": "display_data",
     "data": {
      "text/html": [
       "<span style=\"font-family: monospace; color: #000\">2021-09-13 13:39:19 INFO  main  [Scene] Embree ready. (took 15ms)</span>"
      ]
     },
     "metadata": {}
    },
    {
     "output_type": "display_data",
     "data": {
      "text/html": [
       "<span style=\"font-family: monospace; color: #000\">2021-09-13 13:39:19 INFO  main  [SamplingIntegrator] Start rendering...</span>"
      ]
     },
     "metadata": {}
    },
    {
     "output_type": "display_data",
     "data": {
      "text/html": [
       "<span style=\"font-family: monospace; color: #000\">2021-09-13 13:39:19 INFO  main  [SamplingIntegrator] Computation graph recorded. (took 9ms)</span>"
      ]
     },
     "metadata": {}
    },
    {
     "output_type": "display_data",
     "data": {
      "text/html": [
       "<span style=\"font-family: monospace; color: #000\">2021-09-13 13:39:19 INFO  main  [SamplingIntegrator] Code generation finished. (took 122ms)</span>"
      ]
     },
     "metadata": {}
    },
    {
     "output_type": "display_data",
     "data": {
      "text/html": [
       "<span style=\"font-family: monospace; color: #000\">2021-09-13 13:39:19 INFO  main  [SamplingIntegrator] Rendering finished. (took 223ms)</span>"
      ]
     },
     "metadata": {}
    },
    {
     "output_type": "display_data",
     "data": {
      "image/png": "[encoded data removed]",
      "text/plain": [
       "<Figure size 432x288 with 1 Axes>"
      ]
     },
     "metadata": {
      "needs_background": "light"
     }
    }
   ],
   "metadata": {}
  },
  {
   "cell_type": "code",
   "execution_count": 7,
   "source": [
    "from mitsuba.python.util import traverse\n",
    "params = traverse(scene)\n",
    "print(params)"
   ],
   "outputs": [
    {
     "output_type": "stream",
     "name": "stdout",
     "text": [
      "SceneParameters[\n",
      "  * light.radiance.value,\n",
      "  * sensor.near_clip,\n",
      "  * sensor.far_clip,\n",
      "  * sensor.focus_distance,\n",
      "  * sensor.shutter_open,\n",
      "  * sensor.shutter_open_time,\n",
      "  * sensor.x_fov,\n",
      "  * sphere.to_world,\n",
      "  * sphere.bsdf.tint,\n",
      "]\n"
     ]
    }
   ],
   "metadata": {}
  },
  {
   "cell_type": "code",
   "execution_count": 8,
   "source": [
    "key = 'sphere.bsdf.tint'\n",
    "params[key] = ScalarColor3f(0.9, 0.2, 0.2)\n",
    "params.update()"
   ],
   "outputs": [
    {
     "output_type": "stream",
     "name": "stdout",
     "text": [
      "🏝️ there is nothing else to do 🏝️\n"
     ]
    }
   ],
   "metadata": {}
  },
  {
   "cell_type": "code",
   "execution_count": 9,
   "source": [
    "render_and_show(scene)"
   ],
   "outputs": [
    {
     "output_type": "display_data",
     "data": {
      "text/html": [
       "<span style=\"font-family: monospace; color: #000\">2021-09-13 13:39:19 INFO  main  [SamplingIntegrator] Start rendering...</span>"
      ]
     },
     "metadata": {}
    },
    {
     "output_type": "display_data",
     "data": {
      "text/html": [
       "<span style=\"font-family: monospace; color: #000\">2021-09-13 13:39:19 INFO  main  [SamplingIntegrator] Computation graph recorded. (took 16ms)</span>"
      ]
     },
     "metadata": {}
    },
    {
     "output_type": "display_data",
     "data": {
      "text/html": [
       "<span style=\"font-family: monospace; color: #000\">2021-09-13 13:39:19 INFO  main  [SamplingIntegrator] Code generation finished. (took 141ms)</span>"
      ]
     },
     "metadata": {}
    },
    {
     "output_type": "display_data",
     "data": {
      "text/html": [
       "<span style=\"font-family: monospace; color: #000\">2021-09-13 13:39:19 INFO  main  [SamplingIntegrator] Rendering finished. (took 260ms)</span>"
      ]
     },
     "metadata": {}
    },
    {
     "output_type": "display_data",
     "data": {
      "image/png": "[encoded data removed]",
      "text/plain": [
       "<Figure size 432x288 with 1 Axes>"
      ]
     },
     "metadata": {
      "needs_background": "light"
     }
    }
   ],
   "metadata": {}
  },
  {
   "cell_type": "markdown",
   "source": [
    "### *Reference API*\n",
    "\n",
    "- [<code>mitsuba.render.register_bsdf</code>](...)"
   ],
   "metadata": {}
  }
 ],
 "metadata": {
  "file_extension": ".py",
  "kernelspec": {
   "display_name": "Python 3.6.9 64-bit",
   "language": "python",
   "name": "python36964bit93e44fdc4f014d30857bf48d4866e852"
  },
  "language_info": {
   "codemirror_mode": {
    "name": "ipython",
    "version": 3
   },
   "file_extension": ".py",
   "mimetype": "text/x-python",
   "name": "python",
   "nbconvert_exporter": "python",
   "pygments_lexer": "ipython3",
   "version": "3.8.10"
  },
  "metadata": {
   "interpreter": {
    "hash": "31f2aee4e71d21fbe5cf8b01ff0e069b9275f58929596ceb00d14d90e3e16cd6"
   }
  },
  "mimetype": "text/x-python",
  "name": "python",
  "npconvert_exporter": "python",
  "pygments_lexer": "ipython3",
  "version": 3
 },
 "nbformat": 4,
 "nbformat_minor": 2
}