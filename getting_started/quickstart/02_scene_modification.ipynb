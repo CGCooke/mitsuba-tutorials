{
 "cells": [
  {
   "cell_type": "markdown",
   "metadata": {},
   "source": [
    "# Editing a scene"
   ]
  },
  {
   "cell_type": "markdown",
   "metadata": {
    "tags": []
   },
   "source": [
    "## Overview\n",
    "\n",
    "This tutorial will show you how to modify a scene in Mitsuba 3. You might want to slightly modify a scene before (re-)rendering it for many reasons. Maybe a color is slightly off, or an object should be a bit more to its left. Such trivial modifications can easily be applied in Mitsuba.\n",
    "\n",
    "In later tutorials, we will see that the mechanism that allows us to perform these minor edits is essential for inverse rendering applications.\n",
    "\n",
    "<div class=\"admonition important alert alert-block alert-info\">\n",
    "\n",
    "🚀 **What will you learn?**\n",
    "\n",
    "<ul>\n",
    "  <li>List exposed parameters of Mitsuba objects</li>\n",
    "  <li>Modify a scene</li>\n",
    "</ul>\n",
    "\n",
    "</div>"
   ]
  },
  {
   "cell_type": "markdown",
   "metadata": {},
   "source": [
    "## Step 1 - Setup\n",
    "\n",
    "Following the same steps as in #TODO (link) [Tutorial 1](...), let's import mitsuba, set the variant and load a scene from an XML file on disk."
   ]
  },
  {
   "cell_type": "code",
   "execution_count": 1,
   "metadata": {},
   "outputs": [
    {
     "data": {
      "text/html": [
       "<span style=\"font-family: monospace\">2022-04-04 16:50:54 INFO  main  [xml.cpp:1296] Loading XML file &quot;../../scenes/simple.xml&quot; with variant &quot;scalar_rgb&quot;..</span>"
      ]
     },
     "metadata": {},
     "output_type": "display_data"
    },
    {
     "data": {
      "text/html": [
       "<span style=\"font-family: monospace; color: #bbb\">2022-04-04 16:50:54 DEBUG main  [PluginManager] Loading plugin &quot;plugins/srgb.so&quot; ..</span>"
      ]
     },
     "metadata": {},
     "output_type": "display_data"
    },
    {
     "data": {
      "text/html": [
       "<span style=\"font-family: monospace; color: #bbb\">2022-04-04 16:50:54 DEBUG main  [PluginManager] Loading plugin &quot;plugins/srgb_d65.so&quot; ..</span>"
      ]
     },
     "metadata": {},
     "output_type": "display_data"
    },
    {
     "data": {
      "text/html": [
       "<span style=\"font-family: monospace; color: #bbb\">2022-04-04 16:50:54 DEBUG wrk0  [PluginManager] Loading plugin &quot;plugins/direct.so&quot; ..</span>"
      ]
     },
     "metadata": {},
     "output_type": "display_data"
    },
    {
     "data": {
      "text/html": [
       "<span style=\"font-family: monospace; color: #bbb\">2022-04-04 16:50:54 DEBUG wrk1  [PluginManager] Loading plugin &quot;plugins/independent.so&quot; ..</span>"
      ]
     },
     "metadata": {},
     "output_type": "display_data"
    },
    {
     "data": {
      "text/html": [
       "<span style=\"font-family: monospace; color: #bbb\">2022-04-04 16:50:54 DEBUG wrk2  [PluginManager] Loading plugin &quot;plugins/box.so&quot; ..</span>"
      ]
     },
     "metadata": {},
     "output_type": "display_data"
    },
    {
     "data": {
      "text/html": [
       "<span style=\"font-family: monospace; color: #bbb\">2022-04-04 16:50:54 DEBUG wrk3  [PluginManager] Loading plugin &quot;plugins/diffuse.so&quot; ..</span>"
      ]
     },
     "metadata": {},
     "output_type": "display_data"
    },
    {
     "data": {
      "text/html": [
       "<span style=\"font-family: monospace; color: #bbb\">2022-04-04 16:50:54 DEBUG wrk7  [PluginManager] Loading plugin &quot;plugins/ply.so&quot; ..</span>"
      ]
     },
     "metadata": {},
     "output_type": "display_data"
    },
    {
     "data": {
      "text/html": [
       "<span style=\"font-family: monospace; color: #bbb\">2022-04-04 16:50:54 DEBUG wrk5  [PluginManager] Loading plugin &quot;plugins/point.so&quot; ..</span>"
      ]
     },
     "metadata": {},
     "output_type": "display_data"
    },
    {
     "data": {
      "text/html": [
       "<span style=\"font-family: monospace; color: #bbb\">2022-04-04 16:50:54 DEBUG wrk7  [PLYMesh] Loading mesh from &quot;teapot.ply&quot; ..</span>"
      ]
     },
     "metadata": {},
     "output_type": "display_data"
    },
    {
     "data": {
      "text/html": [
       "<span style=\"font-family: monospace; color: #bbb\">2022-04-04 16:50:54 DEBUG wrk6  [PluginManager] Loading plugin &quot;plugins/hdrfilm.so&quot; ..</span>"
      ]
     },
     "metadata": {},
     "output_type": "display_data"
    },
    {
     "data": {
      "text/html": [
       "<span style=\"font-family: monospace; color: #bbb\">2022-04-04 16:50:54 DEBUG wrk5  [PluginManager] Loading plugin &quot;plugins/uniform.so&quot; ..</span>"
      ]
     },
     "metadata": {},
     "output_type": "display_data"
    },
    {
     "data": {
      "text/html": [
       "<span style=\"font-family: monospace; color: #bbb\">2022-04-04 16:50:54 DEBUG wrk7  [PLYMesh] &quot;teapot.ply&quot;: read 2256 faces, 1177 vertices (54 KiB in 10ms)</span>"
      ]
     },
     "metadata": {},
     "output_type": "display_data"
    },
    {
     "data": {
      "text/html": [
       "<span style=\"font-family: monospace; color: #bbb\">2022-04-04 16:50:54 DEBUG wrk8  [PluginManager] Loading plugin &quot;plugins/perspective.so&quot; ..</span>"
      ]
     },
     "metadata": {},
     "output_type": "display_data"
    },
    {
     "data": {
      "text/html": [
       "<span style=\"font-family: monospace; color: #bbb\">2022-04-04 16:50:54 DEBUG wrk7  [PLYMesh] &quot;teapot.ply&quot;: computed vertex normals (took 7ms)</span>"
      ]
     },
     "metadata": {},
     "output_type": "display_data"
    },
    {
     "data": {
      "text/html": [
       "<span style=\"font-family: monospace\">2022-04-04 16:50:54 INFO  main  [Scene] Embree ready. (took 22ms)</span>"
      ]
     },
     "metadata": {},
     "output_type": "display_data"
    },
    {
     "data": {
      "text/html": [
       "<span style=\"font-family: monospace\">2022-04-04 16:50:54 INFO  main  [xml.cpp:1356] Done loading XML file &quot;../../scenes/simple.xml&quot; (took 83ms).</span>"
      ]
     },
     "metadata": {},
     "output_type": "display_data"
    }
   ],
   "source": [
    "import mitsuba as mi\n",
    "mi.set_variant('scalar_rgb')\n",
    "\n",
    "scene = mi.load_file(\"../../scenes/simple.xml\")"
   ]
  },
  {
   "cell_type": "markdown",
   "metadata": {},
   "source": [
    "Let's also quickly render this scene to know what we're exactly dealing with."
   ]
  },
  {
   "cell_type": "code",
   "execution_count": 2,
   "metadata": {},
   "outputs": [
    {
     "data": {
      "text/html": [
       "<span style=\"font-family: monospace\">2022-04-04 16:50:54 INFO  main  [SamplingIntegrator] Starting render job (256x256, 128 samples, 32 threads)</span>"
      ]
     },
     "metadata": {},
     "output_type": "display_data"
    },
    {
     "data": {
      "application/vnd.jupyter.widget-view+json": {
       "model_id": "5d89e13f1be64c838a17d0db698cead9",
       "version_major": 2,
       "version_minor": 0
      },
      "text/plain": [
       "VBox(children=(HTML(value=''), FloatProgress(value=0.0, bar_style='info', layout=Layout(width='100%'), max=1.0…"
      ]
     },
     "metadata": {},
     "output_type": "display_data"
    },
    {
     "data": {
      "text/html": [
       "<span style=\"font-family: monospace\">2022-04-04 16:50:56 INFO  main  [SamplingIntegrator] Rendering finished. (took 1.788s)</span>"
      ]
     },
     "metadata": {},
     "output_type": "display_data"
    },
    {
     "data": {
      "image/png": "[encoded data removed]",
      "text/plain": [
       "<Figure size 432x288 with 1 Axes>"
      ]
     },
     "metadata": {
      "needs_background": "light"
     },
     "output_type": "display_data"
    }
   ],
   "source": [
    "original_image = mi.render(scene, spp=128)\n",
    "\n",
    "import matplotlib.pyplot as plt\n",
    "plt.axis('off')\n",
    "plt.imshow(original_image ** (1.0 / 2.2));"
   ]
  },
  {
   "cell_type": "markdown",
   "metadata": {},
   "source": [
    "## Step 2 - Access scene parameters\n",
    "\n",
    "The `mi.traverse` function takes any Mitsuba object as input and returns a `mi.SceneParameters` object, with a similar API to a normal Python `dict`. This dictionnary holds all parameters that are exposed by the input object and its children. Therefore, when given a scene as input, this function will return the parameters of all objects that are in the scene.\n",
    "\n",
    "A `mi.SceneParameters` object can be printed in order to look at the keys of the various parameters available in our scene graph."
   ]
  },
  {
   "cell_type": "code",
   "execution_count": 3,
   "metadata": {},
   "outputs": [
    {
     "data": {
      "text/plain": [
       "SceneParameters[\n",
       "  ----------------------------------------------------------------------------------------\n",
       "  Name                                 Flags    Type            Parent\n",
       "  ----------------------------------------------------------------------------------------\n",
       "  sensor.near_clip                              float           PerspectiveCamera\n",
       "  sensor.far_clip                               float           PerspectiveCamera\n",
       "  sensor.shutter_open                           float           PerspectiveCamera\n",
       "  sensor.shutter_open_time                      float           PerspectiveCamera\n",
       "  sensor.x_fov                                  float           PerspectiveCamera\n",
       "  sensor.to_world                               Transform4f     PerspectiveCamera\n",
       "  teapot.bsdf.reflectance.value        ∂        Color3f         SRGBReflectanceSpectrum\n",
       "  teapot.vertex_count                           int             PLYMesh\n",
       "  teapot.face_count                             int             PLYMesh\n",
       "  teapot.faces                                  ArrayXu         PLYMesh\n",
       "  teapot.vertex_positions              ∂, D     ArrayXf         PLYMesh\n",
       "  teapot.vertex_normals                ∂, D     ArrayXf         PLYMesh\n",
       "  teapot.vertex_texcoords              ∂        ArrayXf         PLYMesh\n",
       "  light1.position                               Point3f         PointLight\n",
       "  light1.intensity.value               ∂        Color3f         SRGBEmitterSpectrum\n",
       "  light2.position                               Point3f         PointLight\n",
       "  light2.intensity.value               ∂        Color3f         SRGBEmitterSpectrum\n",
       "]"
      ]
     },
     "execution_count": 3,
     "metadata": {},
     "output_type": "execute_result"
    }
   ],
   "source": [
    "params = mi.traverse(scene)\n",
    "params"
   ]
  },
  {
   "cell_type": "markdown",
   "metadata": {},
   "source": [
    "As you can see, the first level of our scene graph is composed of 4 objects: the camera (`sensor`), the teapot mesh (`teapot`), and a couple lights (`light1` and `light2`). Some of those objects point to nested child objects, like `teapot.bsdf`.\n",
    "\n",
    "The names of the objects in the scene graph are defined by the id of those objects in the scene file. Object's parameters such as `teapot.vertex_positions` or `sensor.far_clip` are documented in their respective parent's plugin documentation: #TODO (links) [PLYMesh]() and [PerspectiveCamera](). All of the plugins in the documentation list which of their parameters are exposed, as well as all of the input parameters they can take in the scene description. If you wish to modifiy a plugin's parameter, and that parameter is not exposed with `mi.traverse`, you still have the option to modify the scene file directly. `mi.traverse` is merely a convenience function that allows you to modify scene objects in-place, rather than reconstructing the entire scene.\n",
    "\n",
    "Individual scene parameters can be accessed with the `__getitem__` operator, providing the `key` corresponding to the parameter. Let's read the values of a few of the scene parameters."
   ]
  },
  {
   "cell_type": "code",
   "execution_count": 4,
   "metadata": {},
   "outputs": [
    {
     "name": "stdout",
     "output_type": "stream",
     "text": [
      "sensor.near_clip:              0.009999999776482582\n",
      "teapot.bsdf.reflectance.value: [0.8999999761581421, 0.8999999761581421, 0.0]\n",
      "light1.intensity.value:        [100.0, 100.0, 100.0]\n"
     ]
    }
   ],
   "source": [
    "print('sensor.near_clip:             ',  params['sensor.near_clip'])\n",
    "print('teapot.bsdf.reflectance.value:',  params['teapot.bsdf.reflectance.value'])\n",
    "print('light1.intensity.value:       ',  params['light1.intensity.value'])"
   ]
  },
  {
   "cell_type": "markdown",
   "metadata": {},
   "source": [
    "## Step 3 - Edit the scene"
   ]
  },
  {
   "cell_type": "markdown",
   "metadata": {},
   "source": [
    "Let's simply tint the color of both light sources. Similarly to a Python `dict`, parameters can be modified in-place using the `__setitem__` operator. Internally, the `mi.SceneParameters` object will record every update written to it. Once all updates were performed, it is necessary to call the `mi.SceneParameters.update` method to properly apply the desired changes.\n",
    "\n",
    "Certain objects might need to be notified if one or more of its children have been updated. Using `mi.SceneParameters.update` will also propagate all updates through the dependency graph, and perform all necessary updates to the parent objects. For instance, a change to the vertex position buffer of a mesh in the scene will trigger the recomputation of the Embree/Optix BHV."
   ]
  },
  {
   "cell_type": "code",
   "execution_count": 5,
   "metadata": {},
   "outputs": [],
   "source": [
    "# Give a red tint to light1 and a green tint to light2\n",
    "params['light1.intensity.value'] *= [1.5, 0.2, 0.2]\n",
    "params['light2.intensity.value'] *= [0.2, 1.5, 0.2]\n",
    "\n",
    "# Apply updates\n",
    "params.update()"
   ]
  },
  {
   "cell_type": "markdown",
   "metadata": {},
   "source": [
    "We can now easily compare the rendered images using `matplotlib`. "
   ]
  },
  {
   "cell_type": "code",
   "execution_count": 6,
   "metadata": {},
   "outputs": [
    {
     "data": {
      "text/html": [
       "<span style=\"font-family: monospace\">2022-04-04 16:50:57 INFO  main  [SamplingIntegrator] Starting render job (256x256, 128 samples, 32 threads)</span>"
      ]
     },
     "metadata": {},
     "output_type": "display_data"
    },
    {
     "data": {
      "application/vnd.jupyter.widget-view+json": {
       "model_id": "5f292ff741674d7680d0944af680990b",
       "version_major": 2,
       "version_minor": 0
      },
      "text/plain": [
       "VBox(children=(HTML(value=''), FloatProgress(value=0.0, bar_style='info', layout=Layout(width='100%'), max=1.0…"
      ]
     },
     "metadata": {},
     "output_type": "display_data"
    },
    {
     "data": {
      "text/html": [
       "<span style=\"font-family: monospace\">2022-04-04 16:51:01 INFO  main  [SamplingIntegrator] Rendering finished. (took 3.5s)</span>"
      ]
     },
     "metadata": {},
     "output_type": "display_data"
    },
    {
     "data": {
      "image/png": "[encoded data removed]",
      "text/plain": [
       "<Figure size 720x720 with 2 Axes>"
      ]
     },
     "metadata": {
      "needs_background": "light"
     },
     "output_type": "display_data"
    }
   ],
   "source": [
    "modified_image = mi.render(scene, spp=128)\n",
    "fig = plt.figure(figsize=(10, 10))\n",
    "fig.add_subplot(1,2,1).imshow(original_image); plt.axis('off'); plt.title('original')\n",
    "fig.add_subplot(1,2,2).imshow(modified_image); plt.axis('off'); plt.title('modified');"
   ]
  },
  {
   "cell_type": "markdown",
   "metadata": {},
   "source": [
    "### *Reference API*\n",
    "\n",
    "- [<code>mitsuba.traverse</code>](https://mitsuba2.readthedocs.io/en/latest/generated/core_api.html#mitsuba.set_variant)\n",
    "- [<code>mitsuba.SceneParameters</code>](https://mitsuba2.readthedocs.io/en/latest/generated/core_api.html#mitsuba.core.load_file)"
   ]
  }
 ],
 "metadata": {
  "celltoolbar": "Edit Metadata",
  "file_extension": ".py",
  "kernelspec": {
   "display_name": "Python 3 (ipykernel)",
   "language": "python",
   "name": "python3"
  },
  "language_info": {
   "codemirror_mode": {
    "name": "ipython",
    "version": 3
   },
   "file_extension": ".py",
   "mimetype": "text/x-python",
   "name": "python",
   "nbconvert_exporter": "python",
   "pygments_lexer": "ipython3",
   "version": "3.8.10"
  },
  "metadata": {
   "interpreter": {
    "hash": "31f2aee4e71d21fbe5cf8b01ff0e069b9275f58929596ceb00d14d90e3e16cd6"
   }
  },
  "mimetype": "text/x-python",
  "name": "python",
  "npconvert_exporter": "python",
  "pygments_lexer": "ipython3",
  "version": 3
 },
 "nbformat": 4,
 "nbformat_minor": 4
}
