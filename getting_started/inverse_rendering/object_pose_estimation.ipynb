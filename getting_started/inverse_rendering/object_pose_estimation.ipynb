{
 "cells": [
  {
   "cell_type": "markdown",
   "metadata": {},
   "source": [
    "# Object pose estimation"
   ]
  },
  {
   "cell_type": "markdown",
   "metadata": {
    "jp-MarkdownHeadingCollapsed": true,
    "tags": []
   },
   "source": [
    "## Overview\n",
    "\n",
    "In this tutorial, we will show how to optimize the pose of an object while correctly accounting for the visibility discontinuities. We are going to optimize several latent variables that control the translation and rotation of the object.\n",
    "\n",
    "In differentiable rendering, we aim to evaluate the derivative of a pixel intensity integral with respect to a scene parameter $\\pi$ as follows:\n",
    "$$\n",
    "\\partial_\\pi I(\\pi) = \\partial_\\pi \\int_P f(\\textbf{x}, \\pi) ~ d\\textbf{x}\n",
    "$$\n",
    "where $\\textbf{x}$ is a light path in the path space $P$. \n",
    "\n",
    "When the function $f(\\cdot)$ is continuous w.r.t. $\\pi$, we can move the derivative into the integral and then apply Monte Carlo integration. Under this assumption, differentiating the rendering process via automatic differentiation, as in the previous tutorials, is correct.\n",
    "\n",
    "However, if $f(\\cdot)$ has discontinuities w.r.t. $\\pi$, direct application of automatic differentiation is not correct anymore, as it omits an integral term given by the [Reynolds transport theorem](https://en.wikipedia.org/wiki/Reynolds_transport_theorem). This needs to be considered when differentiating shape-related parameters (e.g., position), as the discontinuities in the visiblity function (the silhouette of the object) are then dependent on the differentiated parameter.\n",
    "      \n",
    "In the last years, several works tried to address this issue (e.g., <cite data-cite=\"Li2018\">Li et al. (2018)</cite>, <cite data-cite=\"Zhang2020\">Zhang et al. (2020)</cite>, <cite data-cite=\"Loubet2019Reparameterizing\">Loubet et al. (2019)</cite>, <cite data-cite=\"Bangaru2020\">Bangaru et al. (2020)</cite>, ...). Mitsuba provides dedicated integrators implementing the *reparameterization*-based approach (<cite data-cite=\"Loubet2019Reparameterizing\">Loubet et al. (2019)</cite>, <cite data-cite=\"Bangaru2020\">Bangaru et al. (2020)</cite>, <cite data-cite=\"Zeltner2021\">Zeltner et al. (2021)</cite>):\n",
    "\n",
    "- [<code>prb_reparam</code>][1]: reparameterized Path Replay Backpropagation (PRB) integrator\n",
    "- [<code>direct_reparam</code>][2]: reparameterized direct illumination integrator\n",
    "\n",
    "\n",
    "In this tutorial, we will optimize the position and rotation of a mesh in order to match a target rendering. To keep things simple, we will use the `direct_reparam` integrator.\n",
    "\n",
    "\n",
    "<div class=\"admonition important alert alert-block alert-success\">\n",
    "\n",
    "🚀 **You will learn how to:**\n",
    "    \n",
    "<ul>\n",
    "  <li>Perform an optimization with discontinuity-aware methods</li>\n",
    "  <li>Optimize latent variables to control the motion of an object</li>\n",
    "</ul>\n",
    "    \n",
    "</div>\n",
    "\n",
    "[1]: https://mitsuba3.readthedocs.io/en/latest/src/api_reference.html#mitsuba.ad.integrators.prb_reparam\n",
    "[2]: https://mitsuba3.readthedocs.io/en/latest/src/api_reference.html#mitsuba.ad.integrators.direct_reparam"
   ]
  },
  {
   "cell_type": "markdown",
   "metadata": {},
   "source": [
    "## Setup\n",
    "\n",
    "As always, let's import `drjit` and `mitsuba` and set a differentiation-aware variant."
   ]
  },
  {
   "cell_type": "code",
   "execution_count": 1,
   "metadata": {},
   "outputs": [],
   "source": [
    "import drjit as dr\n",
    "import mitsuba as mi\n",
    "\n",
    "mi.set_variant('llvm_ad_rgb')"
   ]
  },
  {
   "cell_type": "markdown",
   "metadata": {},
   "source": [
    "## `direct_reparam` and scene construction\n",
    "\n",
    "We will rely on the `direct_reparam` integrator for this tutorial to properly handle the visibility discontinuities in our differentiable simulation. In primal rendering, this integrator is identical to the `direct` integrator."
   ]
  },
  {
   "cell_type": "code",
   "execution_count": 2,
   "metadata": {},
   "outputs": [],
   "source": [
    "integrator = {\n",
    "    'type': 'direct_reparam',\n",
    "}"
   ]
  },
  {
   "cell_type": "markdown",
   "metadata": {},
   "source": [
    "We create a simple scene with a bunny placed in front of a gray wall, illuminated by a spherical light."
   ]
  },
  {
   "cell_type": "code",
   "execution_count": 3,
   "metadata": {},
   "outputs": [],
   "source": [
    "from mitsuba.scalar_rgb import Transform4f as T\n",
    "\n",
    "scene = mi.load_dict({\n",
    "    'type': 'scene',\n",
    "    'integrator': integrator,\n",
    "    'sensor':  {\n",
    "        'type': 'perspective',\n",
    "        'to_world': T.look_at(\n",
    "                        origin=(0, 0, 2),\n",
    "                        target=(0, 0, 0),\n",
    "                        up=(0, 1, 0)\n",
    "                    ),\n",
    "        'fov': 60,\n",
    "        'film': {\n",
    "            'type': 'hdrfilm',\n",
    "            'width': 64,\n",
    "            'height': 64,\n",
    "            'rfilter': { 'type': 'gaussian' },\n",
    "            'sample_border': True\n",
    "        },\n",
    "    },\n",
    "    'wall': {\n",
    "        'type': 'obj',\n",
    "        'filename': '../../scenes/meshes/rectangle.obj',\n",
    "        'to_world': T.translate([0, 0, -2]).scale(2.0),\n",
    "        'face_normals': True,\n",
    "        'bsdf': {\n",
    "            'type': 'diffuse',\n",
    "            'reflectance': { 'type': 'rgb', 'value': (0.5, 0.5, 0.5) },\n",
    "        }\n",
    "    },\n",
    "    'bunny': {\n",
    "        'type': 'ply',\n",
    "        'filename': '../../scenes/meshes/bunny.ply',\n",
    "        'to_world': T.scale(6.5),\n",
    "        'bsdf': {\n",
    "            'type': 'diffuse',\n",
    "            'reflectance': { 'type': 'rgb', 'value': (0.3, 0.3, 0.75) },\n",
    "        },\n",
    "    },\n",
    "    'light': {\n",
    "        'type': 'obj',\n",
    "        'filename': '../../scenes/meshes/sphere.obj',\n",
    "        'emitter': {\n",
    "            'type': 'area',\n",
    "            'radiance': {'type': 'rgb', 'value': [1e3, 1e3, 1e3]}\n",
    "        },\n",
    "        'to_world': T.translate([2.5, 2.5, 7.0]).scale(0.25)\n",
    "    }\n",
    "})"
   ]
  },
  {
   "cell_type": "markdown",
   "metadata": {},
   "source": [
    "## Reference image\n",
    "\n",
    "Next we generate the target rendering. We will later modify the bunny's position and rotation to set the initial optimization state."
   ]
  },
  {
   "cell_type": "code",
   "execution_count": 4,
   "metadata": {
    "tags": []
   },
   "outputs": [
    {
     "data": {
      "text/html": [
       "<img src=\"data:image/png;base64, iVBORw0KGgoAAAANSUhEUgAAAEAAAABAEAIAAAB1mzrKAAAABGdBTUEAALGPC/xhBQAAAAFzUkdCAzfHTVMAAAAgY0hSTQAAeiYAAICEAAD6AAAAgOgAAHUwAADqYAAAOpgAABdwnLpRPAAAACR0RVh0Z2VuZXJhdGVkX2J5ACJNaXRzdWJhIHZlcnNpb24gMy4wLjAidHUhZwAAFONJREFUeF7tm9lu3Ni1hjkXWaOqNCeyrLbdln0TwEAnyEVewC/rR8gjpC8EQ4kNw7IkS9ZQmmpgkSySufhUp/7qLVqdE5wcnIP+L4yNxbXX8K+1B7Jky/oNv+E3/Fuwbdu27ce0/l38Z7z85/FASo7jOI6zvr6+vr4ehmEYhkjKsizLEp2iKIqiQI7EdV3XddUOOkqcLcjzPM9ztaxPvz9XZ2FHn6o11VRo5I5gOp1Op1PkaJIXY41Kvai+GUkcx3Ecn5ycnJycZFmWZZmy5FkGoP7t27dv375lbJomUA3R8zzP8xhDCtbQ1zQ0aA1USdFUkWNfNdEhJbP86leLzVO14/u+7/tIyAs5ErWp8Zu5qAS/jL9+/fr169d37969e/fu4ODg4OBAbT5QALp+dXV1dXV1bW1tbW3NDMiUKAUq14CUAhNmSmpT5VqAqqcqR8IYL9oQOkvXk1k2R6BPteFMHihqrVar1WqWgQcKAJisoSPXlHBMb5oWtPuYRSiMlQK1oImhaRKtfaqlZa76LQW6qpQy9asSjQELpo5qMtZo9anqLDw1RQotg6ZKWLotIGGWBq1jLCitWJsKeIpc6VP7Gg9PkSMxC2Z61y1U8zWzwJq2kcajRTWtafz/QgEcARKtvAakJBKEzrIFal8DVWrUr6aERNNGXy0UglygOpwWjD0BOhq5ys0s1JcWUqNSfbVs4oGtQ1NVCrRDVV+7wKRPx6YX7Sy1rElySCJXawpi0zWBJhZMj+oFiStArjGrHGhbAL3h6MFuWlM8UAAzSQ1RdTQg045aICDVNFPCJt2HRKnXBHiqxTbHalNj1rHa10iQOAK8M4vI1ZpGWNUEWnjFA0sDVU0AqAktiQZa5EVePHCUmQEh0bnqZcGmkKJ2tCSavCaMXMcaAz2LxBXQBMjVvmbEU83ObCn1a1XgkRWAIXWJDk914aNjOZZjLdCtNu9dyg5bGlDSlXpboHKg+ui4BpQOel9bysyRp0iUaIXOVa5Mm2pZ8cgtCKM4w4QGDXhq3ivUpT41bQItpGqqF4Cm2keiUakdR6B2sIAX8jILqV6A6mMHOZpIfk3vg8oVQLh0ioZCqpqAzlIi0GGZKwX61CRCvau+bcCUI9FCqk1WXlUDabF1xZjFVgtqX22axbYqUHkLygU40FAAmsgJRZPRWVoYM1xNFQusmKqyQVVRFEUQWJZl8QkkTTVpLJjHuBmhFoanZpyqr2NiY67GWTU2UfkmDAjIvC0gx7RJvaYB9LSwDXy/PACLeZ7nnpemabq0lCRJ0ulYlmXVao1Go3FzU6vVamdnxMGsQqAeVaLFNrMAGpXmjsQRaO6m919m9Z0tCCjFSHAAZYSuHWSGotawr0n+0j5HFtdQ1gRpuG6apmmnM5lMJt1ulmVZGAZBELRaQRAEUZTneR6GeZ7n19e+7/tpqhlpJFXEVa05nWWuVB2jqRLyygWWgQcKwDStpFLPGHOM0TfLgD5yJFqGuQ8knhfHcRwEaZqmy8ue53lZFgRBMB5blmVtbhZFUayv53mep6nv+34QuK7r8m7B4Tn7OMFqNWM289LsdHUWAlMTKK2ar9qv8qXyR1YAqtNsmk2z0iqt8oFwgWlBr5vok9J0Op1aVpqmaa2W53m+tOS6rkt3o9dsjsfj8WhUFEURBGEYhr1eWZZlnvu+74chVkaj0ejqiu4NwzCMY9d13SRROvBIPIy1FUyKgRKk2TGXtQL1QRAEnEOL7086Fx50ZaivygIwxhzTNHRNQCVqRxOeB12W5+fn5xC0ttbpdDpPngRBELTbpKKdZVmWFQREMJlMJsNhnuf5eJzned7v+77v3942m82mZUVRFLFRcH2oPjbNfDVOLZ7qI1c7nItI1I4n0Lkm9eCRQxhov2ugVelpWDjGQpIkSZ7HcRx3OsvLy8sbG61Wq7W6WhRFMZ3GcRwPBkVRFCxqzxuNRqObm/F4PL64KMuyPD9vtVqtOK7X63UaQsvPxfGh3+kop9nXitIAs5R6zVqh9tULcppP5YpHCmAuHC2GytW9ztJiTCaTCb8fNJu1Wq3WaGgC0+l0yv4ehp7neUGQJElyd+f7vn983G6325OJ7/s+nwqwv3iw4xeJkoVEKdPY6FZi0Gh1rkJ1tNjIsWxaU64UjxzCGNKnjgAdM1B1pk+Hw+EQoosCsoqiKOgOPr3xu1G9jn6j0Wj0eo7jONfXnud5FxdFMf+sNfeuFMzeElzXdSnALA4i1r42y2OOTQl+1QJjzgPG6sUVWAYqf8lirM4Ys6DYAdHUImmgFJK52M2yLGs0sizL0vTu7u7u8rLdbrdXV5kFuVpUrpiTyWSyujoej8ccsOMxP+7haTwejylKvV4URdFqFUVRBIHv+34UYcd1XTdJarVabTi0bdumnLY99/vQFydtIxNmdwPYUDumvqJyBSgwrQcL8jm5ixcsJREkSZLwUaLRaLVareXlwWAwuLryPM+r1dhw4jiO7+7yPM95ZZt9ArEsy2o04jiOt7d9z/ccJ8uyLI7H4/H46irP85y/26jXG41Go9tlg8IykdVqtRp3pySxLMs6P8+yLPv61fd9fzwmF20jGsvMTlniqdKKhAbFAmP9IcgyUHkLqlo4umNqtbVUhKLyPM/zNM2yLLu9vbu7uwvDyWQyGY8hHbrLsiyLgvLU6/V6pxOGYdhszotUqzmO47Dmmk3btm0uqbwTeJ7v+369zlsCmXie57FSiZlXvK2tNE3TRqMoiuIf/3AcxyGGWabETPxaBs1OqUeuDKhmFfXgkR/lMcqGg1w7RceA8vCrAO8NzK3VajXf39zc3EyS09PT0/fvj4+Pj29u+B6/srKysr29s7Oz84c/9Hq93u9+B9GWZVn0HalwZlBy1w3DMKzXWT3oQCISoieLPM9zepDuDgLbtu1ebzqdTp8+DYIg+PjRtm07y8iXLOZzFz9Ka+5kpxTrXCTfL0PlRyKmaRcr0MEoOqXAsi3bWtj7kNOta2tra7VaGIbhdLq1tbX1+vWLFy9e/PGPnU6ns7YO0XNa6SM2BBKbHeCsCQid93iWsexVP0mSJI4pHtYooWVZVq/HNyWlh63DEWi+ZETWlEFz1FIpY8gtA5VngAZxT6tlWbPKm3XWMmjXIGEfPD8/Pz8/Pzk5Obm9bbVard3dbrfb3dys1Wq1KHIcx/Gk6/UXab344g/57ExKkiRhN89zfFEkLHCzwg46MxtlOfvK5Pu+3+9zj4GBuc4Myo8lMDkxZ/0LBVBgWrsAQwShcn0KoIDxcDgcDof7+/v7+/tnZ2dnjvPq1atXr15BB2fAXJ8kkUOxbadpms66GF/j8Xh8c0OjUML5RTaK2P1t27bZmmZHelnOtyaeWpZltdt5nueNxnQ6nd7euu7sCrt4h4FilTNWOYxpAYjQqsAjv4ipA2CSjhvk6OtfgdGPl5eXl5eX/GHecDgc3t0Nh8Mhd5jpFHKn0+k0TdlAIHreQbN9fDqdTpOEN+R+v9//+hW/zWaz2e1GURS1WpSBDcr3fT8MIRpf86wAJeejwkyTyJU4mgNyLQPaaou2Kb3v641uEQsroEqpEJibkukYTagfDAaDwYA/TWUL8jzPS5LBYDC4vIT04XA4vL6mN6Ee+jzP8/gWtPgh4fT09PTjR0q1tra29sMP8zhmsUE3c+dy9uLZX13Mi8oR7ThhGIYPffHHNoQyVzOlNbX3eVoKTFbBQgFUdR5i9VcUnupYu2Y8Ho/H42/fvn379u3w8PDw8PDm5ubm5qbVarUsi7L0+/3+0RHUsOHgy/M8L8u4hs7t81dJjjMej8d3d1xh+TcIgmD2AYPXt6IoilkB2P11NcxJ5LoBrRRpxgU6lEF5MPudrHmKRMcqsQxUngHO/Z7i2M6CCSUdTeSEy59iX1xcXFxc0O9HR0dHR0efP3/+/Plzu91ut9uvX79+vbu7s7Ozs7Q0GAwGBwc3Nzc3s0snmwnbCPRB6Hxj8f16vV5vtw8PDw/39lgBPEWTqMIwDBuNUsBBTddnWZYlyTxymsZxkiRJePNIU1Yq5JpUQs+8kDMoJwqTYVD5m/D9NNuyrYWX9fu62Lb90F9Gstfv7e3t7e19/Pjx48eP/X6/3++Txu7u7u7u7osXL168ePHs2bNnz56NRqPReLy/v7//6dNkMpmMRnyc4HWMTkfS6XQ6a2uWZVm2vbS0tLSxQSvMP1NPp2xlWZZlkwkbi/NfmPUsBWDro0i8p06n0+nS0mg0GvV6URRFrJtPn2zbtmdvy/eUeZ63eAMkEmUGuTKjFhSP/B6A0apKahnofQrw5cuXL1++nJ6enp6eMgs7BJqmaZqmbFD1er0eRdvb29uNxs8///zz3/52dnZ21un0er3e1la32+1ubGCBlcEK4FpZr9frrdbV1dXVycnGxsbG8+fI59uR77MmtOt1Vc03q9kGiKQsyxJN3jDieM7IYoOSl7JBjkg4fmcN4Lq/8mOcQntcNx89jugICnArUDuEy1HM/z9gm+p2u91ud64zGBwdHR3t7x8cHBxE0e7u7u5f/kK/Q1xZzr6bBgGrhE5n9UB6nue57ydJkoxGc6p4XSpLbkpEPl8raTrfvmwbuW3bdpqSORHqYcua1gbl9EFTGcMXOpaBRz5FAMypMz1scUMBrq6urq6uRqPRaJa8WuNG9P79+/fv33/69OnTp0+tVqvVavE0juN4MinLsqR/Z/8rBmqIAE1SCoIg4FMEBJXlaDQa3d46juNwXZ71PpKyLMssi+M4Hg714ktJWAGszTRN0/PzKIqiyYT4YUDZ0HaEGW3HUlAITJ4rC2AL1BxPWQHqAE26oNlsNpvN6+vray6Xi5WneBSJFzTHcRzf39nZ2fnpp93d3d0//7nRaDSWltbX19efPet0Oh3+t1q9Tu+x76+vr6//8AMbC3JWwO3t7e35eaPRaHQ6fNQriqKI4/kWNHsb4F/mDofD4eVllmUZv7tdXrqu6y7u7JD+S6YW94kkSRK+uS7+XGPyAB75GqpydjQNQssA6U+fPn369OlIoAEpNKB2u93e3Pzxxx9//NOfnj9//vynnyCX3mQHRf/i4uLi8JCy89lObz5sRMPhcNjvX19fX5+e3t3d3fX7rVar1es1m81mr8f2NRgMBv0+P+vHcRyfnERRFA0G3W63y6eLWXy2bduz10/tZc1dM+Kpyl2BycMDBYBijkrGuM8FpjkOxeXl5eXlZa6bLMaqAijmoed5FEVRu91oNBpLXc/zvOD+cwKU8TPO8vLy8u9/jyZFwgK/B3Q6nc7q6vyiOfutjUJOJpPJ5WUcx/GHD2EYhqNRu9VuOXYYhRF/Fr34xylYJmvbgJYElrQwzGLFa+MqKrcgNY0z5OoYinHAOIqiKIoajUaj0aAkrIMqL4CfVm5vb2/Pzi4uLi4ODtiLeXVyXdf1PDaWi4uLi8+f+bgdRVHETzH8ifnsRj/fMmZH6PzEGo/DMAyvr7e2trb4U8bZ9yLKT57QB5UQp92tGwt+SgFyxvq0KvfHXsQcx1k8+pBoGZAQKGcA62B7e3t7e5sCcOms8pVlWTYa7e3t7f31r8fHx8d//zvUzy1ziZxMVldXVzkwj4993/efPfM8z1teDoIg4AcZkqdpOPSgkpiJFq/2AhzHcWafKDQ7pU9zV4opleoj1xyryvCrbkFAtx0caHcQHOcEBeCFCznvBFw9qzalOI7jfp9/zadznaWlWq1WK4put9v1/ZWVlRXu2mFoWZYFHea7i37KXvyrju8Tp9BZjoAVxlMkqq+aps1HDmGCQ64p2QbQZNbS0tLS0hKrgYvmysrKysrKhw8fPnz4wDfRqj2xCnjh1sSVV4nTztUI2Rg1C3OMJgQxNv3qdqQ6+NLW1Fkaj1WByk8R6kxdqoSgNQjGrAOoJ0k+SJQC028V8MK58uTJkydPnrx8+fLly5f8L/5AYNrXNaoRavHUl7YFWaCjbOhYbao1pZ71YfoCv2oLUjc81T4CtgH0+QLK19Czs7Mz/nz8oVCYxZhfFFg3vV6v1+vxf/a3tra2trY2Nzc3Nzc7nU6n02EWZ4Quc6VYG0W9qLwQINf1oTrmZsJTs2XRV/bUGnN/1YuYGYoCOT2oHcRGwevYZDKZTCYbGxsbGxvIOQmYC90kxt0J6tFn3BbwMYMO1TiVApMspUOp1yzQ/H4h1bKuMLNsQO0zVp4fWQE6VokZIj2ojnlK/7558+bNmzdIuBdREl/AU7Yati96nDE6+FX7mrBGayZfRZbmpbu5yYBSrxJLoAzw9L+5BQFNQCVmL6hLxvQ1O7XO5RWPgrFudLeFAl0TWh5NW1PVhigFPGVsZmRC7zNoamyFQGepdyTmuAqVf5po9pq61CT1qdohdCjWUrHJqL6migR9fap+GaPDPUdnAbJQv5oRdpDoLI1KV4MZiYK5+hR9xnhRrhQPFGAqMA8WDKmcWTo2ZyHXUJQmtZALdJaZJHJ0lFCeKqGgFCAxi6Q06Sx01JfOMp8yF4lGYhmovIaactOoSQFjlaNpdpPOQl9J1/t7KdCn6NMoumoZE20VcUhsARItg+lX9TVHtaD6xGbqKB75RUwlalorT8I8VSpdgdkFas1cMepRLTNWEr9vWeNUiTnXXHOmRC2bUSHXSNSLxqB45BqqDpQU1awiyJyrRGufqk0liE5Xm2aqall9VVGmc9WyFkOzU+I0Zs1FNZFwnlXZVDzyMU5DNOUaEMuNpya53w9Cofr4xSYJm7SaZUaiMZuaKjHHwDZgkq6bjAJNYlCPJh75HK1j3WqQEwqSsiiLsijt0p5dE8x+N+0rKfdmxBdj3QrQMUlXm0CJ46mWUIt0H6HjOq5DEpodkegKYy5PNWbTl8YMLAOPHMKMlT4ljvorZRoQ+oRFQOaBaQZqluo+ntIqrZICq32lFV96gAMsoKOzkN9TKZZtgUo0qvtZYhlN9fJr8EABeFHSz2emDiANQlFa9al+JtMQzVJhAWuaksagRGvJea2DeuSmZbWmUJuMiVxbQenWWZoLIAbiwSN/qsObv9q5t2wZwCgfv/Q1yuyCexOGHInSbeoQhNJkamqgahm5FsCM0BZUWVMJ3i0D6Khf04vKtYTI+erFh0hd8f+D0BD/1af/t/D/KZff8Bv+N/BPyhpnwvvAORoAAAAASUVORK5CYII=\"width=\"250vm\" />"
      ],
      "text/plain": [
       "Bitmap[\n",
       "  pixel_format = rgb,\n",
       "  component_format = uint8,\n",
       "  size = [64, 64],\n",
       "  srgb_gamma = 1,\n",
       "  struct = Struct<3>[\n",
       "    uint8 R; // @0, normalized, gamma, premultiplied alpha\n",
       "    uint8 G; // @1, normalized, gamma, premultiplied alpha\n",
       "    uint8 B; // @2, normalized, gamma, premultiplied alpha\n",
       "  ],\n",
       "  data = [ 12 KiB of image data ]\n",
       "]"
      ]
     },
     "execution_count": 4,
     "metadata": {},
     "output_type": "execute_result"
    }
   ],
   "source": [
    "img_ref = mi.render(scene, seed=0, spp=1024)\n",
    "\n",
    "mi.util.convert_to_bitmap(img_ref)"
   ]
  },
  {
   "cell_type": "markdown",
   "metadata": {},
   "source": [
    "## Optimizer and latent variables\n",
    "\n",
    "As done in previous tutorial, we access the scene parameters using the `traverse()` mechanism. We then store a copy of the initial vertex positions. Those will be used later to compute the new vertex positions at every iteration, always applying a different transformation on the same base shape. \n",
    "\n",
    "Since the vertex positions in `Mesh` are stored in a linear buffer (e.g., `x_1, y_1, z_1, x_2, y_2, z_2, ...`), we use the `dr.unravel()` routine to unflatten that array into a `Point3f` array."
   ]
  },
  {
   "cell_type": "code",
   "execution_count": 5,
   "metadata": {},
   "outputs": [],
   "source": [
    "params = mi.traverse(scene)\n",
    "initial_vertex_positions = dr.unravel(mi.Point3f, params['bunny.vertex_positions'])"
   ]
  },
  {
   "cell_type": "markdown",
   "metadata": {},
   "source": [
    "While it would be possible to optimize the vertex positions of the bunny independently, in this example we are only going to optimize a translation and rotation parameter. This drastically constrains the optimization process, which helps with convergence.\n",
    "\n",
    "Therefore, we instantiate an optimizer and assign two variables to it: `angle` and `trans`."
   ]
  },
  {
   "cell_type": "code",
   "execution_count": 6,
   "metadata": {},
   "outputs": [],
   "source": [
    "opt = mi.ad.Adam(lr=0.025, params=params)\n",
    "opt['angle'] = mi.Float(0.25)\n",
    "opt['trans'] = mi.Point2f(0.1, -0.25)"
   ]
  },
  {
   "cell_type": "markdown",
   "metadata": {},
   "source": [
    "From the optimizer's point of view, those variables are the same as any other variables optimized in the previous tutorials, to the exception that when calling `opt.update()`, the optimizer doesn't know how to propagate their new values to the scene parameters. This has to be done *manually*, and we encapsulate exactly that logic in the function defined below. More detailed explaination on this can be found [here][1].\n",
    "\n",
    "After clamping the optimized variables to a proper range, this function creates a transformation object combining a translation and rotation and applies it to the vertex positions stored previously. It then flattens those new vertex positions before assigning them to the scene parameters.\n",
    "\n",
    "[1]: https://mitsuba3.readthedocs.io/en/latest/src/tutorials/how_to_guides/use_optimizers.html#3.-Optimize-latent-variables"
   ]
  },
  {
   "cell_type": "code",
   "execution_count": 7,
   "metadata": {},
   "outputs": [],
   "source": [
    "def apply_transformation(params, opt):\n",
    "    opt['trans'] = dr.clamp(opt['trans'], -0.5, 0.5)\n",
    "    opt['angle'] = dr.clamp(opt['angle'], -0.5, 0.5)\n",
    "    \n",
    "    trafo = mi.Transform4f.translate([opt['trans'].x, opt['trans'].y, 0.0]).rotate([0, 1, 0], opt['angle'] * 100.0)\n",
    "    \n",
    "    params['bunny.vertex_positions'] = dr.ravel(trafo @ initial_vertex_positions)"
   ]
  },
  {
   "cell_type": "markdown",
   "metadata": {},
   "source": [
    "It is now time to apply our first transformation to get the bunny to its initial state before starting the optimization."
   ]
  },
  {
   "cell_type": "code",
   "execution_count": 8,
   "metadata": {},
   "outputs": [
    {
     "data": {
      "text/html": [
       "<img src=\"data:image/png;base64, iVBORw0KGgoAAAANSUhEUgAAAEAAAABAEAIAAAB1mzrKAAAABGdBTUEAALGPC/xhBQAAAAFzUkdCAzfHTVMAAAAgY0hSTQAAeiYAAICEAAD6AAAAgOgAAHUwAADqYAAAOpgAABdwnLpRPAAAACR0RVh0Z2VuZXJhdGVkX2J5ACJNaXRzdWJhIHZlcnNpb24gMy4wLjAidHUhZwAAFHJJREFUeF7tnEuPU9m1x/d5+nFsl20KilCghiZNVCD1IFFLQRlkjJRZviffINMo45YQtBANDaKoNy6XH8fneQe/svw3q9zVuVES3av+D9DW2muv934eF879il/xK/4leJ7ned51XP8q/jNa/vO4wiXf933f39nZ2dnZaTabzWYTSl3XdV3DU1VVVVXQoQRBEASByoFHA+cJyrIsy1Ila+/Pj9VRyNFelaacCrXcFxRFURQFdDjxi7ZapVqU31oyn8/n8/n+/v7+/n6e53mea5RCZ0Donz179uzZM9pWNIaqiWEYhmFIm6AgDX51Q41WQzUo6ip05CsnPLhk0696Ndn0qpwoiqIogoJf0KGoTLXf+qIU9NL++PHjx48fnz9//vz583fv3r17905lXpEAqv7mzZs3b968devWrVu3rEGWoiFQuhqkIbCwLqlMpWsCNvUqHQpttGhB6CidTzZtvkB7teBsHEhqo9FoNBrO4IoEAAar6dDVJRRTm1aCVh+jMIW2hkAlqGNw2kBrnWpqGat6a4HOKg2Z6lWK2oAEy6OctNVa7VWetV5LUmga1FXM0mUBCqPUaG0jQcOKtEJAL3QNn8pXe+iFDsUmzGrXJVT9tV4gTctI7dGkWmlq/z+RAF8ARTOvBmkQMUJHeQKVr4ZqaFSvugRF3YZfJVSCUqA87Ba0QwE8arnSrReqSxOpVim/Sra4YulQVzUEWqHKr1Vgw6dtq0UrSyWrk2yS0FWaAtt0TsCJBKtRtUAJBNDVZqUDLQugJxzd2K00xRUJsE6qicqjBlk5KgGDlNO6hEyqD4qGXh2gV5Nt2ypTbda2yldLoPgCtDMKy1WaWripCDTxiiumBqzqAFARmhI1tCqrsrpiK7MGQdGxqmVNpgRF5WhK1Hl1GLq21QZqFkogoAigq3z1iF71zpaU6nUbcM0MQJCqhIdenfjwON/5bi3cKvNSpaywtYEGXUPvCZQOlB+ewEDDQe1rSVkf6YWigVboWI2VlamSFdecghCKMkSo0YBee65QldprZQJNpHKqFgCnyoeiVqkcX6BykIAW/LKJVC1A+ZEDHU4ov6T2wcYZgLlUipqCq+qAjtJAwMM01xBorw2Eald+z8DSoWgiVSYzb1MBabJ1xthkqwSVrzJtst0GXDEDGFAaqCBUQrFhVX4c+PmDHfwqkxmjcoCtPoW6rcuj2gZUArbpWLWTNnrp1TY81h71UeNjsfEmDBBnTwvQtcqscSpHw+EZaJigfGnHevgsJ23LUwlUo1KwTROgXgDVBUXD6gt+XrszuCIzaqgNMdBJyihtq3EqBwoS4EcyIaANj7Z1lDoTCJRTw6FjtVfH6sFXrQU2DoyyaYBT5xOUUuAMrpgBGm4oCIKiQmnDryss6uG3BqkW2tqr0KAAlUza1EIrTW22fulYwqqcaqFyAg2rWqXyN+lS+sZNWFmLvMiLvHa1q68wF1gJuu7DryFQ+fTqUmBtUDm09RSv0HBoCmmrfBtioBrhpM1Y3Z/iOI7jmF4oKpOxxEHnjeramADaGjIbGnVPR+lYNRq6GkGvbQNMLwSqS+3RsRoIa6czUDuBlgg80FWOvdvTDgU61oYeXLMJA613NXSTe2oWiu26qXRCBsW65Ak0WFW1WlBwt67rev0F38qH7hnUBrq8qF47VuWrFuiUjtIV1yTAThxNhtJVvY7SgDJKKSvTCTdjlm7r8xZjtV3XdR3H0+l02mrFcRwvFkmSJEvLNVg6Si3HEt29rLXOQHk02dCXHnwpDbqVds0mjCDt9QXwWENVmWegblMb0+l0miT0djqdzny+cmtdZlEURVUtFotFuz2ZTCaDwWQymdR1r9frBUGz2WyOx845t35RUju1rtXyTW1LQZpKoM1+QFu1BAJnsPFLFm1VtgpBUbAC6gSHXw3Fecbqal4LqJPRaDTK86Ioik4Ht7rdbjdNsUM5p9PptN2u67p+8KCu6zoMoyiK0tT3fX9rq6qqarFwzrnJxIZM56WGT+vUE8DpNsBW98rOzQ/sVs4V94DKwFYNdDXROqxGaJJ0EWPtbrVarYuL+Xw+H49Ho9Go15tMJpNOpyiKgtOR76dpmiZJVVblw4dxHMc3bqCl1Wq1er2yLEuWEc4k60dJ0o9e2mo/bZa7LMuyLLOFYqNENFSOUuBBjn4IsnI2noI2TRxdMTXb1hSlYwpjoStnv9/vR9FoNBpNp7PZbMa63+0uFotFv0/YCHEYhmGSlGVZLs9U8/l8fnQUhmE4Gjnn3HRKsLVo0IUN6otS1FNsxk4kQN8UaOgaAeWk7Tbgmo/yCNWnCK1lbYPL+iqrsiq5N+hYagFXoa9Cg5xut9lsNpMkjuO42yXcYRiGy/UVy6bT6fTsrCzLcn+/0+l0RqN2u92m0pczS9OvHmlANUDKjxfQtch0LHT1QiOglJ9Pw8YEMMy6ob3qkubfec5znqtd7a6oCyRAZ2yWZdlicXJ6cjoa9bf6W+12u91u9/u+7/sEv9kkAJPJZHJ25vu+P5n0er3e589RFEXLN8tKoPajEe1wEj4oGmI4mRkaXAv4tQQ1SRo3oPIVG09BGGGzh0qbZxRAUZfUaJy30uCcTWfTszNXu/rg4MaNGzfu3q3ruubtJYp83/cJMfycOqCv7zrYrx5peqynavPlDBZOtV9HqRwbEztqUwKu+SCjGQbqpBXqCQIBFAzSUVDSNE251vf7UPI8zxeLMAzD5dcI6MyJIAiCfj/LsqzbVa3qMHT0kWTnnGMvwa+rPgpRdkpBkvprQehplwZ271FccxFTBVAQp66uQrOcevwKTDmt0Zra8/Pz8yyrqqqKom63293agmexWCzm8ziO41aLZIRhGMZxVVVVEKRpmnIWgqe4RJZlWRDkeZ7DyfLFL1y5K/Ch6eIiDMNwMvF9378q6JoMXbiUB+jM1l5iwlJmR4G1BGxiqgR2UfIM4MQBnQFAxyKNw99kMpmk6c7Ozs5vf5skScJsqKrxeDw+Oel2u93tbZIxnU6nnz8T4jzP86++CoIg4MDHIRKNuN5sxnEct9skoK7rOgjQmOd5fnYWRVG0vx+GYTidBkEQrO9t6qMuZeopBUp6NA21wEYVrCVAWRGtQqFrKLUidNLp4sNYHMalUICW+Xw+Pz8/Pz8/H40Wi8ViNiuKosjzJEmSra35fD6/uFgsFovpFBvSNE1pcw8YDAh0FEURJ26Wl+WZJAiCII6ZQ6ShLMsyz6uqqpKkKIqi3fY8z/vxR9/3/aVkLTiNgy0pO9e1rRRncM0pyPd8z18TYadhLVCDaF9cXFxcXHz69OnTp0/9fr/f729vb29vb6uERqPRKMvj4+Pjly8/fPjw4eZNgjUYDAa/+Q0LEdxBEATcflutfr/f39mB4nme5/vNZrOpP4BdWuWcc2ot6dGLZL+f53m+uxvHcfzTT3Vd12lKr/qicSA8OhvUo9rAbcDGX8ZdDvOc59bOFZd58TxvfSvWuoBzNpvNZrODg4ODg4NXr169evXqyZMnT548GQ6Hw+EQx/jt/Gw2m02nVVVVk8n333///d/+dnZ2dra/v7Ozs/PwYa/X621vU+P379+//+23w+FweOdOEATBcm1l7cf6VZjs8ojl65sqrbqu634/TdP06CiO4zhNV56sn3yYVRpWilIjA31lyfqjpOKa7wEI3ZTJTQqUDgoB5o7H4/F4/P79+/fv37948eLFq1fD4XD47bd37ty587vfcQxNkiQZDDqdTqffh8LDg1q1CiUU2vwqAkuWh9eyLEvW/SyDk6Qyh4qiKKIoz/Oc+wd7w1XPc+oXligPeqCwB8FDgTqDa05BWim6+CCOXlsRBBr1rVar1WrRZk6wKPFnCy9fvnz58mWWZZlz9+/fv//o0YMHDx78/vf9fr9/+3YURRFrd6PRbDabPNXpQ6E+GLANshazdrMDlWWWZdlsxu4CfZUwdqxGg/mUZVnW61VVVTWbRVEUs9kq8OvPMPiopcBtHU6NGFHS+CiueYoAKyfX31WgW9GkB7ovOD09PT09XSwWi8WCP9lJkiRJkocPHz7c3V2ZyU7DCQqHeSvljci7hGqkxleWcJMgTFlG6LGKOaQF5AmCIAiSpKqqiieQ+Rxp6qkGVyNjyxFUAmewMQFqloqjV0MMRY3AOF5+qPfpdDqdTo+Ojo6OjhjLVry3t7e3t9dut9tJ8vr169eTSZqm6cUFL0J1Xde8tzSb3Cycc46fFNpntSwjGIQbO6A3Go1Gq5UkSTIcop10kmD1jiQ459zyYqXQ5UWhiaS8oBMT2horxTWvoUpnGVEjlAc6agg94X7z5s2bN2/evn379u3b0Wg0Go3u3r179+7dx48fP378mD+BQk6z2Wyenh4eHh7++CPLTrfb7RKyMMyyLJvPCX1dr54o0FhVVcWCwNG2LC8uLi5OTljxOS+RTnYhRpEG+Ll7w+N5nkct85uo5QzWWrYluLJkfcEJBM7gigQQSk7utFFfCmzoLwfXrnaXCxQLzocPHz58+HB8fHx8fAxLmqZpmnLu53jKX6UFQRCU5enp6en793EjbvDhpao6nU5nOHRuNSujKIoaDc/zPIKyDKjv+z4hKMvZbDYbj6fT6XQ0CsMwXO4lq42RH8sEQVmUxfLXFZzJfN/3+/0oiqIsC4IgOD9fJWYdmhKipIkhMkRjLUqCjUuQikYZdFXMere2H7ja1Y7kccQk3IzFrJOTk5OTkx9++OGHH34gSQQF7pOTk5M8Z2xVViV1HQR1VVd1XbvaVVWr1WrxtYBghWGz2Wy222jh9ZRRaZqmk8l4PB4fHTUajQb34a2tWuFqx2fO2YyAxXEcDwbOOceV7fzcOeeWPx0j0BqNNWHiqfa6DbjuIuZTVXW9fjPUNEChDadmngSoEaSHRYljKBJWc6vTKcvl8xn8abq1tbXF3y0nCdUdx3HcaFDdhDtJkqTZZNmBziOE5y1vAPYHVWz1fLFYaoSiHlGA6ruGmKr/kn/9mLApDb/oFAR02VFn6NVUAeYHQbC1UAlUb1EUxWi0v7+//+IF6zKfKlmIut1u98aNTqfTGQyGw+Fwd/fL9T3Py7Is2WCjiJlRVVXFojqfc7fgTaksy5Jlll2Lb8tUN36dnVFo6rX6C3QNWElY8iunM7hmE9YAaXA9A+VkSeGzCgdNNd1qtKiqqsrz4+Pj4zdvOMV//fXXX//hD61Wq9XpHBwcHLx5w4NdEAQBL7WeBydp8P3lnBgMSAAU0rna0pcJw34s9zzPOzsLwzAkAcsnEAoOX7ATj7Q0gUbm573e+BShylSlUsiqGqFtelcuXfXOuglI7/f7/d3dvb29vT/96fHjx4///Gfq/dWrV6/+/nc2VWqZXYGxQRAEPEvgy2q5WX7SYUtc7i6EvizLcj4PgiA4PPQ8zzs/58xH8DQa2lavNdD0QmF+aK/iFy1BqoZeu3RoYuDnbMO3Adxn1CZTFMPhcHj//tOnT5/+9a+PHj169PRpr9fr8frvHK9DLETtdru9tRWGYbhcx1m4kEN6fN/3Oe8vlylOR9jT7Xa7PHjwle34OAiWaVn/lATNLib02pJdylhFT6Ux9hddxBCkgxXQWesxgtWfxef27du3b9/mTsDtV9VfrTcIuCl888033/zxj4PBYHD7NosGj3Q8xm1vb2/fu8eZJwiCII7hKYqiWFxeyjQ91Dk62FGqqqpYu7MsiqLop5983/fXD9laNFpGtPHX9mr0NErW92tmgLaVolWASrYx1OBAp9PpdDpcu+glSRw9uSEz9kvdVHGajsfj8fExYTo6Ojp6946A3rt3797eXq/X6928iUZ4iqIoLp/bFiSGNLDUILOu65oterHwfd+/uHDOuePjMAzDiwv1y0ZAQ6+UddtXoPd/uQQBhiFOKbYWVCVtws2Tg6aE/zGEewDPc19qLIrXr1+//sc/Pn/+/PnggM8y1Ox333333V/+snKMX88RMj7FnJ1VVVXx4sTpi2cJrB2NgiAIzs/jOI75CMqzMx6tf8nAU/YwDbf6CDRtGittb8LGnyZqWKGrylqgvVZOt9vtLrdH7gSre+9VV3OQ53k+mRwcHBy8eIGLt27duvXVV/v7+/s7O0mSJNRvv99ut9ucu7i1zmbdbre7fJZggcCXOI5j7MRmZipFQ3DXS81aqOWoICXaCz9tnTHO4IoEFAK7sSBI6YzStu1lCeIt6PDw8PDwkNrHSZVMm3MNM4bvaLwa7ezs7LBtnpy02+02v5xY/Rxr+SN1gpLnnMA0APwLP9oJnw2TWgUPdKUwyvaq7zpjnMHGY6ilW6E69XSU0kmGL+B+sLu7u7u72+v1er0e0xxO2gSd2TMYDAaDAW3oW1tbW8vnhLJcvowuZ60mdVPg1CP1S9OgsPzqo0pQforY8iiu+SKmFBtinMFheqETSuhUKMsO//+Wnpd0OUILCeAExRGW2cAodRvY+tpkp1LsWOxRHktRyeqvTZITVAJncM0xVBXYNABrCsqgMIpAsyFr1ZMelal0DVYt0MBp+NTOTSFT71SaylTvNHBaKGhUfpWAF5tkKq55jFMTLV0NYrrRu2llp4qp6008mjb0QsFhG1alqAS12XIqxbaBZ2CDrouMAk5sUI0W1zxHa1uXGuiYAqWu6qquaq/2lscENVfDraPWJCBGdNHWpQAeG3S1E6guejWFmqRLC/3AD3ycUO+wRGcYY9VylaO61GbgDK7ZhGljBBSUYQT515CpQfBjFgbBDycSrKGqa82e2tWuJsEqX8OKLpavSoAEeHQU9MtQimRPoBS16nKUSIZTtfwSXJEA3uu5r2oyLHADUzSs2suyo4mBx6ZKZ4m6pDZooDXlHHMJPXQrWaUpVCZtLNdS0HDrKPUFYAP2oJEPUNyBVM6lZGeAUM7dhG9TFVyKMHQoGm7LgxEaJsuphqpk6JoAa6En2CRNKWh3BvCoXqtF6ZpC6Hym5/ajM/7fCDXxn+39v4X/T778il/x38D/AIsEbTP+Vyl2AAAAAElFTkSuQmCC\"width=\"250vm\" />"
      ],
      "text/plain": [
       "Bitmap[\n",
       "  pixel_format = rgb,\n",
       "  component_format = uint8,\n",
       "  size = [64, 64],\n",
       "  srgb_gamma = 1,\n",
       "  struct = Struct<3>[\n",
       "    uint8 R; // @0, normalized, gamma, premultiplied alpha\n",
       "    uint8 G; // @1, normalized, gamma, premultiplied alpha\n",
       "    uint8 B; // @2, normalized, gamma, premultiplied alpha\n",
       "  ],\n",
       "  data = [ 12 KiB of image data ]\n",
       "]"
      ]
     },
     "execution_count": 8,
     "metadata": {},
     "output_type": "execute_result"
    }
   ],
   "source": [
    "apply_transformation(params, opt)\n",
    "\n",
    "opt.update()\n",
    "\n",
    "img_init = mi.render(scene, seed=0, spp=1024)\n",
    "\n",
    "mi.util.convert_to_bitmap(img_init)"
   ]
  },
  {
   "cell_type": "markdown",
   "metadata": {},
   "source": [
    "The optimization loop below is very similar to the one used in the other tutorials, except that we need to apply the transformation to update the bunny's state and record the relation between the rendered image and the optimized parameters."
   ]
  },
  {
   "cell_type": "code",
   "execution_count": 9,
   "metadata": {},
   "outputs": [
    {
     "name": "stdout",
     "output_type": "stream",
     "text": [
      "Iteration 49: error=0.002827, angle=0.0169, trans=[0.0062, -0.0007]]]\r"
     ]
    }
   ],
   "source": [
    "loss_hist = []\n",
    "for it in range(50):\n",
    "    \n",
    "    apply_transformation(params, opt)\n",
    "\n",
    "    opt.update()\n",
    "    \n",
    "    img = mi.render(scene, params, seed=it, spp=16)\n",
    "    \n",
    "    loss = dr.sum(dr.sqr(img - img_ref)) / len(img)\n",
    "    \n",
    "    dr.backward(loss)\n",
    "\n",
    "    opt.step()\n",
    "\n",
    "    loss_hist.append(loss)\n",
    "    print(f\"Iteration {it:02d}: error={loss[0]:6f}, angle={opt['angle'][0]:.4f}, trans=[{opt['trans'].x[0]:.4f}, {opt['trans'].y[0]:.4f}]\", end='\\r')"
   ]
  },
  {
   "cell_type": "markdown",
   "metadata": {},
   "source": [
    "## Visualizing the results\n",
    "\n",
    "Finally, let's visualize the results and plot the loss over iterations"
   ]
  },
  {
   "cell_type": "code",
   "execution_count": 10,
   "metadata": {
    "nbsphinx-thumbnail": {},
    "tags": []
   },
   "outputs": [
    {
     "data": {
      "image/png": "[encoded data removed]",
      "text/plain": [
       "<Figure size 720x720 with 4 Axes>"
      ]
     },
     "metadata": {
      "needs_background": "light"
     },
     "output_type": "display_data"
    }
   ],
   "source": [
    "from matplotlib import pyplot as plt\n",
    "\n",
    "fig, axs = plt.subplots(2, 2, figsize=(10, 10))\n",
    "\n",
    "axs[0][0].plot(loss_hist)\n",
    "axs[0][0].set_xlabel('iteration'); \n",
    "axs[0][0].set_ylabel('Loss'); \n",
    "axs[0][0].set_title('Parameter error plot');\n",
    "\n",
    "axs[0][1].imshow(mi.util.convert_to_bitmap(img_init))\n",
    "axs[0][1].axis('off')\n",
    "axs[0][1].set_title('Initial Image')\n",
    "\n",
    "axs[1][0].imshow(mi.util.convert_to_bitmap(mi.render(scene, spp=1024)))\n",
    "axs[1][0].axis('off')\n",
    "axs[1][0].set_title('Optimized image')\n",
    "\n",
    "axs[1][1].imshow(mi.util.convert_to_bitmap(img_ref))\n",
    "axs[1][1].axis('off')\n",
    "axs[1][1].set_title('Reference Image');"
   ]
  },
  {
   "cell_type": "markdown",
   "metadata": {},
   "source": [
    "## See also\n",
    "\n",
    "- [Detailed look at Optimizer](https://mitsuba3.readthedocs.io/en/latest/src/tutorials/how_to_guides/use_optimizers.html)\n",
    "- [<code>mitsuba.ad.Optimizer</code>](https://mitsuba3.readthedocs.io/en/latest/src/api_reference.html#mitsuba.ad.Optimizer)\n",
    "- [<code>mitsuba.ad.integrators.prb_reparam</code>](https://mitsuba3.readthedocs.io/en/latest/src/api_reference.html#mitsuba.ad.integrators.prb_reparam)\n",
    "- [<code>mitsuba.ad.integrators.direct_reparam</code>](https://mitsuba3.readthedocs.io/en/latest/src/api_reference.html#mitsuba.ad.integrators.direct_reparam)"
   ]
  }
 ],
 "metadata": {
  "interpreter": {
   "hash": "324262bda25e4aeb89fac5521e5e52d6dea4600b0315b63007798d9c65d5c62c"
  },
  "kernelspec": {
   "display_name": "Python 3 (ipykernel)",
   "language": "python",
   "name": "python3"
  },
  "language_info": {
   "codemirror_mode": {
    "name": "ipython",
    "version": 3
   },
   "file_extension": ".py",
   "mimetype": "text/x-python",
   "name": "python",
   "nbconvert_exporter": "python",
   "pygments_lexer": "ipython3",
   "version": "3.9.12"
  }
 },
 "nbformat": 4,
 "nbformat_minor": 4
}
