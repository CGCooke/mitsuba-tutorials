{
 "cells": [
  {
   "cell_type": "markdown",
   "metadata": {},
   "source": [
    "# Object pose estimation"
   ]
  },
  {
   "cell_type": "markdown",
   "metadata": {
    "jp-MarkdownHeadingCollapsed": true,
    "tags": []
   },
   "source": [
    "## Overview\n",
    "\n",
    "In this tutorial, we will showcase how to optimize the pose of an object correctly counting for the visibility discontinuities. We are going to optimize several latent variables that controls the translation and rotation of the object.\n",
    "\n",
    "In differentiable rendering, we aim to evaluate the derivative of a pixel intensity integral with respect to a scene parameter $\\pi$ as follows:\n",
    "$$\n",
    "\\partial_\\pi I(\\pi) = \\partial_\\pi \\int_P f(\\textbf{x}, \\pi) ~ d\\textbf{x}\n",
    "$$\n",
    "where $\\textbf{x}$ is a light path in the path space $P$. When the function $f(\\cdot)$ is continuous with $\\pi$, we can move the derivative into the integral and then apply Monte Carlo integration. This justifies the correctness of differentiating the entire rendering pipeline with autodiff, as is done in previous tutorials. But when the discontinuities depend on the scene parameter $\\pi$, for example the silhouette of an object could move as we translate it, direct autodiff will yield biased results missing a line integral along the discontinuous boundary. \n",
    "      \n",
    "In the last years, many publications addressed this issue (e.g. <cite data-cite=\"Loubet2019Reparameterizing\">Loubet et al. (2019)</cite>, <cite data-cite=\"Bangaru2020\">Bangaru et al. (2020)</cite>, ...). Mitsuba provides dedicated integrators that implements those algorithms to tackles this specific problem:\n",
    "\n",
    "- [<code>prb_reparam</code>][1]: reparameterized Path Replay Backpropagation (PRB) integrator\n",
    "- [<code>direct_reparam</code>][2]: reparameterized direct illumination integrator\n",
    "\n",
    "We are going to use the `direct_reparam` as it will be sufficient for this simple example. For instance we don't need the integrator to compute higher bounce effects such as global illumination.\n",
    "\n",
    "<div class=\"admonition important alert alert-block alert-success\">\n",
    "\n",
    "🚀 **What will you learn?**\n",
    "    \n",
    "<ul>\n",
    "  <li>Perform optimization with discontinuity-aware methods</li>\n",
    "  <li>Optimize latent variables to control the motion of an object</li>\n",
    "</ul>\n",
    "    \n",
    "</div>\n",
    "\n",
    "[1]: https://mitsuba3.readthedocs.io/en/latest/src/api_reference.html#mitsuba.ad.integrators.prb_reparam\n",
    "[2]: https://mitsuba3.readthedocs.io/en/latest/src/api_reference.html#mitsuba.ad.integrators.direct_reparam"
   ]
  },
  {
   "cell_type": "markdown",
   "metadata": {},
   "source": [
    "## Setup\n",
    "\n",
    "As always, let's import `drjit` and `mitsuba` and set a differentiation-aware variant."
   ]
  },
  {
   "cell_type": "code",
   "execution_count": 1,
   "metadata": {},
   "outputs": [],
   "source": [
    "import drjit as dr\n",
    "import mitsuba as mi\n",
    "\n",
    "mi.set_variant('llvm_ad_rgb')"
   ]
  },
  {
   "cell_type": "markdown",
   "metadata": {},
   "source": [
    "## `direct_reparam` and scene construction\n",
    "\n",
    "As stated in the intro, we will rely on the `direct_reparam` integrator for this tutorial to properly handle the visibility discontinuities in our differentiable simulation. In primal rendering, this integrator is identical to the `direct` integrator."
   ]
  },
  {
   "cell_type": "code",
   "execution_count": 2,
   "metadata": {},
   "outputs": [],
   "source": [
    "integrator = {\n",
    "    'type': 'direct_reparam',\n",
    "}"
   ]
  },
  {
   "cell_type": "markdown",
   "metadata": {},
   "source": [
    "We create a simple scene with a bunny placed in front of a gray wall, illuminated by an spherical light."
   ]
  },
  {
   "cell_type": "code",
   "execution_count": 3,
   "metadata": {},
   "outputs": [],
   "source": [
    "from mitsuba.scalar_rgb import Transform4f as T\n",
    "\n",
    "scene = mi.load_dict({\n",
    "    'type': 'scene',\n",
    "    'integrator': integrator,\n",
    "    'sensor':  {\n",
    "        'type': 'perspective',\n",
    "        'to_world': T.look_at(\n",
    "                        origin=(0, 0, 2),\n",
    "                        target=(0, 0, 0),\n",
    "                        up=(0, 1, 0)\n",
    "                    ),\n",
    "        'fov': 60,\n",
    "        'film': {\n",
    "            'type': 'hdrfilm',\n",
    "            'width': 64,\n",
    "            'height': 64,\n",
    "            'rfilter': { 'type': 'gaussian' },\n",
    "            'sample_border': True\n",
    "        },\n",
    "    },\n",
    "    'wall': {\n",
    "        'type': 'obj',\n",
    "        'filename': '../../scenes/meshes/rectangle.obj',\n",
    "        'to_world': T.translate([0, 0, -2]) @ T.scale(2.0),\n",
    "        'face_normals': True,\n",
    "        'bsdf': {\n",
    "            'type': 'diffuse',\n",
    "            'reflectance': { 'type': 'rgb', 'value': (0.5, 0.5, 0.5) },\n",
    "        }\n",
    "    },\n",
    "    'bunny': {\n",
    "        'type': 'ply',\n",
    "        'filename': '../../scenes/meshes/bunny.ply',\n",
    "        'to_world': T.scale(6.5),\n",
    "        'bsdf': {\n",
    "            'type': 'diffuse',\n",
    "            'reflectance': { 'type': 'rgb', 'value': (0.3, 0.3, 0.75) },\n",
    "        },\n",
    "    },\n",
    "    'light': {\n",
    "        'type': 'obj',\n",
    "        'filename': '../../scenes/meshes/sphere.obj',\n",
    "        'emitter': {\n",
    "            'type': 'area',\n",
    "            'radiance': {'type': 'rgb', 'value': [1e3, 1e3, 1e3]}\n",
    "        },\n",
    "        'to_world': T.translate([2.5, 2.5, 7.0]) @ T.scale(0.25)\n",
    "    }\n",
    "})"
   ]
  },
  {
   "cell_type": "markdown",
   "metadata": {},
   "source": [
    "## Reference image\n",
    "\n",
    "Next we generate a reference image before moving the bunny to a different position."
   ]
  },
  {
   "cell_type": "code",
   "execution_count": 4,
   "metadata": {
    "tags": []
   },
   "outputs": [
    {
     "data": {
      "text/html": [
       "<img src=\"data:image/png;base64, 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\"width=\"250vm\" />"
      ],
      "text/plain": [
       "Bitmap[\n",
       "  pixel_format = rgb,\n",
       "  component_format = uint8,\n",
       "  size = [64, 64],\n",
       "  srgb_gamma = 1,\n",
       "  struct = Struct<3>[\n",
       "    uint8 R; // @0, normalized, gamma, premultiplied alpha\n",
       "    uint8 G; // @1, normalized, gamma, premultiplied alpha\n",
       "    uint8 B; // @2, normalized, gamma, premultiplied alpha\n",
       "  ],\n",
       "  data = [ 12 KiB of image data ]\n",
       "]"
      ]
     },
     "execution_count": 4,
     "metadata": {},
     "output_type": "execute_result"
    }
   ],
   "source": [
    "img_ref = mi.render(scene, seed=0, spp=1024)\n",
    "\n",
    "mi.util.convert_to_bitmap(img_ref)"
   ]
  },
  {
   "cell_type": "markdown",
   "metadata": {},
   "source": [
    "## Optimizer and latent variables\n",
    "\n",
    "As done in previous tutorial, we access the scene parameters using the `traverse()` mechanism. We then store a copy of the initial vertex positions. Those will be used later to compute the new vertex positions at every iteration, always applying a different transformation on the same base shape. \n",
    "\n",
    "Since the vertex positions in `Mesh` are stored in a linear buffer (e.g. `x_1, y_1, z_1, x_2, y_2, z_2, ...`), we use the `dr.unravel()` routine to unflatten that array into a `Point3f` array."
   ]
  },
  {
   "cell_type": "code",
   "execution_count": 5,
   "metadata": {},
   "outputs": [],
   "source": [
    "params = mi.traverse(scene)\n",
    "initial_vertex_positions = dr.unravel(mi.Point3f, params['bunny.vertex_positions'])"
   ]
  },
  {
   "cell_type": "markdown",
   "metadata": {},
   "source": [
    "While it could be possible to optimize the vertex positions of the bunny independently, in this example we are only going to optimize for a translation and rotation parameter. This drastically constraints the optimization process and helps with the convergence.\n",
    "\n",
    "For this, we instantiate an optimizer and assign two variables to it: `angle` and `trans`."
   ]
  },
  {
   "cell_type": "code",
   "execution_count": 6,
   "metadata": {},
   "outputs": [],
   "source": [
    "opt = mi.ad.Adam(lr=0.025, params=params)\n",
    "opt['angle'] = mi.Float(0.25)\n",
    "opt['trans'] = mi.Point2f(0.1, -0.25)"
   ]
  },
  {
   "cell_type": "markdown",
   "metadata": {},
   "source": [
    "From the optimizer's point of view, those variables are the same as any other variables optimized in the previous tutorials, to the exception that when calling `opt.update()`, the optimizer doesn't know how to propagate their new values to the scene parameters. This has to be done *manually*, and we encapsulate exactly that logic in the function define here. More detailed explaination on this can be found [here][1].\n",
    "\n",
    "After clamping the optimized variables to a proper range, this function creates a transformation object combining a translation and rotation and applies it to the vertex positions stored previously. It then flattens those new vertex positions before assigning them to the scene parameters.\n",
    "\n",
    "[1]: https://mitsuba3.readthedocs.io/en/latest/src/tutorials/how_to_guides/use_optimizers.html#3.-Optimize-latent-variables"
   ]
  },
  {
   "cell_type": "code",
   "execution_count": 7,
   "metadata": {},
   "outputs": [],
   "source": [
    "def apply_transformation(params, opt):\n",
    "    opt['trans'] = dr.clamp(opt['trans'], -0.5, 0.5)\n",
    "    opt['angle'] = dr.clamp(opt['angle'], -0.5, 0.5)\n",
    "    \n",
    "    trafo = mi.Transform4f.translate([opt['trans'].x, opt['trans'].y, 0.0]) @ \\\n",
    "            mi.Transform4f.rotate([0, 1, 0], opt['angle'] * 100.0)\n",
    "    \n",
    "    params['bunny.vertex_positions'] = dr.ravel(trafo @ initial_vertex_positions)"
   ]
  },
  {
   "cell_type": "markdown",
   "metadata": {},
   "source": [
    "It is now time to apply our first transformation to get the bunny to its initial position before starting the optimization."
   ]
  },
  {
   "cell_type": "code",
   "execution_count": 8,
   "metadata": {},
   "outputs": [
    {
     "data": {
      "text/html": [
       "<img src=\"data:image/png;base64, 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\"width=\"250vm\" />"
      ],
      "text/plain": [
       "Bitmap[\n",
       "  pixel_format = rgb,\n",
       "  component_format = uint8,\n",
       "  size = [64, 64],\n",
       "  srgb_gamma = 1,\n",
       "  struct = Struct<3>[\n",
       "    uint8 R; // @0, normalized, gamma, premultiplied alpha\n",
       "    uint8 G; // @1, normalized, gamma, premultiplied alpha\n",
       "    uint8 B; // @2, normalized, gamma, premultiplied alpha\n",
       "  ],\n",
       "  data = [ 12 KiB of image data ]\n",
       "]"
      ]
     },
     "execution_count": 8,
     "metadata": {},
     "output_type": "execute_result"
    }
   ],
   "source": [
    "apply_transformation(params, opt)\n",
    "\n",
    "opt.update()\n",
    "\n",
    "img_init = mi.render(scene, seed=0, spp=1024)\n",
    "\n",
    "mi.util.convert_to_bitmap(img_init)"
   ]
  },
  {
   "cell_type": "markdown",
   "metadata": {},
   "source": [
    "The optimization loop written below is very similar to the one used in the other tutorials, except that we need to apply the transformation after taking a gradient step at every iterations."
   ]
  },
  {
   "cell_type": "code",
   "execution_count": 9,
   "metadata": {},
   "outputs": [
    {
     "name": "stdout",
     "output_type": "stream",
     "text": [
      "Iteration 49: error=0.002829, angle=-0.0177, trans=[0.0003, -0.0012]]\r"
     ]
    }
   ],
   "source": [
    "loss_hist = []\n",
    "for it in range(50):\n",
    "    img = mi.render(scene, params, seed=it, spp=16)\n",
    "    \n",
    "    loss = dr.hsum_async(dr.sqr(img - img_ref)) / len(img)\n",
    "    \n",
    "    dr.backward(loss)\n",
    "\n",
    "    opt.step()\n",
    "    \n",
    "    apply_transformation(params, opt)\n",
    "\n",
    "    opt.update()\n",
    "\n",
    "    loss_hist.append(loss)\n",
    "    print(f\"Iteration {it:02d}: error={loss[0]:6f}, angle={opt['angle'][0]:.4f}, trans=[{opt['trans'].x[0]:.4f}, {opt['trans'].y[0]:.4f}]\", end='\\r')"
   ]
  },
  {
   "cell_type": "markdown",
   "metadata": {},
   "source": [
    "## Visualize the results\n",
    "\n",
    "Finally, let's visualize the results and plot the loss over iterations"
   ]
  },
  {
   "cell_type": "code",
   "execution_count": 10,
   "metadata": {
    "nbsphinx-thumbnail": {},
    "tags": []
   },
   "outputs": [
    {
     "data": {
      "image/png": "[encoded data removed]",
      "text/plain": [
       "<Figure size 720x720 with 4 Axes>"
      ]
     },
     "metadata": {
      "needs_background": "light"
     },
     "output_type": "display_data"
    }
   ],
   "source": [
    "from matplotlib import pyplot as plt\n",
    "\n",
    "fig, axs = plt.subplots(2, 2, figsize=(10, 10))\n",
    "\n",
    "axs[0][0].plot(loss_hist)\n",
    "axs[0][0].set_xlabel('iteration'); \n",
    "axs[0][0].set_ylabel('Loss'); \n",
    "axs[0][0].set_title('Parameter error plot');\n",
    "\n",
    "axs[0][1].imshow(mi.util.convert_to_bitmap(img_init))\n",
    "axs[0][1].axis('off')\n",
    "axs[0][1].set_title('Initial Image')\n",
    "\n",
    "axs[1][0].imshow(mi.util.convert_to_bitmap(mi.render(scene, spp=1024)))\n",
    "axs[1][0].axis('off')\n",
    "axs[1][0].set_title('Optimized image')\n",
    "\n",
    "axs[1][1].imshow(mi.util.convert_to_bitmap(img_ref))\n",
    "axs[1][1].axis('off')\n",
    "axs[1][1].set_title('Reference Image');"
   ]
  },
  {
   "cell_type": "markdown",
   "metadata": {},
   "source": [
    "## See also\n",
    "\n",
    "- [Detailed look at Optimizer](https://mitsuba3.readthedocs.io/en/latest/src/tutorials/how_to_guides/use_optimizers.html)\n",
    "- [<code>mitsuba.ad.Optimizer</code>](https://mitsuba3.readthedocs.io/en/latest/src/api_reference.html#mitsuba.ad.Optimizer)\n",
    "- [<code>mitsuba.ad.integrators.prb_reparam</code>](https://mitsuba3.readthedocs.io/en/latest/src/api_reference.html#mitsuba.ad.integrators.prb_reparam)\n",
    "- [<code>mitsuba.ad.integrators.direct_reparam</code>](https://mitsuba3.readthedocs.io/en/latest/src/api_reference.html#mitsuba.ad.integrators.direct_reparam)"
   ]
  }
 ],
 "metadata": {
  "interpreter": {
   "hash": "324262bda25e4aeb89fac5521e5e52d6dea4600b0315b63007798d9c65d5c62c"
  },
  "kernelspec": {
   "display_name": "Python 3 (ipykernel)",
   "language": "python",
   "name": "python3"
  },
  "language_info": {
   "codemirror_mode": {
    "name": "ipython",
    "version": 3
   },
   "file_extension": ".py",
   "mimetype": "text/x-python",
   "name": "python",
   "nbconvert_exporter": "python",
   "pygments_lexer": "ipython3",
   "version": "3.9.12"
  }
 },
 "nbformat": 4,
 "nbformat_minor": 4
}
