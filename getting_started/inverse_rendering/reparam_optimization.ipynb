{
 "cells": [
  {
   "cell_type": "markdown",
   "metadata": {},
   "source": [
    "# Object pose estimation"
   ]
  },
  {
   "cell_type": "markdown",
   "metadata": {
    "jp-MarkdownHeadingCollapsed": true,
    "tags": []
   },
   "source": [
    "## Overview\n",
    "\n",
    "In this tutorial, we will showcase how to optimize the pose of an object correctly counting for the visibility discontinuities. We are going to optimize several latent variables that controls the translation and rotation of the object.\n",
    "\n",
    "In differentiable rendering, we aim to evaluate the derivative of a pixel intensity integral with respect to a scene parameter $\\pi$ as follows:\n",
    "$$\n",
    "\\partial_\\pi I(\\pi) = \\partial_\\pi \\int_P f(\\textbf{x}, \\pi) ~ d\\textbf{x}\n",
    "$$\n",
    "where $\\textbf{x}$ is a light path in the path space $P$. When the function $f(\\cdot)$ is continuous with $\\pi$, we can move the derivative into the integral and then apply Monte Carlo integration. This justifies the correctness of differentiating the entire rendering pipeline with autodiff, as is done in previous tutorials. But when the discontinuities depend on the scene parameter $\\pi$, for example the silhouette of an object could move as we translate it, direct autodiff will yield biased results missing a line integral along the discontinuous boundary. \n",
    "      \n",
    "In the last years, many publications addressed this issue (e.g. <cite data-cite=\"Loubet2019Reparameterizing\">Loubet et al. (2019)</cite>, <cite data-cite=\"Bangaru2020\">Bangaru et al. (2020)</cite>, ...). Mitsuba provides dedicated integrators that implements those algorithms to tackles this specific problem:\n",
    "\n",
    "- [<code>prb_reparam</code>][1]: reparameterized Path Replay Backpropagation (PRB) integrator\n",
    "- [<code>direct_reparam</code>][2]: reparameterized direct illumination integrator\n",
    "\n",
    "We are going to use the `direct_reparam` as it will be sufficient for this simple example. For instance we don't need the integrator to compute higher bounce effects such as global illumination.\n",
    "\n",
    "<div class=\"admonition important alert alert-block alert-success\">\n",
    "\n",
    "🚀 **What will you learn?**\n",
    "    \n",
    "<ul>\n",
    "  <li>Perform optimization with discontinuity-aware methods</li>\n",
    "  <li>Optimize latent variables to control the motion of an object</li>\n",
    "</ul>\n",
    "    \n",
    "</div>\n",
    "\n",
    "[1]: https://mitsuba3.readthedocs.io/en/latest/src/api_reference.html#mitsuba.ad.integrators.prb_reparam\n",
    "[2]: https://mitsuba3.readthedocs.io/en/latest/src/api_reference.html#mitsuba.ad.integrators.direct_reparam"
   ]
  },
  {
   "cell_type": "markdown",
   "metadata": {},
   "source": [
    "## Setup\n",
    "\n",
    "As always, let's import `drjit` and `mitsuba` and set a differentiation-aware variant."
   ]
  },
  {
   "cell_type": "code",
   "execution_count": 1,
   "metadata": {},
   "outputs": [],
   "source": [
    "import drjit as dr\n",
    "import mitsuba as mi\n",
    "\n",
    "mi.set_variant('llvm_ad_rgb')"
   ]
  },
  {
   "cell_type": "markdown",
   "metadata": {},
   "source": [
    "## `direct_reparam` and scene construction\n",
    "\n",
    "As stated in the intro, we will rely on the `direct_reparam` integrator for this tutorial to properly handle the visibility discontinuities in our differentiable simulation. In primal rendering, this integrator is identical to the `direct` integrator."
   ]
  },
  {
   "cell_type": "code",
   "execution_count": 2,
   "metadata": {},
   "outputs": [],
   "source": [
    "integrator = {\n",
    "    'type': 'direct_reparam',\n",
    "}"
   ]
  },
  {
   "cell_type": "markdown",
   "metadata": {},
   "source": [
    "We create a simple scene with a bunny placed in front of a gray wall, illuminated by an spherical light."
   ]
  },
  {
   "cell_type": "code",
   "execution_count": 3,
   "metadata": {},
   "outputs": [],
   "source": [
    "from mitsuba.scalar_rgb import Transform4f as T\n",
    "\n",
    "scene = mi.load_dict({\n",
    "    'type': 'scene',\n",
    "    'integrator': integrator,\n",
    "    'sensor':  {\n",
    "        'type': 'perspective',\n",
    "        'to_world': T.look_at(\n",
    "                        origin=(0, 0, 2),\n",
    "                        target=(0, 0, 0),\n",
    "                        up=(0, 1, 0)\n",
    "                    ),\n",
    "        'fov': 60,\n",
    "        'film': {\n",
    "            'type': 'hdrfilm',\n",
    "            'width': 64,\n",
    "            'height': 64,\n",
    "            'rfilter': { 'type': 'gaussian' },\n",
    "            'sample_border': True\n",
    "        },\n",
    "    },\n",
    "    'wall': {\n",
    "        'type': 'obj',\n",
    "        'filename': '../../scenes/meshes/rectangle.obj',\n",
    "        'to_world': T.translate([0, 0, -2]) * T.scale(2.0),\n",
    "        'face_normals': True,\n",
    "        'bsdf': {\n",
    "            'type': 'diffuse',\n",
    "            'reflectance': { 'type': 'rgb', 'value': (0.5, 0.5, 0.5) },\n",
    "        }\n",
    "    },\n",
    "    'bunny': {\n",
    "        'type': 'ply',\n",
    "        'filename': '../../scenes/meshes/bunny.ply',\n",
    "        'to_world': T.scale(6.5),\n",
    "        'bsdf': {\n",
    "            'type': 'diffuse',\n",
    "            'reflectance': { 'type': 'rgb', 'value': (0.3, 0.3, 0.75) },\n",
    "        },\n",
    "    },\n",
    "    'light': {\n",
    "        'type': 'obj',\n",
    "        'filename': '../../scenes/meshes/sphere.obj',\n",
    "        'emitter': {\n",
    "            'type': 'area',\n",
    "            'radiance': {'type': 'rgb', 'value': [1e3, 1e3, 1e3]}\n",
    "        },\n",
    "        'to_world': T.translate([2.5, 2.5, 7.0]) * T.scale(0.25)\n",
    "    }\n",
    "})"
   ]
  },
  {
   "cell_type": "markdown",
   "metadata": {},
   "source": [
    "## Reference image\n",
    "\n",
    "Next we generate a reference image before moving the bunny to a different position."
   ]
  },
  {
   "cell_type": "code",
   "execution_count": 4,
   "metadata": {
    "tags": []
   },
   "outputs": [
    {
     "data": {
      "text/html": [
       "<img src=\"data:image/png;base64, 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\"width=\"250vm\" />"
      ],
      "text/plain": [
       "Bitmap[\n",
       "  pixel_format = rgb,\n",
       "  component_format = uint8,\n",
       "  size = [64, 64],\n",
       "  srgb_gamma = 1,\n",
       "  struct = Struct<3>[\n",
       "    uint8 R; // @0, normalized, gamma, premultiplied alpha\n",
       "    uint8 G; // @1, normalized, gamma, premultiplied alpha\n",
       "    uint8 B; // @2, normalized, gamma, premultiplied alpha\n",
       "  ],\n",
       "  data = [ 12 KiB of image data ]\n",
       "]"
      ]
     },
     "execution_count": 4,
     "metadata": {},
     "output_type": "execute_result"
    }
   ],
   "source": [
    "img_ref = mi.render(scene, seed=0, spp=1024)\n",
    "\n",
    "mi.util.convert_to_bitmap(img_ref)"
   ]
  },
  {
   "cell_type": "markdown",
   "metadata": {},
   "source": [
    "## Optimizer and latent variables\n",
    "\n",
    "As done in previous tutorial, we access the scene parameters using the `traverse()` mechanism. We then store a copy of the initial vertex positions. Those will be used later to compute the new vertex positions at every iteration, always applying a different transformation on the same base shape. \n",
    "\n",
    "Since the vertex positions in `Mesh` are stored in a linear buffer (e.g. `x_1, y_1, z_1, x_2, y_2, z_2, ...`), we use the `dr.unravel()` routine to unflatten that array into a `Point3f` array."
   ]
  },
  {
   "cell_type": "code",
   "execution_count": 5,
   "metadata": {},
   "outputs": [],
   "source": [
    "params = mi.traverse(scene)\n",
    "initial_vertex_positions = dr.unravel(mi.Point3f, params['bunny.vertex_positions'])"
   ]
  },
  {
   "cell_type": "markdown",
   "metadata": {},
   "source": [
    "While it could be possible to optimize the vertex positions of the bunny independently, in this example we are only going to optimize for a translation and rotation parameter. This drastically constraints the optimization process and helps with the convergence.\n",
    "\n",
    "For this, we instantiate an optimizer and assign two variables to it: `angle` and `trans`."
   ]
  },
  {
   "cell_type": "code",
   "execution_count": 6,
   "metadata": {},
   "outputs": [],
   "source": [
    "opt = mi.ad.Adam(lr=0.025, params=params)\n",
    "opt['angle'] = mi.Float(0.25)\n",
    "opt['trans'] = mi.Point2f(0.1, -0.25)"
   ]
  },
  {
   "cell_type": "markdown",
   "metadata": {},
   "source": [
    "From the optimizer's point of view, those variables are the same as any other variables optimized in the previous tutorials, to the exception that when calling `opt.update()`, the optimizer doesn't know how to propagate their new values to the scene parameters. This has to be done *manually*, and we encapsulate exactly that logic in the function define here. More detailed explaination on this can be found [here][1].\n",
    "\n",
    "After clamping the optimized variables to a proper range, this function creates a transformation object combining a translation and rotation and applies it to the vertex positions stored previously. It then flattens those new vertex positions before assigning them to the scene parameters.\n",
    "\n",
    "[1]: https://mitsuba3.readthedocs.io/en/latest/src/tutorials/how_to_guides/use_optimizers.html#3.-Optimize-latent-variables"
   ]
  },
  {
   "cell_type": "code",
   "execution_count": 7,
   "metadata": {},
   "outputs": [],
   "source": [
    "def apply_transformation(params, opt):\n",
    "    opt['trans'] = dr.clamp(opt['trans'], -0.5, 0.5)\n",
    "    opt['angle'] = dr.clamp(opt['angle'], -0.5, 0.5)\n",
    "    \n",
    "    trafo = mi.Transform4f.translate([opt['trans'].x, opt['trans'].y, 0.0]) * \\\n",
    "            mi.Transform4f.rotate([0, 1, 0], opt['angle'] * 100.0)\n",
    "    \n",
    "    params['bunny.vertex_positions'] = dr.ravel(trafo @ initial_vertex_positions)"
   ]
  },
  {
   "cell_type": "markdown",
   "metadata": {},
   "source": [
    "It is now time to apply our first transformation to get the bunny to its initial position before starting the optimization."
   ]
  },
  {
   "cell_type": "code",
   "execution_count": 8,
   "metadata": {},
   "outputs": [
    {
     "data": {
      "text/html": [
       "<img src=\"data:image/png;base64, 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\"width=\"250vm\" />"
      ],
      "text/plain": [
       "Bitmap[\n",
       "  pixel_format = rgb,\n",
       "  component_format = uint8,\n",
       "  size = [64, 64],\n",
       "  srgb_gamma = 1,\n",
       "  struct = Struct<3>[\n",
       "    uint8 R; // @0, normalized, gamma, premultiplied alpha\n",
       "    uint8 G; // @1, normalized, gamma, premultiplied alpha\n",
       "    uint8 B; // @2, normalized, gamma, premultiplied alpha\n",
       "  ],\n",
       "  data = [ 12 KiB of image data ]\n",
       "]"
      ]
     },
     "execution_count": 8,
     "metadata": {},
     "output_type": "execute_result"
    }
   ],
   "source": [
    "apply_transformation(params, opt)\n",
    "\n",
    "opt.update()\n",
    "\n",
    "img_init = mi.render(scene, seed=0, spp=1024)\n",
    "\n",
    "mi.util.convert_to_bitmap(img_init)"
   ]
  },
  {
   "cell_type": "markdown",
   "metadata": {},
   "source": [
    "The optimization loop written below is very similar to the one used in the other tutorials, except that we need to apply the transformation after taking a gradient step at every iterations."
   ]
  },
  {
   "cell_type": "code",
   "execution_count": 9,
   "metadata": {},
   "outputs": [
    {
     "name": "stdout",
     "output_type": "stream",
     "text": [
      "Iteration 49: error=0.002783, angle=0.0057, trans=[-0.0009, -0.0021]\r"
     ]
    }
   ],
   "source": [
    "loss_hist = []\n",
    "for it in range(50):\n",
    "    img = mi.render(scene, params, seed=it, spp=16)\n",
    "    \n",
    "    loss = dr.hsum_async(dr.sqr(img - img_ref)) / len(img)\n",
    "    \n",
    "    dr.backward(loss)\n",
    "\n",
    "    opt.step()\n",
    "    \n",
    "    apply_transformation(params, opt)\n",
    "\n",
    "    opt.update()\n",
    "\n",
    "    loss_hist.append(loss)\n",
    "    print(f\"Iteration {it:02d}: error={loss[0]:6f}, angle={opt['angle'][0]:.4f}, trans=[{opt['trans'].x[0]:.4f}, {opt['trans'].y[0]:.4f}]\", end='\\r')"
   ]
  },
  {
   "cell_type": "markdown",
   "metadata": {},
   "source": [
    "## Visualize the results\n",
    "\n",
    "Finally, let's visualize the results and plot the loss over iterations"
   ]
  },
  {
   "cell_type": "code",
   "execution_count": 10,
   "metadata": {
    "nbsphinx-thumbnail": {},
    "tags": []
   },
   "outputs": [
    {
     "data": {
      "image/png": "[encoded data removed]",
      "text/plain": [
       "<Figure size 720x720 with 4 Axes>"
      ]
     },
     "metadata": {
      "needs_background": "light"
     },
     "output_type": "display_data"
    }
   ],
   "source": [
    "from matplotlib import pyplot as plt\n",
    "\n",
    "fig, axs = plt.subplots(2, 2, figsize=(10, 10))\n",
    "\n",
    "axs[0][0].plot(loss_hist)\n",
    "axs[0][0].set_xlabel('iteration'); \n",
    "axs[0][0].set_ylabel('Loss'); \n",
    "axs[0][0].set_title('Parameter error plot');\n",
    "\n",
    "axs[0][1].imshow(mi.util.convert_to_bitmap(img_init))\n",
    "axs[0][1].axis('off')\n",
    "axs[0][1].set_title('Initial Image')\n",
    "\n",
    "axs[1][0].imshow(mi.util.convert_to_bitmap(mi.render(scene, spp=1024)))\n",
    "axs[1][0].axis('off')\n",
    "axs[1][0].set_title('Optimized image')\n",
    "\n",
    "axs[1][1].imshow(mi.util.convert_to_bitmap(img_ref))\n",
    "axs[1][1].axis('off')\n",
    "axs[1][1].set_title('Reference Image');"
   ]
  },
  {
   "cell_type": "markdown",
   "metadata": {},
   "source": [
    "## See also\n",
    "\n",
    "- [Detailed look at Optimizer](https://mitsuba3.readthedocs.io/en/latest/src/tutorials/how_to_guides/use_optimizers.html)\n",
    "- [<code>mitsuba.ad.Optimizer</code>](https://mitsuba3.readthedocs.io/en/latest/src/api_reference.html#mitsuba.ad.Optimizer)\n",
    "- [<code>mitsuba.ad.integrators.prb_reparam</code>](https://mitsuba3.readthedocs.io/en/latest/src/api_reference.html#mitsuba.ad.integrators.prb_reparam)\n",
    "- [<code>mitsuba.ad.integrators.direct_reparam</code>](https://mitsuba3.readthedocs.io/en/latest/src/api_reference.html#mitsuba.ad.integrators.direct_reparam)"
   ]
  }
 ],
 "metadata": {
  "interpreter": {
   "hash": "324262bda25e4aeb89fac5521e5e52d6dea4600b0315b63007798d9c65d5c62c"
  },
  "kernelspec": {
   "display_name": "Python 3 (ipykernel)",
   "language": "python",
   "name": "python3"
  },
  "language_info": {
   "codemirror_mode": {
    "name": "ipython",
    "version": 3
   },
   "file_extension": ".py",
   "mimetype": "text/x-python",
   "name": "python",
   "nbconvert_exporter": "python",
   "pygments_lexer": "ipython3",
   "version": "3.9.12"
  }
 },
 "nbformat": 4,
 "nbformat_minor": 4
}
