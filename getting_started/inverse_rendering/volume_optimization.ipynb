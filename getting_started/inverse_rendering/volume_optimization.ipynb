{
 "cells": [
  {
   "cell_type": "markdown",
   "id": "f53b58d7-4a4c-41cd-b689-c42462d7c464",
   "metadata": {},
   "source": [
    "# Volumetric inverse rendering"
   ]
  },
  {
   "cell_type": "markdown",
   "id": "2c00d2cc-3e22-464c-bf13-cf703e29cf23",
   "metadata": {},
   "source": [
    "## Overview\n",
    "\n",
    "In this tutorial, we are going to see how to use volumetric inverse rendering to optimize a volume grid to match the appearance of a mesh.\n",
    "\n",
    "<div class=\"admonition important alert alert-block alert-success\">\n",
    "\n",
    "🚀 **What will you learn?**\n",
    "    \n",
    "    \n",
    "<ul>\n",
    "  <li>Construct a scene with volumes</li>\n",
    "  <li>Add regularization term to your objective function</li>\n",
    "  <li>Optimize a volume grid to match a set of reference images</li>\n",
    "</ul>\n",
    "    \n",
    "</div>\n"
   ]
  },
  {
   "cell_type": "markdown",
   "id": "644bbd28-7d4b-4494-8926-d8a1e892d69d",
   "metadata": {},
   "source": [
    "## Step 1 - Setup\n",
    "\n",
    "As always, we start with the usual imports and set a variant that supports automatic differentation."
   ]
  },
  {
   "cell_type": "code",
   "execution_count": 1,
   "id": "83ec80cc-d2a5-46da-83bd-cd66f8947a23",
   "metadata": {},
   "outputs": [],
   "source": [
    "import matplotlib.pyplot as plt \n",
    "\n",
    "import drjit as dr\n",
    "import mitsuba as mi\n",
    "\n",
    "mi.set_variant('llvm_ad_rgb')"
   ]
  },
  {
   "cell_type": "markdown",
   "id": "fbd1cb4f-c4e5-4bf7-9b24-417c4ee080a9",
   "metadata": {},
   "source": [
    "## Step 2 - Create sensors\n",
    "\n",
    "There are often many solutions to a given set of constraints when optimizing a volume grid, which often don't generalize. For instance, if we optimize a volume given a single reference image, the optimized volume is likely to only contain dense voxels in the part closer to the camera, which would look wrong from a different angle. \n",
    "\n",
    "Therefore, multi-view optimization must be used to optimize a volume that looks reasonable from other points of view. In this tutorial, we first create 5 sensors placed around the origin on a half circle."
   ]
  },
  {
   "cell_type": "code",
   "execution_count": 2,
   "id": "10333b5e-eb4a-4b97-bb97-7895f2d8cd0d",
   "metadata": {},
   "outputs": [],
   "source": [
    "from mitsuba.scalar_rgb import ScalarTransform4f as T\n",
    "\n",
    "sensor_count = 5\n",
    "sensors = []\n",
    "\n",
    "for i in range(sensor_count):\n",
    "    angle = 180.0 / sensor_count * i - 90.0 \n",
    "    sensor_rotation = T.rotate([0, 1, 0], angle) \n",
    "    sensor_to_world = T.look_at(\n",
    "        target=[0, 0, 0],\n",
    "        origin=[0, 0, 4],\n",
    "        up=[0, 1, 0]\n",
    "    )\n",
    "    sensors.append(mi.load_dict({\n",
    "        'type': 'perspective',\n",
    "        'near_clip': 1,\n",
    "        'far_clip': 1000,\n",
    "        'fov': 45,\n",
    "        'to_world': sensor_rotation * sensor_to_world,\n",
    "        'film': {\n",
    "            'type': 'hdrfilm',\n",
    "            'width': 64,\n",
    "            'height': 64,\n",
    "            'pixel_format': 'rgb',\n",
    "        }\n",
    "    }))"
   ]
  },
  {
   "cell_type": "markdown",
   "id": "bddf2808-6b4f-49a8-b3c2-3d390c17e406",
   "metadata": {},
   "source": [
    "## Step 3 - Reference scene\n",
    "\n",
    "Let's now create a simple scene with constant illumation and a Stanford Bunny placed at the origin. We render this with all the sensors we created in the last step and store those in an array for later use."
   ]
  },
  {
   "cell_type": "code",
   "execution_count": 3,
   "id": "021d2244-3224-4da5-a453-328920b8c550",
   "metadata": {},
   "outputs": [
    {
     "data": {
      "text/html": [
       "<span style=\"font-family: monospace; color: #f55\">2022-04-07 15:56:35 WARN  main  [Scene] No sensors found! Instantiating a perspective camera..</span>"
      ]
     },
     "metadata": {},
     "output_type": "display_data"
    }
   ],
   "source": [
    "scene_dict = {\n",
    "    'type': 'scene',\n",
    "    'integrator': {\n",
    "        'type': 'prbvolpath',\n",
    "    },\n",
    "    'object': {\n",
    "        'type': 'ply',\n",
    "        'filename': '../../scenes/meshes/bunny.ply',\n",
    "        'to_world': T.scale(8.0),\n",
    "        'bsdf': {\n",
    "            'type': 'diffuse',\n",
    "            'reflectance': { 'type': 'rgb', 'value': [0.4, 0.4, 0.4] },\n",
    "        },\n",
    "    },\n",
    "    'emitter': { 'type': 'constant' }\n",
    "}\n",
    "\n",
    "scene_ref = mi.load_dict(scene_dict)"
   ]
  },
  {
   "cell_type": "code",
   "execution_count": 4,
   "id": "16008559-86a3-4b9f-80e2-c28ccb5aac37",
   "metadata": {},
   "outputs": [],
   "source": [
    "ref_images = [mi.render(scene_ref, sensor=sensors[i], spp=128) for i in range(sensor_count)]"
   ]
  },
  {
   "cell_type": "code",
   "execution_count": 5,
   "id": "142d1dd5-6693-4030-a942-35ff70b7b826",
   "metadata": {},
   "outputs": [
    {
     "data": {
      "image/png": "[encoded data removed]",
      "text/plain": [
       "<Figure size 1008x288 with 5 Axes>"
      ]
     },
     "metadata": {
      "needs_background": "light"
     },
     "output_type": "display_data"
    }
   ],
   "source": [
    "fig, axs = plt.subplots(1, sensor_count, figsize=(14, 4))\n",
    "for i in range(sensor_count):\n",
    "    axs[i].imshow(mi.util.convert_to_bitmap(ref_images[i]))\n",
    "    axs[i].axis('off')"
   ]
  },
  {
   "cell_type": "markdown",
   "id": "825f10c4-265e-4f53-9515-7688b142c2db",
   "metadata": {},
   "source": [
    "## Step 4 - Optimization scene\n",
    "\n",
    "We modify the scene dictionary to replace the mesh object with a simple cube that contains a heterogeneous volume."
   ]
  },
  {
   "cell_type": "code",
   "execution_count": 6,
   "id": "82313a97-a314-43a3-8a4b-f4e32305f1a2",
   "metadata": {},
   "outputs": [
    {
     "name": "stdout",
     "output_type": "stream",
     "text": [
      "HOLA1\n",
      "HOLA2\n"
     ]
    },
    {
     "data": {
      "text/html": [
       "<span style=\"font-family: monospace; color: #f55\">2022-04-07 15:56:36 WARN  main  [Scene] No sensors found! Instantiating a perspective camera..</span>"
      ]
     },
     "metadata": {},
     "output_type": "display_data"
    }
   ],
   "source": [
    "volume_res = 8\n",
    "\n",
    "# Update the scene dictionary\n",
    "scene_dict['object'] = { \n",
    "    'type': 'cube',\n",
    "    'interior': {\n",
    "        'type': 'heterogeneous',\n",
    "        'sigma_t': {\n",
    "            'type': 'gridvolume',\n",
    "            'grid': mi.VolumeGrid(dr.full(mi.TensorXf, 0.002, (volume_res, volume_res, volume_res, 1))),\n",
    "            'to_world': T.translate(-1) * T.scale(2.0)\n",
    "        },\n",
    "        'albedo': {\n",
    "            'type': 'constvolume',\n",
    "            'value': { 'type': 'rgb', 'value': [0.4, 0.4, 0.4] },\n",
    "            'to_world': T.translate(-1) * T.scale(2.0)\n",
    "        },\n",
    "        'phase': {\n",
    "            'type': 'isotropic'\n",
    "        },\n",
    "        'scale': 25.0,\n",
    "        'sample_emitters': False,\n",
    "    },\n",
    "    'bsdf': {\n",
    "        'type': 'dielectric',\n",
    "        'int_ior': 'air',\n",
    "    },\n",
    "}\n",
    "\n",
    "scene = mi.load_dict(scene_dict)"
   ]
  },
  {
   "cell_type": "markdown",
   "id": "5890a714-a81c-4f37-bc9f-7ec2e4335a6a",
   "metadata": {},
   "source": [
    "We visualize the modified scene from all view angles. Those are going to be our initial image in the optimization process."
   ]
  },
  {
   "cell_type": "code",
   "execution_count": 7,
   "id": "91050ab4-91ac-413b-89c0-959d024498e0",
   "metadata": {},
   "outputs": [
    {
     "data": {
      "image/png": "[encoded data removed]",
      "text/plain": [
       "<Figure size 1008x288 with 5 Axes>"
      ]
     },
     "metadata": {
      "needs_background": "light"
     },
     "output_type": "display_data"
    }
   ],
   "source": [
    "init_images = [mi.render(scene, sensor=sensors[i], spp=128) for i in range(sensor_count)]\n",
    "\n",
    "fig, axs = plt.subplots(1, sensor_count, figsize=(14, 4))\n",
    "for i in range(sensor_count):\n",
    "    axs[i].imshow(mi.util.convert_to_bitmap(init_images[i]))\n",
    "    axs[i].axis('off')"
   ]
  },
  {
   "cell_type": "markdown",
   "id": "3a1cf830-9ad3-4bd7-98ca-3840e3179378",
   "metadata": {},
   "source": [
    "## Step 5 - Optimization\n",
    "\n",
    "We instantiate an `Adam` optimizer and load the `sigma_t` grid data as parameter to be optimized."
   ]
  },
  {
   "cell_type": "code",
   "execution_count": 8,
   "id": "41f4e964-c5f9-4d7d-81d3-e8669bf153c0",
   "metadata": {},
   "outputs": [
    {
     "name": "stdout",
     "output_type": "stream",
     "text": [
      "HOLA1\n",
      "HOLA2\n"
     ]
    }
   ],
   "source": [
    "params = mi.traverse(scene)\n",
    "\n",
    "key = 'object.interior_medium.sigma_t.data'\n",
    "\n",
    "opt = mi.ad.Adam(lr=0.02, params=params)\n",
    "opt.load(key)\n",
    "opt.update()"
   ]
  },
  {
   "cell_type": "markdown",
   "id": "210af9ef-b720-4d60-842a-88daa316db9f",
   "metadata": {},
   "source": [
    "We perform the optimization loop, similarily to the other tutorials.\n",
    "\n",
    "One important detail here is the use of a regularization term to minimize the total density in the volume. This will help the volume to focus on the parts that are important, and make the non-relevant parts of the volume to disappear."
   ]
  },
  {
   "cell_type": "code",
   "execution_count": 9,
   "id": "4af17b50-c809-472e-a55d-4b1589a5e84a",
   "metadata": {},
   "outputs": [
    {
     "name": "stdout",
     "output_type": "stream",
     "text": [
      "HOLA1\n",
      "HOLA2\n",
      "HOLA1\n",
      "HOLA2\n",
      "HOLA1\n",
      "HOLA2\n",
      "HOLA1\n",
      "HOLA2\n",
      "HOLA1\n",
      "HOLA2\n",
      "Iteration 00: error=0.107879\r"
     ]
    }
   ],
   "source": [
    "losses = []\n",
    "\n",
    "for it in range(1):\n",
    "    total_loss = 0.0\n",
    "    for sensor_idx in range(sensor_count):\n",
    "        # Perform the differentiable light transport simulation\n",
    "        img = mi.render(scene, params, sensor=sensors[sensor_idx], spp=16, seed=it)\n",
    "        \n",
    "        # L2 loss function\n",
    "        loss = dr.hsum_async(dr.sqr(img - ref_images[sensor_idx])) / len(img)\n",
    "        \n",
    "        # Regularization term: minimize total density in the volume\n",
    "        reg = dr.hmean_async(opt[key])\n",
    "        \n",
    "        # Backpropagate gradients for both the loss and regularization terms\n",
    "        dr.backward(loss + reg)\n",
    "\n",
    "        # Take a gradient step\n",
    "        opt.step()\n",
    "        \n",
    "        # Clamp the optimized values to a valid range\n",
    "        opt[key] = dr.clamp(opt[key], 1e-6, 1.0)\n",
    "        \n",
    "        # Propagate changes to the scene\n",
    "        opt.update()\n",
    "        \n",
    "        total_loss += loss[0]\n",
    "\n",
    "    losses.append(total_loss)\n",
    "    print(f\"Iteration {it:02d}: error={total_loss:6f}\", end='\\r')"
   ]
  },
  {
   "cell_type": "markdown",
   "id": "f046cdc9-572e-43a1-b281-3ae65a29097e",
   "metadata": {},
   "source": [
    "## Step 6 - Intermediate results\n",
    "\n",
    "Finally we can take a look at the resulting volume from the different points of view."
   ]
  },
  {
   "cell_type": "code",
   "execution_count": 10,
   "id": "74c3bf2f-21f7-4635-8fce-261a70cd5062",
   "metadata": {},
   "outputs": [],
   "source": [
    "intermediate_images = [mi.render(scene, sensor=sensors[i], spp=128) for i in range(sensor_count)]\n",
    "\n",
    "for i in range(sensor_count):\n",
    "    axs[i].imshow(mi.util.convert_to_bitmap(intermediate_images[i]))\n",
    "    axs[i].axis('off')"
   ]
  },
  {
   "cell_type": "markdown",
   "id": "c597b6e9-ca45-441b-ab6d-9bea4f35d329",
   "metadata": {},
   "source": [
    "## Step 7 - Volume upscaling\n",
    "\n",
    "The results above don't look great. On of the reason is the very low resolution of the optimized volume grid. Let's try to increase the resolution of the current grid and continue the optimization for a few more iterations.\n",
    "In practice it is recommended to leverage such a \"multi-resolution\" approach. At low resolution, the optimization will learn the overall shape, exploring a much coarsed solution landscape. Moving on to a volume with a higher resolution allows the solution to be refined, while already starting with a good guess."
   ]
  },
  {
   "cell_type": "code",
   "execution_count": 11,
   "id": "bbdfe9de-d1b2-4d06-89ed-ce2d93d1c383",
   "metadata": {},
   "outputs": [
    {
     "name": "stdout",
     "output_type": "stream",
     "text": [
      "HOLA1\n",
      "HOLA2\n"
     ]
    },
    {
     "ename": "RuntimeError",
     "evalue": "Texture::set_value2(): unexpected array size!",
     "output_type": "error",
     "traceback": [
      "\u001b[0;31m---------------------------------------------------------------------------\u001b[0m",
      "\u001b[0;31mRuntimeError\u001b[0m                              Traceback (most recent call last)",
      "Input \u001b[0;32mIn [11]\u001b[0m, in \u001b[0;36m<module>\u001b[0;34m\u001b[0m\n\u001b[1;32m     10\u001b[0m opt[key] \u001b[38;5;241m=\u001b[39m mi\u001b[38;5;241m.\u001b[39mTensorXf(dr\u001b[38;5;241m.\u001b[39mgather(mi\u001b[38;5;241m.\u001b[39mFloat, opt[key]\u001b[38;5;241m.\u001b[39marray, index), (new_volume_res, new_volume_res, new_volume_res, \u001b[38;5;241m1\u001b[39m))\n\u001b[1;32m     12\u001b[0m opt[key]\n\u001b[0;32m---> 14\u001b[0m \u001b[43mopt\u001b[49m\u001b[38;5;241;43m.\u001b[39;49m\u001b[43mupdate\u001b[49m\u001b[43m(\u001b[49m\u001b[43m)\u001b[49m\n",
      "File \u001b[0;32m~/projects/mitsuba3/build/python/mitsuba/python/ad/optimizers.py:133\u001b[0m, in \u001b[0;36mOptimizer.update\u001b[0;34m(self, keys)\u001b[0m\n\u001b[1;32m    130\u001b[0m         \u001b[38;5;28mself\u001b[39m\u001b[38;5;241m.\u001b[39mparams[k] \u001b[38;5;241m=\u001b[39m \u001b[38;5;28mself\u001b[39m\u001b[38;5;241m.\u001b[39mvariables[k]\n\u001b[1;32m    132\u001b[0m dr\u001b[38;5;241m.\u001b[39mschedule(\u001b[38;5;28mself\u001b[39m\u001b[38;5;241m.\u001b[39mparams)\n\u001b[0;32m--> 133\u001b[0m \u001b[38;5;28;43mself\u001b[39;49m\u001b[38;5;241;43m.\u001b[39;49m\u001b[43mparams\u001b[49m\u001b[38;5;241;43m.\u001b[39;49m\u001b[43mupdate\u001b[49m\u001b[43m(\u001b[49m\u001b[43m)\u001b[49m\n",
      "File \u001b[0;32m~/projects/mitsuba3/build/python/mitsuba/python/util.py:138\u001b[0m, in \u001b[0;36mSceneParameters.update\u001b[0;34m(self)\u001b[0m\n\u001b[1;32m    136\u001b[0m work_list \u001b[38;5;241m=\u001b[39m \u001b[38;5;28mreversed\u001b[39m(\u001b[38;5;28msorted\u001b[39m(work_list, key\u001b[38;5;241m=\u001b[39m\u001b[38;5;28;01mlambda\u001b[39;00m x: x[\u001b[38;5;241m0\u001b[39m]))\n\u001b[1;32m    137\u001b[0m \u001b[38;5;28;01mfor\u001b[39;00m depth, node, keys \u001b[38;5;129;01min\u001b[39;00m work_list:\n\u001b[0;32m--> 138\u001b[0m     \u001b[43mnode\u001b[49m\u001b[38;5;241;43m.\u001b[39;49m\u001b[43mparameters_changed\u001b[49m\u001b[43m(\u001b[49m\u001b[43mkeys\u001b[49m\u001b[43m)\u001b[49m\n\u001b[1;32m    139\u001b[0m \u001b[38;5;28mself\u001b[39m\u001b[38;5;241m.\u001b[39mupdate_list\u001b[38;5;241m.\u001b[39mclear()\n\u001b[1;32m    140\u001b[0m dr\u001b[38;5;241m.\u001b[39meval()\n",
      "\u001b[0;31mRuntimeError\u001b[0m: Texture::set_value2(): unexpected array size!"
     ]
    }
   ],
   "source": [
    "new_volume_res = 64\n",
    "\n",
    "idx = dr.arange(mi.UInt32, new_volume_res ** 3)\n",
    "idx_x = (idx // 2) % volume_res\n",
    "idx_y = (idx // (new_volume_res * 2)) % volume_res\n",
    "idx_z = (idx // (new_volume_res ** 2 * 2)) % volume_res\n",
    "index = (idx_x + idx_y * volume_res + idx_z * volume_res**2) + idx\n",
    "\n",
    "opt[key] = mi.TensorXf(dr.gather(mi.Float, opt[key].array, index), (new_volume_res, new_volume_res, new_volume_res, 1))\n",
    "\n",
    "opt[key]\n",
    "\n",
    "opt.update()"
   ]
  },
  {
   "cell_type": "code",
   "execution_count": null,
   "id": "352c5176-ded0-4d13-8996-5d4dbe006c3b",
   "metadata": {},
   "outputs": [],
   "source": [
    "intermediate_2_images = [mi.render(scene, sensor=sensors[i], spp=128) for i in range(sensor_count)]\n",
    "\n",
    "for i in range(sensor_count):\n",
    "    axs[i].imshow(mi.util.convert_to_bitmap(intermediate_2_images[i]))\n",
    "    axs[i].axis('off')"
   ]
  },
  {
   "cell_type": "code",
   "execution_count": null,
   "id": "57383d4d-780f-4824-a679-5021ca6d6a19",
   "metadata": {
    "nbsphinx-thumbnail": {},
    "tags": []
   },
   "outputs": [],
   "source": [
    "fig, axs = plt.subplots(3, sensor_count, figsize=(14, 8))\n",
    "for i in range(sensor_count):\n",
    "    axs[0][i].imshow(mi.util.convert_to_bitmap(ref_images[i]))\n",
    "    axs[0][i].axis('off')\n",
    "    axs[1][i].imshow(mi.util.convert_to_bitmap(init_images[i]))\n",
    "    axs[1][i].axis('off')\n",
    "    axs[2][i].imshow(mi.util.convert_to_bitmap(final_images[i]))\n",
    "    axs[2][i].axis('off')"
   ]
  },
  {
   "cell_type": "markdown",
   "id": "f4473987-40c1-4d8a-b133-fc8d7e319420",
   "metadata": {},
   "source": [
    "<div class=\"admonition note alert alert-block alert-info\">\n",
    "\n",
    "📑 **See also**\n",
    "    \n",
    "<ul>\n",
    "  <li><a href=\"url\"><tt>mitsuba.load_dict</tt></a></li>\n",
    "</ul>\n",
    "    \n",
    "</div>"
   ]
  }
 ],
 "metadata": {
  "kernelspec": {
   "display_name": "Python 3 (ipykernel)",
   "language": "python",
   "name": "python3"
  },
  "language_info": {
   "codemirror_mode": {
    "name": "ipython",
    "version": 3
   },
   "file_extension": ".py",
   "mimetype": "text/x-python",
   "name": "python",
   "nbconvert_exporter": "python",
   "pygments_lexer": "ipython3",
   "version": "3.9.10"
  }
 },
 "nbformat": 4,
 "nbformat_minor": 5
}
